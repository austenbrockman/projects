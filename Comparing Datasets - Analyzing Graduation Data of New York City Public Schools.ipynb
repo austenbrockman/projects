{
 "cells": [
  {
   "cell_type": "markdown",
   "metadata": {},
   "source": [
    "# Independent Project: Comparing Datasets -  Analyzing Graduation Data of New York City Public Schools\n",
    "\n",
    "In New York state, students are required to pass an exam known as the Regents exam in order to earn their high school diploma. Historically, students were able to earn an equivalent diploma without passing the Regents exam, called the Local diploma. Beginning in 2019, [students entering the 9th grade no longer have the option to earn a local diploma](https://en.wikipedia.org/wiki/Regents_Examinations#Exam_requirements), and are required to pass the Regents exam to earn their diploma (an exception is made for students with disabilities). I hypothesize that due to existing inequalities, this will disproportionately affect Black and Latino students, leading to fewer students in these demographics earning their high school diploma. Not having a high school diploma is linked to negative life paths: high school dropouts have much [lower earnings, higher incarceration rates](https://education.seattlepi.com/effects-high-school-students-not-finishing-high-school-3118.html), and even [worse health outcomes](https://theconversation.com/the-data-is-in-americans-who-dont-finish-high-school-are-less-healthy-than-the-rest-of-the-us-103663) than people who finish high school. If my hypothesis is correct, the elimination of the Local diploma runs the risk of increasing long-term racial inequalities in New York City. \n",
    "\n",
    "To verify my hypothesis, I used [this dataset](https://data.cityofnewyork.us/Education/2005-2010-Graduation-Outcomes-School-Level/vh2h-md7a) from NYC Open Data to examine the trend in Local diploma graduates in New York City. However, this dataset only has data from 2005-2010 graduations; based on the trend I saw on this data, I decided to look at a [dataset with graduation info through 2018.](https://data.cityofnewyork.us/Education/2016-2017-Graduation-Outcomes-School/nb39-jx2v) Using the newer dataset, I calculated trendlines for the Local diploma graduation rates of different racial groups. The trends in this data showed that a higher share of Black and Latino students earn Local Diplomas, and that the percentage of students earning Local Diplomas has been steadily increasing in recent years. \n",
    "\n",
    "\n",
    "## Part 1: 2005-2010 Graduation Data"
   ]
  },
  {
   "cell_type": "code",
   "execution_count": 1,
   "metadata": {},
   "outputs": [
    {
     "data": {
      "text/html": [
       "<div>\n",
       "<style scoped>\n",
       "    .dataframe tbody tr th:only-of-type {\n",
       "        vertical-align: middle;\n",
       "    }\n",
       "\n",
       "    .dataframe tbody tr th {\n",
       "        vertical-align: top;\n",
       "    }\n",
       "\n",
       "    .dataframe thead th {\n",
       "        text-align: right;\n",
       "    }\n",
       "</style>\n",
       "<table border=\"1\" class=\"dataframe\">\n",
       "  <thead>\n",
       "    <tr style=\"text-align: right;\">\n",
       "      <th></th>\n",
       "      <th>Demographic</th>\n",
       "      <th>DBN</th>\n",
       "      <th>School Name</th>\n",
       "      <th>Cohort</th>\n",
       "      <th>Total Cohort</th>\n",
       "      <th>Total Grads - n</th>\n",
       "      <th>Total Grads - % of cohort</th>\n",
       "      <th>Total Regents - n</th>\n",
       "      <th>Total Regents - % of cohort</th>\n",
       "      <th>Total Regents - % of grads</th>\n",
       "      <th>...</th>\n",
       "      <th>Regents w/o Advanced - n</th>\n",
       "      <th>Regents w/o Advanced - % of cohort</th>\n",
       "      <th>Regents w/o Advanced - % of grads</th>\n",
       "      <th>Local - n</th>\n",
       "      <th>Local - % of cohort</th>\n",
       "      <th>Local - % of grads</th>\n",
       "      <th>Still Enrolled - n</th>\n",
       "      <th>Still Enrolled - % of cohort</th>\n",
       "      <th>Dropped Out - n</th>\n",
       "      <th>Dropped Out - % of cohort</th>\n",
       "    </tr>\n",
       "  </thead>\n",
       "  <tbody>\n",
       "    <tr>\n",
       "      <th>0</th>\n",
       "      <td>Total Cohort</td>\n",
       "      <td>01M292</td>\n",
       "      <td>HENRY STREET SCHOOL FOR INTERNATIONAL</td>\n",
       "      <td>2003</td>\n",
       "      <td>5</td>\n",
       "      <td>s</td>\n",
       "      <td>NaN</td>\n",
       "      <td>s</td>\n",
       "      <td>NaN</td>\n",
       "      <td>NaN</td>\n",
       "      <td>...</td>\n",
       "      <td>s</td>\n",
       "      <td>NaN</td>\n",
       "      <td>NaN</td>\n",
       "      <td>s</td>\n",
       "      <td>NaN</td>\n",
       "      <td>NaN</td>\n",
       "      <td>s</td>\n",
       "      <td>NaN</td>\n",
       "      <td>s</td>\n",
       "      <td>NaN</td>\n",
       "    </tr>\n",
       "    <tr>\n",
       "      <th>1</th>\n",
       "      <td>Total Cohort</td>\n",
       "      <td>01M292</td>\n",
       "      <td>HENRY STREET SCHOOL FOR INTERNATIONAL</td>\n",
       "      <td>2004</td>\n",
       "      <td>55</td>\n",
       "      <td>37</td>\n",
       "      <td>67.3</td>\n",
       "      <td>17</td>\n",
       "      <td>30.9</td>\n",
       "      <td>45.9</td>\n",
       "      <td>...</td>\n",
       "      <td>17</td>\n",
       "      <td>30.9</td>\n",
       "      <td>45.9</td>\n",
       "      <td>20</td>\n",
       "      <td>36.4</td>\n",
       "      <td>54.1</td>\n",
       "      <td>15</td>\n",
       "      <td>27.3</td>\n",
       "      <td>3</td>\n",
       "      <td>5.5</td>\n",
       "    </tr>\n",
       "    <tr>\n",
       "      <th>2</th>\n",
       "      <td>Total Cohort</td>\n",
       "      <td>01M292</td>\n",
       "      <td>HENRY STREET SCHOOL FOR INTERNATIONAL</td>\n",
       "      <td>2005</td>\n",
       "      <td>64</td>\n",
       "      <td>43</td>\n",
       "      <td>67.2</td>\n",
       "      <td>27</td>\n",
       "      <td>42.2</td>\n",
       "      <td>62.8</td>\n",
       "      <td>...</td>\n",
       "      <td>27</td>\n",
       "      <td>42.2</td>\n",
       "      <td>62.8</td>\n",
       "      <td>16</td>\n",
       "      <td>25.0</td>\n",
       "      <td>37.2</td>\n",
       "      <td>9</td>\n",
       "      <td>14.1</td>\n",
       "      <td>9</td>\n",
       "      <td>14.1</td>\n",
       "    </tr>\n",
       "    <tr>\n",
       "      <th>3</th>\n",
       "      <td>Total Cohort</td>\n",
       "      <td>01M292</td>\n",
       "      <td>HENRY STREET SCHOOL FOR INTERNATIONAL</td>\n",
       "      <td>2006</td>\n",
       "      <td>78</td>\n",
       "      <td>43</td>\n",
       "      <td>55.1</td>\n",
       "      <td>36</td>\n",
       "      <td>46.2</td>\n",
       "      <td>83.7</td>\n",
       "      <td>...</td>\n",
       "      <td>36</td>\n",
       "      <td>46.2</td>\n",
       "      <td>83.7</td>\n",
       "      <td>7</td>\n",
       "      <td>9.0</td>\n",
       "      <td>16.3</td>\n",
       "      <td>16</td>\n",
       "      <td>20.5</td>\n",
       "      <td>11</td>\n",
       "      <td>14.1</td>\n",
       "    </tr>\n",
       "    <tr>\n",
       "      <th>4</th>\n",
       "      <td>Total Cohort</td>\n",
       "      <td>01M292</td>\n",
       "      <td>HENRY STREET SCHOOL FOR INTERNATIONAL</td>\n",
       "      <td>2006 Aug</td>\n",
       "      <td>78</td>\n",
       "      <td>44</td>\n",
       "      <td>56.4</td>\n",
       "      <td>37</td>\n",
       "      <td>47.4</td>\n",
       "      <td>84.1</td>\n",
       "      <td>...</td>\n",
       "      <td>37</td>\n",
       "      <td>47.4</td>\n",
       "      <td>84.1</td>\n",
       "      <td>7</td>\n",
       "      <td>9.0</td>\n",
       "      <td>15.9</td>\n",
       "      <td>15</td>\n",
       "      <td>19.2</td>\n",
       "      <td>11</td>\n",
       "      <td>14.1</td>\n",
       "    </tr>\n",
       "  </tbody>\n",
       "</table>\n",
       "<p>5 rows × 23 columns</p>\n",
       "</div>"
      ],
      "text/plain": [
       "    Demographic     DBN                            School Name    Cohort  \\\n",
       "0  Total Cohort  01M292  HENRY STREET SCHOOL FOR INTERNATIONAL      2003   \n",
       "1  Total Cohort  01M292  HENRY STREET SCHOOL FOR INTERNATIONAL      2004   \n",
       "2  Total Cohort  01M292  HENRY STREET SCHOOL FOR INTERNATIONAL      2005   \n",
       "3  Total Cohort  01M292  HENRY STREET SCHOOL FOR INTERNATIONAL      2006   \n",
       "4  Total Cohort  01M292  HENRY STREET SCHOOL FOR INTERNATIONAL  2006 Aug   \n",
       "\n",
       "   Total Cohort Total Grads - n  Total Grads - % of cohort Total Regents - n  \\\n",
       "0             5               s                        NaN                 s   \n",
       "1            55              37                       67.3                17   \n",
       "2            64              43                       67.2                27   \n",
       "3            78              43                       55.1                36   \n",
       "4            78              44                       56.4                37   \n",
       "\n",
       "   Total Regents - % of cohort  Total Regents - % of grads  ...  \\\n",
       "0                          NaN                         NaN  ...   \n",
       "1                         30.9                        45.9  ...   \n",
       "2                         42.2                        62.8  ...   \n",
       "3                         46.2                        83.7  ...   \n",
       "4                         47.4                        84.1  ...   \n",
       "\n",
       "  Regents w/o Advanced - n  Regents w/o Advanced - % of cohort  \\\n",
       "0                        s                                 NaN   \n",
       "1                       17                                30.9   \n",
       "2                       27                                42.2   \n",
       "3                       36                                46.2   \n",
       "4                       37                                47.4   \n",
       "\n",
       "   Regents w/o Advanced - % of grads Local - n  Local - % of cohort  \\\n",
       "0                                NaN         s                  NaN   \n",
       "1                               45.9        20                 36.4   \n",
       "2                               62.8        16                 25.0   \n",
       "3                               83.7         7                  9.0   \n",
       "4                               84.1         7                  9.0   \n",
       "\n",
       "   Local - % of grads Still Enrolled - n  Still Enrolled - % of cohort  \\\n",
       "0                 NaN                  s                           NaN   \n",
       "1                54.1                 15                          27.3   \n",
       "2                37.2                  9                          14.1   \n",
       "3                16.3                 16                          20.5   \n",
       "4                15.9                 15                          19.2   \n",
       "\n",
       "   Dropped Out - n Dropped Out - % of cohort  \n",
       "0                s                       NaN  \n",
       "1                3                       5.5  \n",
       "2                9                      14.1  \n",
       "3               11                      14.1  \n",
       "4               11                      14.1  \n",
       "\n",
       "[5 rows x 23 columns]"
      ]
     },
     "execution_count": 1,
     "metadata": {},
     "output_type": "execute_result"
    }
   ],
   "source": [
    "import pandas as pd \n",
    "import numpy as np\n",
    "import matplotlib.pyplot as plt\n",
    "grad_data = pd.read_csv('/Users/Austen/Desktop/python/2005-2010_Graduation_Outcomes_-_School_Level.csv')\n",
    "grad_data.head()"
   ]
  },
  {
   "cell_type": "code",
   "execution_count": 2,
   "metadata": {
    "scrolled": true
   },
   "outputs": [
    {
     "name": "stdout",
     "output_type": "stream",
     "text": [
      "<class 'pandas.core.frame.DataFrame'>\n",
      "RangeIndex: 25096 entries, 0 to 25095\n",
      "Data columns (total 23 columns):\n",
      " #   Column                              Non-Null Count  Dtype  \n",
      "---  ------                              --------------  -----  \n",
      " 0   Demographic                         25096 non-null  object \n",
      " 1   DBN                                 25096 non-null  object \n",
      " 2   School Name                         25096 non-null  object \n",
      " 3   Cohort                              25096 non-null  object \n",
      " 4   Total Cohort                        25096 non-null  int64  \n",
      " 5   Total Grads - n                     25096 non-null  object \n",
      " 6   Total Grads - % of cohort           16704 non-null  float64\n",
      " 7   Total Regents - n                   25096 non-null  object \n",
      " 8   Total Regents - % of cohort         16704 non-null  float64\n",
      " 9   Total Regents - % of grads          16652 non-null  float64\n",
      " 10  Advanced Regents - n                25096 non-null  object \n",
      " 11  Advanced Regents - % of cohort      16704 non-null  float64\n",
      " 12  Advanced Regents - % of grads       16652 non-null  float64\n",
      " 13  Regents w/o Advanced - n            25096 non-null  object \n",
      " 14  Regents w/o Advanced - % of cohort  16704 non-null  float64\n",
      " 15  Regents w/o Advanced - % of grads   16652 non-null  float64\n",
      " 16  Local - n                           25096 non-null  object \n",
      " 17  Local - % of cohort                 16704 non-null  float64\n",
      " 18  Local - % of grads                  16652 non-null  float64\n",
      " 19  Still Enrolled - n                  25096 non-null  object \n",
      " 20  Still Enrolled - % of cohort        16704 non-null  float64\n",
      " 21  Dropped Out - n                     25096 non-null  object \n",
      " 22  Dropped Out - % of cohort           16704 non-null  float64\n",
      "dtypes: float64(11), int64(1), object(11)\n",
      "memory usage: 4.4+ MB\n"
     ]
    }
   ],
   "source": [
    "grad_data.info()"
   ]
  },
  {
   "cell_type": "markdown",
   "metadata": {},
   "source": [
    "### 1.1: Data Cleaning\n",
    "There is a problem with this dataset - many of the numeric columns registered with an object data type. One of the most important ones is 'Cohort', which we can see from the head of the dataset contained non-numeric entries such as '2006 Aug'. Since the later date corresponds to the latest graduation data, I converted the date to only contain the year, and then keep the rows from August (where applicable).\n",
    "\n",
    "*Note: the 'Cohort' year is the year that students entered the 9th grade. The '2006 Aug' entry represents an August graduation date for students who entered high school in 2006.*\n",
    "\n",
    "If the cohort size was less than 20, then all data was surpressed, so I removed rows with fewer than 20 students. I am also focusing on racial demographics, so I also removed rows that measured statistics for non-racial demographics."
   ]
  },
  {
   "cell_type": "code",
   "execution_count": 3,
   "metadata": {},
   "outputs": [
    {
     "name": "stdout",
     "output_type": "stream",
     "text": [
      "['2003' '2004' '2005' '2006' '2006 Aug' '2001' '2002']\n"
     ]
    }
   ],
   "source": [
    "dates = grad_data['Cohort'].unique()\n",
    "print(dates)"
   ]
  },
  {
   "cell_type": "code",
   "execution_count": 4,
   "metadata": {},
   "outputs": [
    {
     "name": "stdout",
     "output_type": "stream",
     "text": [
      "4131\n"
     ]
    }
   ],
   "source": [
    "# Only the 2006 has a separate August entry, so I only need to clean that data point.\n",
    "aug = grad_data[grad_data['Cohort'] == '2006 Aug']\n",
    "print(len(aug))"
   ]
  },
  {
   "cell_type": "code",
   "execution_count": 5,
   "metadata": {},
   "outputs": [
    {
     "data": {
      "text/html": [
       "<div>\n",
       "<style scoped>\n",
       "    .dataframe tbody tr th:only-of-type {\n",
       "        vertical-align: middle;\n",
       "    }\n",
       "\n",
       "    .dataframe tbody tr th {\n",
       "        vertical-align: top;\n",
       "    }\n",
       "\n",
       "    .dataframe thead th {\n",
       "        text-align: right;\n",
       "    }\n",
       "</style>\n",
       "<table border=\"1\" class=\"dataframe\">\n",
       "  <thead>\n",
       "    <tr style=\"text-align: right;\">\n",
       "      <th></th>\n",
       "      <th>Demographic</th>\n",
       "      <th>DBN</th>\n",
       "      <th>School Name</th>\n",
       "      <th>Cohort</th>\n",
       "      <th>Total Cohort</th>\n",
       "      <th>Total Grads - n</th>\n",
       "      <th>Total Grads - % of cohort</th>\n",
       "      <th>Total Regents - n</th>\n",
       "      <th>Total Regents - % of cohort</th>\n",
       "      <th>Total Regents - % of grads</th>\n",
       "      <th>...</th>\n",
       "      <th>Regents w/o Advanced - n</th>\n",
       "      <th>Regents w/o Advanced - % of cohort</th>\n",
       "      <th>Regents w/o Advanced - % of grads</th>\n",
       "      <th>Local - n</th>\n",
       "      <th>Local - % of cohort</th>\n",
       "      <th>Local - % of grads</th>\n",
       "      <th>Still Enrolled - n</th>\n",
       "      <th>Still Enrolled - % of cohort</th>\n",
       "      <th>Dropped Out - n</th>\n",
       "      <th>Dropped Out - % of cohort</th>\n",
       "    </tr>\n",
       "  </thead>\n",
       "  <tbody>\n",
       "    <tr>\n",
       "      <th>0</th>\n",
       "      <td>Total Cohort</td>\n",
       "      <td>01M292</td>\n",
       "      <td>HENRY STREET SCHOOL FOR INTERNATIONAL</td>\n",
       "      <td>2003</td>\n",
       "      <td>5</td>\n",
       "      <td>s</td>\n",
       "      <td>NaN</td>\n",
       "      <td>s</td>\n",
       "      <td>NaN</td>\n",
       "      <td>NaN</td>\n",
       "      <td>...</td>\n",
       "      <td>s</td>\n",
       "      <td>NaN</td>\n",
       "      <td>NaN</td>\n",
       "      <td>s</td>\n",
       "      <td>NaN</td>\n",
       "      <td>NaN</td>\n",
       "      <td>s</td>\n",
       "      <td>NaN</td>\n",
       "      <td>s</td>\n",
       "      <td>NaN</td>\n",
       "    </tr>\n",
       "    <tr>\n",
       "      <th>1</th>\n",
       "      <td>Total Cohort</td>\n",
       "      <td>01M292</td>\n",
       "      <td>HENRY STREET SCHOOL FOR INTERNATIONAL</td>\n",
       "      <td>2004</td>\n",
       "      <td>55</td>\n",
       "      <td>37</td>\n",
       "      <td>67.3</td>\n",
       "      <td>17</td>\n",
       "      <td>30.9</td>\n",
       "      <td>45.9</td>\n",
       "      <td>...</td>\n",
       "      <td>17</td>\n",
       "      <td>30.9</td>\n",
       "      <td>45.9</td>\n",
       "      <td>20</td>\n",
       "      <td>36.4</td>\n",
       "      <td>54.1</td>\n",
       "      <td>15</td>\n",
       "      <td>27.3</td>\n",
       "      <td>3</td>\n",
       "      <td>5.5</td>\n",
       "    </tr>\n",
       "    <tr>\n",
       "      <th>2</th>\n",
       "      <td>Total Cohort</td>\n",
       "      <td>01M292</td>\n",
       "      <td>HENRY STREET SCHOOL FOR INTERNATIONAL</td>\n",
       "      <td>2005</td>\n",
       "      <td>64</td>\n",
       "      <td>43</td>\n",
       "      <td>67.2</td>\n",
       "      <td>27</td>\n",
       "      <td>42.2</td>\n",
       "      <td>62.8</td>\n",
       "      <td>...</td>\n",
       "      <td>27</td>\n",
       "      <td>42.2</td>\n",
       "      <td>62.8</td>\n",
       "      <td>16</td>\n",
       "      <td>25.0</td>\n",
       "      <td>37.2</td>\n",
       "      <td>9</td>\n",
       "      <td>14.1</td>\n",
       "      <td>9</td>\n",
       "      <td>14.1</td>\n",
       "    </tr>\n",
       "    <tr>\n",
       "      <th>4</th>\n",
       "      <td>Total Cohort</td>\n",
       "      <td>01M292</td>\n",
       "      <td>HENRY STREET SCHOOL FOR INTERNATIONAL</td>\n",
       "      <td>2006</td>\n",
       "      <td>78</td>\n",
       "      <td>44</td>\n",
       "      <td>56.4</td>\n",
       "      <td>37</td>\n",
       "      <td>47.4</td>\n",
       "      <td>84.1</td>\n",
       "      <td>...</td>\n",
       "      <td>37</td>\n",
       "      <td>47.4</td>\n",
       "      <td>84.1</td>\n",
       "      <td>7</td>\n",
       "      <td>9.0</td>\n",
       "      <td>15.9</td>\n",
       "      <td>15</td>\n",
       "      <td>19.2</td>\n",
       "      <td>11</td>\n",
       "      <td>14.1</td>\n",
       "    </tr>\n",
       "    <tr>\n",
       "      <th>5</th>\n",
       "      <td>Total Cohort</td>\n",
       "      <td>01M448</td>\n",
       "      <td>UNIVERSITY NEIGHBORHOOD HIGH SCHOOL</td>\n",
       "      <td>2001</td>\n",
       "      <td>64</td>\n",
       "      <td>46</td>\n",
       "      <td>71.9</td>\n",
       "      <td>32</td>\n",
       "      <td>50.0</td>\n",
       "      <td>69.6</td>\n",
       "      <td>...</td>\n",
       "      <td>25</td>\n",
       "      <td>39.1</td>\n",
       "      <td>54.3</td>\n",
       "      <td>14</td>\n",
       "      <td>21.9</td>\n",
       "      <td>30.4</td>\n",
       "      <td>10</td>\n",
       "      <td>15.6</td>\n",
       "      <td>6</td>\n",
       "      <td>9.4</td>\n",
       "    </tr>\n",
       "  </tbody>\n",
       "</table>\n",
       "<p>5 rows × 23 columns</p>\n",
       "</div>"
      ],
      "text/plain": [
       "    Demographic     DBN                            School Name  Cohort  \\\n",
       "0  Total Cohort  01M292  HENRY STREET SCHOOL FOR INTERNATIONAL    2003   \n",
       "1  Total Cohort  01M292  HENRY STREET SCHOOL FOR INTERNATIONAL    2004   \n",
       "2  Total Cohort  01M292  HENRY STREET SCHOOL FOR INTERNATIONAL    2005   \n",
       "4  Total Cohort  01M292  HENRY STREET SCHOOL FOR INTERNATIONAL    2006   \n",
       "5  Total Cohort  01M448    UNIVERSITY NEIGHBORHOOD HIGH SCHOOL    2001   \n",
       "\n",
       "   Total Cohort Total Grads - n  Total Grads - % of cohort Total Regents - n  \\\n",
       "0             5               s                        NaN                 s   \n",
       "1            55              37                       67.3                17   \n",
       "2            64              43                       67.2                27   \n",
       "4            78              44                       56.4                37   \n",
       "5            64              46                       71.9                32   \n",
       "\n",
       "   Total Regents - % of cohort  Total Regents - % of grads  ...  \\\n",
       "0                          NaN                         NaN  ...   \n",
       "1                         30.9                        45.9  ...   \n",
       "2                         42.2                        62.8  ...   \n",
       "4                         47.4                        84.1  ...   \n",
       "5                         50.0                        69.6  ...   \n",
       "\n",
       "  Regents w/o Advanced - n  Regents w/o Advanced - % of cohort  \\\n",
       "0                        s                                 NaN   \n",
       "1                       17                                30.9   \n",
       "2                       27                                42.2   \n",
       "4                       37                                47.4   \n",
       "5                       25                                39.1   \n",
       "\n",
       "   Regents w/o Advanced - % of grads Local - n  Local - % of cohort  \\\n",
       "0                                NaN         s                  NaN   \n",
       "1                               45.9        20                 36.4   \n",
       "2                               62.8        16                 25.0   \n",
       "4                               84.1         7                  9.0   \n",
       "5                               54.3        14                 21.9   \n",
       "\n",
       "   Local - % of grads Still Enrolled - n  Still Enrolled - % of cohort  \\\n",
       "0                 NaN                  s                           NaN   \n",
       "1                54.1                 15                          27.3   \n",
       "2                37.2                  9                          14.1   \n",
       "4                15.9                 15                          19.2   \n",
       "5                30.4                 10                          15.6   \n",
       "\n",
       "   Dropped Out - n Dropped Out - % of cohort  \n",
       "0                s                       NaN  \n",
       "1                3                       5.5  \n",
       "2                9                      14.1  \n",
       "4               11                      14.1  \n",
       "5                6                       9.4  \n",
       "\n",
       "[5 rows x 23 columns]"
      ]
     },
     "execution_count": 5,
     "metadata": {},
     "output_type": "execute_result"
    }
   ],
   "source": [
    "grad_data['Cohort'] = grad_data['Cohort'].str.replace('2006 Aug', '2006')\n",
    "grad_data['Cohort'] =grad_data['Cohort'].astype(int)\n",
    "grad_data = grad_data.drop_duplicates(subset = ['Demographic','DBN','School Name','Cohort','Total Cohort'],keep = 'last')\n",
    "grad_data.head()"
   ]
  },
  {
   "cell_type": "code",
   "execution_count": 6,
   "metadata": {},
   "outputs": [
    {
     "data": {
      "text/plain": [
       "General Education Students     1820\n",
       "Total Cohort                   1812\n",
       "English Proficient Students    1781\n",
       "Female                         1746\n",
       "Male                           1705\n",
       "Black                          1472\n",
       "Hispanic                       1439\n",
       "Special Education Students      827\n",
       "English Language Learners       507\n",
       "Asian                           450\n",
       "White                           446\n",
       "Name: Demographic, dtype: int64"
      ]
     },
     "execution_count": 6,
     "metadata": {},
     "output_type": "execute_result"
    }
   ],
   "source": [
    "grad_data_avail = grad_data[grad_data['Total Cohort'] >=20]\n",
    "#grad_data_avail = grad_data_avail[grad_data_avail ]\n",
    "grad_data_avail['Demographic'].value_counts()"
   ]
  },
  {
   "cell_type": "code",
   "execution_count": 7,
   "metadata": {},
   "outputs": [],
   "source": [
    "grad_data_avail = grad_data_avail[grad_data_avail['Demographic'].isin(['Total Cohort','Black','White','Asian','Hispanic'])]"
   ]
  },
  {
   "cell_type": "markdown",
   "metadata": {},
   "source": [
    "### 1.2: Checking Data Quality \n",
    "\n",
    "\n",
    "To measure data quality and possible bias in the data, I examined how demographic distribution is affected by the elimination of rows with fewer than 20 students. I pivoted the original data and the new dataset to calculate what percentage of rows each group were eliminated due to data suppression. "
   ]
  },
  {
   "cell_type": "code",
   "execution_count": 8,
   "metadata": {},
   "outputs": [
    {
     "name": "stdout",
     "output_type": "stream",
     "text": [
      "                             Count Total\n",
      "Demographic                             \n",
      "Asian                               1484\n",
      "Black                               2009\n",
      "English Language Learners           1696\n",
      "English Proficient Students         2070\n",
      "Female                              2001\n",
      "General Education Students          2065\n",
      "Hispanic                            1990\n",
      "Male                                2017\n",
      "Special Education Students          2059\n",
      "Total Cohort                        2088\n",
      "White                               1485\n"
     ]
    }
   ],
   "source": [
    "pivot_all = pd.DataFrame(grad_data.pivot_table(values = 'DBN',index ='Demographic', aggfunc = 'count',))\n",
    "pivot_all=pivot_all.rename(columns = {'DBN':'Count Total'})\n",
    "print(pivot_all)\n",
    "# since I have not scrubbed the original dataframe of unneccessary demographic groups, they appear in this pivot table.\n",
    "# They do not transfer to the final table, however."
   ]
  },
  {
   "cell_type": "code",
   "execution_count": 9,
   "metadata": {},
   "outputs": [
    {
     "name": "stdout",
     "output_type": "stream",
     "text": [
      "              Count Available\n",
      "Demographic                  \n",
      "Asian                     450\n",
      "Black                    1472\n",
      "Hispanic                 1439\n",
      "Total Cohort             1812\n",
      "White                     446\n"
     ]
    }
   ],
   "source": [
    "pivot_avail = pd.DataFrame(grad_data_avail.pivot_table(values = 'DBN',index ='Demographic', aggfunc = 'count',))\n",
    "pivot_avail = pivot_avail.rename(columns = {'DBN':'Count Available'})\n",
    "print(pivot_avail)"
   ]
  },
  {
   "cell_type": "code",
   "execution_count": 10,
   "metadata": {},
   "outputs": [
    {
     "name": "stdout",
     "output_type": "stream",
     "text": [
      "              Count Total  Count Available  Available %\n",
      "Demographic                                            \n",
      "Asian                1484              450        30.32\n",
      "Black                2009             1472        73.27\n",
      "Hispanic             1990             1439        72.31\n",
      "Total Cohort         2088             1812        86.78\n",
      "White                1485              446        30.03\n"
     ]
    }
   ],
   "source": [
    "pivot_merge = pd.merge(pivot_all,pivot_avail, on = 'Demographic')\n",
    "pivot_merge['Available %'] = round(100*pivot_merge['Count Available']/pivot_merge['Count Total'],2)\n",
    "print(pivot_merge)"
   ]
  },
  {
   "cell_type": "markdown",
   "metadata": {},
   "source": [
    "#### 1.2.1\n",
    "Some demographics have a much smaller pool of data avaiable than others, in particular, the White and  Asian demographics have a low percentage of available information. This is important to be mindful of when conducting analysis, but may not affect the outcome. This may speak to a relatively low number of these demographics enrolled in NYC public schools. To see if this is the case, I summed the number of students in each demographic group and divided this number by the total student count. "
   ]
  },
  {
   "cell_type": "code",
   "execution_count": 11,
   "metadata": {},
   "outputs": [
    {
     "name": "stdout",
     "output_type": "stream",
     "text": [
      "                             Total Cohort  percentage\n",
      "Demographic                                          \n",
      "English Language Learners           47636       11.50\n",
      "White                               60155       14.52\n",
      "Asian                               61952       14.96\n",
      "Special Education Students          99491       24.02\n",
      "Black                              139758       33.74\n",
      "Hispanic                           149833       36.17\n",
      "Male                               205554       49.62\n",
      "Female                             208690       50.38\n",
      "English Proficient Students        366608       88.50\n",
      "General Education Students         370595       89.46\n",
      "Total Cohort                       414244      100.00\n"
     ]
    }
   ],
   "source": [
    "student_count = pd.DataFrame(grad_data.pivot_table(values = 'Total Cohort',index ='Demographic', aggfunc = 'sum'))\n",
    "total_num_students = grad_data[grad_data['Demographic'] == 'Total Cohort']['Total Cohort'].sum()\n",
    "student_count['percentage']=round(100*student_count['Total Cohort']/total_num_students,2)\n",
    "student_count = student_count.sort_values(by='percentage')\n",
    "print(student_count)\n",
    "#I am using the entire dataframe for this calculation because I am \n",
    "# looking at demographic groups as percentages of the entire student body, including suppressed rows. "
   ]
  },
  {
   "cell_type": "markdown",
   "metadata": {},
   "source": [
    "### 1.3: Data Exploration\n",
    "As suspected, the total number of students in the White and Asian demographics make up a smaller percentage of total student population. Having confirmed this, I then looked at at the number of Total graduates, Local diploma graduates, and Regents diploma graduates by demographic."
   ]
  },
  {
   "cell_type": "code",
   "execution_count": 12,
   "metadata": {},
   "outputs": [
    {
     "name": "stdout",
     "output_type": "stream",
     "text": [
      "              Total Grads - % of cohort  Total Regents - % of cohort  \\\n",
      "Demographic                                                            \n",
      "Asian                             76.03                        65.90   \n",
      "Black                             58.20                        37.60   \n",
      "Hispanic                          56.41                        36.82   \n",
      "Total Cohort                      60.97                        41.48   \n",
      "White                             73.05                        60.94   \n",
      "\n",
      "              Local - % of cohort  \n",
      "Demographic                        \n",
      "Asian                       10.15  \n",
      "Black                       20.61  \n",
      "Hispanic                    19.60  \n",
      "Total Cohort                19.51  \n",
      "White                       12.12  \n"
     ]
    }
   ],
   "source": [
    "grad_rate_pivot = pd.DataFrame(grad_data_avail.pivot_table(values = 'Total Grads - % of cohort', index = 'Demographic'))\n",
    "regents_pivot = pd.DataFrame(grad_data_avail.pivot_table(values = 'Total Regents - % of cohort', index = 'Demographic'))\n",
    "local_dip_pivot = pd.DataFrame(grad_data_avail.pivot_table(values = 'Local - % of cohort', index = 'Demographic'))\n",
    "stats_pivot_merged_1 = pd.merge(grad_rate_pivot, regents_pivot, on = 'Demographic')\n",
    "stats_pivot_merged = pd.merge(stats_pivot_merged_1, local_dip_pivot, on = 'Demographic')\n",
    "stats_pivot_merged = pd.DataFrame(stats_pivot_merged)\n",
    "stats_pivot_merged['Total Grads - % of cohort'] = round(stats_pivot_merged['Total Grads - % of cohort'],2) \n",
    "stats_pivot_merged['Total Regents - % of cohort'] = round(stats_pivot_merged['Total Regents - % of cohort'],2) \n",
    "stats_pivot_merged['Local - % of cohort'] = round(stats_pivot_merged['Local - % of cohort'],2)\n",
    "print(stats_pivot_merged)"
   ]
  },
  {
   "cell_type": "markdown",
   "metadata": {},
   "source": [
    "#### 1.3.1\n",
    "19.5% of students graduated with a Local diploma. We can see looking at this data that White and Asian students are more likely to graduate with Regents diplomas (as well as graudate in general), and less likely to graduate with a Local diploma. To further explore this measure, I will look at how the number of students earning the Local diploma has changed over time."
   ]
  },
  {
   "cell_type": "code",
   "execution_count": 13,
   "metadata": {},
   "outputs": [
    {
     "name": "stdout",
     "output_type": "stream",
     "text": [
      "Cohort   Demographic       2001       2002       2003       2004       2005  \\\n",
      "0              Asian  16.122857  11.801370   9.539130   9.406579   7.566216   \n",
      "1              Black  24.000592  22.328646  22.706818  20.771374  18.739932   \n",
      "2           Hispanic  22.992529  21.581152  20.821659  20.554475  18.065603   \n",
      "3       Total Cohort  24.073973  21.723293  21.005396  19.834969  17.402210   \n",
      "4              White  16.312000  13.685333  12.325714   9.388571  11.038028   \n",
      "\n",
      "Cohort       2006  \n",
      "0        6.859211  \n",
      "1       17.816066  \n",
      "2       16.030508  \n",
      "3       16.030688  \n",
      "4        9.704054  \n"
     ]
    },
    {
     "data": {
      "image/png": "[encoded data removed]",
      "text/plain": [
       "<Figure size 432x288 with 1 Axes>"
      ]
     },
     "metadata": {
      "needs_background": "light"
     },
     "output_type": "display_data"
    }
   ],
   "source": [
    "df = grad_data_avail.pivot_table(values ='Local - % of cohort',index = 'Demographic', columns = 'Cohort' )\n",
    "df = df.reset_index()\n",
    "# The index must be reset on a numeric scale instead of demographic variable in order to conduct melt function \n",
    "# and produce a graph of the data.\n",
    "melt = pd.melt(df,id_vars='Demographic')\n",
    "melt.set_index('Cohort', inplace=True)\n",
    "melt.groupby('Demographic')['value'].plot(legend=True)\n",
    "plt.xlim(2001,2006)\n",
    "plt.ylim(0,25)\n",
    "print(df)"
   ]
  },
  {
   "cell_type": "markdown",
   "metadata": {},
   "source": [
    " ## Part 2: 2005-2018 Graduation Data\n",
    " \n",
    " \n",
    "The number of Local diplomas decreased across all demographic groups in the 2001-2006 cohorts. Before making any conclusions, I decided to seek out more recent graduation data. I referred back to [NYC open data](https://opendata.cityofnewyork.us/) and found that the [most recent dataset](https://data.cityofnewyork.us/Education/2017-2018-Graduation-Outcomes-School/kybe-9iex) has graduation data through the 2014 Cohort. I used this data to see if the percentage of students who earned the Local diploma continued to trend downward for post-2006 Cohorts."
   ]
  },
  {
   "cell_type": "code",
   "execution_count": 14,
   "metadata": {},
   "outputs": [
    {
     "name": "stdout",
     "output_type": "stream",
     "text": [
      "<class 'pandas.core.frame.DataFrame'>\n",
      "RangeIndex: 508193 entries, 0 to 508192\n",
      "Data columns (total 25 columns):\n",
      " #   Column                            Non-Null Count   Dtype \n",
      "---  ------                            --------------   ----- \n",
      " 0   DBN                               508193 non-null  object\n",
      " 1   School Name                       508193 non-null  object\n",
      " 2   Demographic Category              508193 non-null  object\n",
      " 3   Demographic Variable              508193 non-null  object\n",
      " 4   Cohort Year                       508193 non-null  int64 \n",
      " 5   Cohort                            508193 non-null  object\n",
      " 6   Total Cohort #                    508193 non-null  int64 \n",
      " 7   Total Grads #                     508193 non-null  object\n",
      " 8   Total Grads % of cohort           508193 non-null  object\n",
      " 9   Total Regents #                   508193 non-null  object\n",
      " 10  Total Regents % of cohort         508193 non-null  object\n",
      " 11  Total Regents % of grads          508193 non-null  object\n",
      " 12  Advanced Regents #                508193 non-null  object\n",
      " 13  Advanced Regents % of cohort      508193 non-null  object\n",
      " 14  Advanced Regents % of grads       508193 non-null  object\n",
      " 15  Regents w/o Advanced #            508193 non-null  object\n",
      " 16  Regents w/o Advanced % of cohort  508193 non-null  object\n",
      " 17  Regents w/o Advanced % of grads   508193 non-null  object\n",
      " 18  Local #                           508193 non-null  object\n",
      " 19  Local % of cohort                 508193 non-null  object\n",
      " 20  Local % of grads                  508193 non-null  object\n",
      " 21  Still Enrolled #                  508193 non-null  object\n",
      " 22  Still Enrolled % of cohort        508193 non-null  object\n",
      " 23  Dropped Out #                     508193 non-null  object\n",
      " 24  Dropped Out % of cohort           508193 non-null  object\n",
      "dtypes: int64(2), object(23)\n",
      "memory usage: 96.9+ MB\n"
     ]
    }
   ],
   "source": [
    "data_2014 = pd.read_csv('/Users/Austen/Downloads/2017_-_2018_Graduation_Outcomes_School.csv')\n",
    "data_2014.info()"
   ]
  },
  {
   "cell_type": "code",
   "execution_count": 15,
   "metadata": {},
   "outputs": [
    {
     "data": {
      "text/html": [
       "<div>\n",
       "<style scoped>\n",
       "    .dataframe tbody tr th:only-of-type {\n",
       "        vertical-align: middle;\n",
       "    }\n",
       "\n",
       "    .dataframe tbody tr th {\n",
       "        vertical-align: top;\n",
       "    }\n",
       "\n",
       "    .dataframe thead th {\n",
       "        text-align: right;\n",
       "    }\n",
       "</style>\n",
       "<table border=\"1\" class=\"dataframe\">\n",
       "  <thead>\n",
       "    <tr style=\"text-align: right;\">\n",
       "      <th></th>\n",
       "      <th>DBN</th>\n",
       "      <th>School Name</th>\n",
       "      <th>Demographic Category</th>\n",
       "      <th>Demographic Variable</th>\n",
       "      <th>Cohort Year</th>\n",
       "      <th>Cohort</th>\n",
       "      <th>Total Cohort #</th>\n",
       "      <th>Total Grads #</th>\n",
       "      <th>Total Grads % of cohort</th>\n",
       "      <th>Total Regents #</th>\n",
       "      <th>...</th>\n",
       "      <th>Regents w/o Advanced #</th>\n",
       "      <th>Regents w/o Advanced % of cohort</th>\n",
       "      <th>Regents w/o Advanced % of grads</th>\n",
       "      <th>Local #</th>\n",
       "      <th>Local % of cohort</th>\n",
       "      <th>Local % of grads</th>\n",
       "      <th>Still Enrolled #</th>\n",
       "      <th>Still Enrolled % of cohort</th>\n",
       "      <th>Dropped Out #</th>\n",
       "      <th>Dropped Out % of cohort</th>\n",
       "    </tr>\n",
       "  </thead>\n",
       "  <tbody>\n",
       "    <tr>\n",
       "      <th>0</th>\n",
       "      <td>01M292</td>\n",
       "      <td>ORCHARD COLLEGIATE ACADEMY</td>\n",
       "      <td>All Students</td>\n",
       "      <td>All Students</td>\n",
       "      <td>2014</td>\n",
       "      <td>4 year August</td>\n",
       "      <td>29</td>\n",
       "      <td>28</td>\n",
       "      <td>96.6</td>\n",
       "      <td>25</td>\n",
       "      <td>...</td>\n",
       "      <td>25</td>\n",
       "      <td>86.2</td>\n",
       "      <td>89.3</td>\n",
       "      <td>3</td>\n",
       "      <td>10.3</td>\n",
       "      <td>10.7</td>\n",
       "      <td>0</td>\n",
       "      <td>0.0</td>\n",
       "      <td>1</td>\n",
       "      <td>3.4</td>\n",
       "    </tr>\n",
       "    <tr>\n",
       "      <th>1</th>\n",
       "      <td>01M292</td>\n",
       "      <td>ORCHARD COLLEGIATE ACADEMY</td>\n",
       "      <td>All Students</td>\n",
       "      <td>All Students</td>\n",
       "      <td>2013</td>\n",
       "      <td>4 year August</td>\n",
       "      <td>36</td>\n",
       "      <td>25</td>\n",
       "      <td>69.4</td>\n",
       "      <td>23</td>\n",
       "      <td>...</td>\n",
       "      <td>23</td>\n",
       "      <td>63.9</td>\n",
       "      <td>92.0</td>\n",
       "      <td>2</td>\n",
       "      <td>5.6</td>\n",
       "      <td>8.0</td>\n",
       "      <td>3</td>\n",
       "      <td>8.3</td>\n",
       "      <td>7</td>\n",
       "      <td>19.4</td>\n",
       "    </tr>\n",
       "    <tr>\n",
       "      <th>2</th>\n",
       "      <td>01M292</td>\n",
       "      <td>ORCHARD COLLEGIATE ACADEMY</td>\n",
       "      <td>All Students</td>\n",
       "      <td>All Students</td>\n",
       "      <td>2012</td>\n",
       "      <td>4 year August</td>\n",
       "      <td>44</td>\n",
       "      <td>24</td>\n",
       "      <td>54.5</td>\n",
       "      <td>20</td>\n",
       "      <td>...</td>\n",
       "      <td>19</td>\n",
       "      <td>43.2</td>\n",
       "      <td>79.2</td>\n",
       "      <td>4</td>\n",
       "      <td>9.1</td>\n",
       "      <td>16.7</td>\n",
       "      <td>10</td>\n",
       "      <td>22.7</td>\n",
       "      <td>10</td>\n",
       "      <td>22.7</td>\n",
       "    </tr>\n",
       "    <tr>\n",
       "      <th>3</th>\n",
       "      <td>01M292</td>\n",
       "      <td>ORCHARD COLLEGIATE ACADEMY</td>\n",
       "      <td>All Students</td>\n",
       "      <td>All Students</td>\n",
       "      <td>2011</td>\n",
       "      <td>4 year August</td>\n",
       "      <td>73</td>\n",
       "      <td>46</td>\n",
       "      <td>63.0</td>\n",
       "      <td>41</td>\n",
       "      <td>...</td>\n",
       "      <td>41</td>\n",
       "      <td>56.2</td>\n",
       "      <td>89.1</td>\n",
       "      <td>5</td>\n",
       "      <td>6.8</td>\n",
       "      <td>10.9</td>\n",
       "      <td>18</td>\n",
       "      <td>24.7</td>\n",
       "      <td>7</td>\n",
       "      <td>9.6</td>\n",
       "    </tr>\n",
       "    <tr>\n",
       "      <th>4</th>\n",
       "      <td>01M292</td>\n",
       "      <td>ORCHARD COLLEGIATE ACADEMY</td>\n",
       "      <td>All Students</td>\n",
       "      <td>All Students</td>\n",
       "      <td>2010</td>\n",
       "      <td>4 year August</td>\n",
       "      <td>61</td>\n",
       "      <td>26</td>\n",
       "      <td>42.6</td>\n",
       "      <td>26</td>\n",
       "      <td>...</td>\n",
       "      <td>25</td>\n",
       "      <td>41.0</td>\n",
       "      <td>96.2</td>\n",
       "      <td>0</td>\n",
       "      <td>0.0</td>\n",
       "      <td>0.0</td>\n",
       "      <td>18</td>\n",
       "      <td>29.5</td>\n",
       "      <td>17</td>\n",
       "      <td>27.9</td>\n",
       "    </tr>\n",
       "  </tbody>\n",
       "</table>\n",
       "<p>5 rows × 25 columns</p>\n",
       "</div>"
      ],
      "text/plain": [
       "      DBN                 School Name Demographic Category  \\\n",
       "0  01M292  ORCHARD COLLEGIATE ACADEMY         All Students   \n",
       "1  01M292  ORCHARD COLLEGIATE ACADEMY         All Students   \n",
       "2  01M292  ORCHARD COLLEGIATE ACADEMY         All Students   \n",
       "3  01M292  ORCHARD COLLEGIATE ACADEMY         All Students   \n",
       "4  01M292  ORCHARD COLLEGIATE ACADEMY         All Students   \n",
       "\n",
       "  Demographic Variable  Cohort Year         Cohort  Total Cohort #  \\\n",
       "0         All Students         2014  4 year August              29   \n",
       "1         All Students         2013  4 year August              36   \n",
       "2         All Students         2012  4 year August              44   \n",
       "3         All Students         2011  4 year August              73   \n",
       "4         All Students         2010  4 year August              61   \n",
       "\n",
       "  Total Grads # Total Grads % of cohort Total Regents #  ...  \\\n",
       "0            28                    96.6              25  ...   \n",
       "1            25                    69.4              23  ...   \n",
       "2            24                    54.5              20  ...   \n",
       "3            46                    63.0              41  ...   \n",
       "4            26                    42.6              26  ...   \n",
       "\n",
       "  Regents w/o Advanced # Regents w/o Advanced % of cohort  \\\n",
       "0                     25                             86.2   \n",
       "1                     23                             63.9   \n",
       "2                     19                             43.2   \n",
       "3                     41                             56.2   \n",
       "4                     25                             41.0   \n",
       "\n",
       "  Regents w/o Advanced % of grads Local # Local % of cohort Local % of grads  \\\n",
       "0                            89.3       3              10.3             10.7   \n",
       "1                            92.0       2               5.6              8.0   \n",
       "2                            79.2       4               9.1             16.7   \n",
       "3                            89.1       5               6.8             10.9   \n",
       "4                            96.2       0               0.0              0.0   \n",
       "\n",
       "  Still Enrolled # Still Enrolled % of cohort Dropped Out #  \\\n",
       "0                0                        0.0             1   \n",
       "1                3                        8.3             7   \n",
       "2               10                       22.7            10   \n",
       "3               18                       24.7             7   \n",
       "4               18                       29.5            17   \n",
       "\n",
       "  Dropped Out % of cohort  \n",
       "0                     3.4  \n",
       "1                    19.4  \n",
       "2                    22.7  \n",
       "3                     9.6  \n",
       "4                    27.9  \n",
       "\n",
       "[5 rows x 25 columns]"
      ]
     },
     "execution_count": 15,
     "metadata": {},
     "output_type": "execute_result"
    }
   ],
   "source": [
    "data_2014.head(5)"
   ]
  },
  {
   "cell_type": "code",
   "execution_count": 16,
   "metadata": {},
   "outputs": [
    {
     "name": "stdout",
     "output_type": "stream",
     "text": [
      "4 year June      122635\n",
      "5 year June      109788\n",
      "6 year June      100040\n",
      "4 year August     98212\n",
      "5 year August     77518\n",
      "Name: Cohort, dtype: int64\n"
     ]
    }
   ],
   "source": [
    "print(data_2014['Cohort'].value_counts())"
   ]
  },
  {
   "cell_type": "markdown",
   "metadata": {},
   "source": [
    "### 2.1: Data Cleaning & Quality Check\n",
    "\n",
    "This dataset has slight differences in formatting compared to the previous one. In this dataset, the cohorts have data stored across five possible categories: 4,5, or 6 year graduation, and in June or August. The shortest graduation time is four years with a June graduation, and the latest is six years with a June graduation. To get a feel for the change in the data between the graduation dates, I compared graduation rates of several cohorts of one school. "
   ]
  },
  {
   "cell_type": "code",
   "execution_count": 17,
   "metadata": {},
   "outputs": [
    {
     "name": "stdout",
     "output_type": "stream",
     "text": [
      "       DBN                 School Name Demographic Category  \\\n",
      "4   01M292  ORCHARD COLLEGIATE ACADEMY         All Students   \n",
      "14  01M292  ORCHARD COLLEGIATE ACADEMY         All Students   \n",
      "25  01M292  ORCHARD COLLEGIATE ACADEMY         All Students   \n",
      "33  01M292  ORCHARD COLLEGIATE ACADEMY         All Students   \n",
      "43  01M292  ORCHARD COLLEGIATE ACADEMY         All Students   \n",
      "\n",
      "   Demographic Variable  Cohort Year         Cohort  Total Cohort #  \\\n",
      "4          All Students         2010  4 year August              61   \n",
      "14         All Students         2010    4 year June              61   \n",
      "25         All Students         2010  5 year August              55   \n",
      "33         All Students         2010    5 year June              55   \n",
      "43         All Students         2010    6 year June              54   \n",
      "\n",
      "   Total Grads # Total Grads % of cohort Total Regents #  ...  \\\n",
      "4             26                    42.6              26  ...   \n",
      "14            24                    39.3              24  ...   \n",
      "25            28                    50.9              27  ...   \n",
      "33            28                    50.9              27  ...   \n",
      "43            30                    55.6              28  ...   \n",
      "\n",
      "   Regents w/o Advanced # Regents w/o Advanced % of cohort  \\\n",
      "4                      25                             41.0   \n",
      "14                     23                             37.7   \n",
      "25                     26                             47.3   \n",
      "33                     26                             47.3   \n",
      "43                     27                             50.0   \n",
      "\n",
      "   Regents w/o Advanced % of grads Local # Local % of cohort Local % of grads  \\\n",
      "4                             96.2       0               0.0              0.0   \n",
      "14                            95.8       0               0.0              0.0   \n",
      "25                            92.9       1               1.8              3.6   \n",
      "33                            92.9       1               1.8              3.6   \n",
      "43                            90.0       2               3.7              6.7   \n",
      "\n",
      "   Still Enrolled # Still Enrolled % of cohort Dropped Out #  \\\n",
      "4                18                       29.5            17   \n",
      "14               20                       32.8            17   \n",
      "25                7                       12.7            18   \n",
      "33                7                       12.7            18   \n",
      "43                2                        3.7            21   \n",
      "\n",
      "   Dropped Out % of cohort  \n",
      "4                     27.9  \n",
      "14                    27.9  \n",
      "25                    32.7  \n",
      "33                    32.7  \n",
      "43                    38.9  \n",
      "\n",
      "[5 rows x 25 columns]\n"
     ]
    }
   ],
   "source": [
    "Orchard_2010 = data_2014[(data_2014['DBN']=='01M292') & (data_2014['Cohort Year']==2010)&(data_2014['Demographic Variable']=='All Students')]\n",
    "print(Orchard_2010)"
   ]
  },
  {
   "cell_type": "markdown",
   "metadata": {},
   "source": [
    "#### 2.1.2: Patterns\n",
    "\n",
    "After looking at graduation data for several different cohorts, I noticed the following patterns: \n",
    "1. The 2014 cohort only has 4 year graduation data available; 2013 cohort only has 4&5 year data. This is because this data was finalized in 2018.\n",
    "2. The latest graduation time for each cohort has the highest number of graduates. Because of this, I will be focusing on this datapoint for each cohort. \n",
    "3. In some cases the cohort size changes between graduation times; this is not due to students dropping out, which is its own statistic in this data. It is most likely due to students changing schools. \n",
    "\n",
    "In this dataset, data in all rows with fewer than five students was surpressed (compared to the threshold of 20 in the original dataset), so I removed all rows with fewer than five students in the 'Total Cohort #' column.\n",
    "\n",
    "Another difference in this dataset is that Demographic is split into two columns: Category and Variable. Since we are focusing on disparities in graduation rates between racial groups, I only kept rows with racial demographic data."
   ]
  },
  {
   "cell_type": "code",
   "execution_count": 18,
   "metadata": {},
   "outputs": [
    {
     "data": {
      "text/html": [
       "<div>\n",
       "<style scoped>\n",
       "    .dataframe tbody tr th:only-of-type {\n",
       "        vertical-align: middle;\n",
       "    }\n",
       "\n",
       "    .dataframe tbody tr th {\n",
       "        vertical-align: top;\n",
       "    }\n",
       "\n",
       "    .dataframe thead th {\n",
       "        text-align: right;\n",
       "    }\n",
       "</style>\n",
       "<table border=\"1\" class=\"dataframe\">\n",
       "  <thead>\n",
       "    <tr style=\"text-align: right;\">\n",
       "      <th></th>\n",
       "      <th>DBN</th>\n",
       "      <th>School Name</th>\n",
       "      <th>Demographic Category</th>\n",
       "      <th>Demographic Variable</th>\n",
       "      <th>Cohort Year</th>\n",
       "      <th>Cohort</th>\n",
       "      <th>Total Cohort #</th>\n",
       "      <th>Total Grads #</th>\n",
       "      <th>Total Grads % of cohort</th>\n",
       "      <th>Total Regents #</th>\n",
       "      <th>...</th>\n",
       "      <th>Regents w/o Advanced #</th>\n",
       "      <th>Regents w/o Advanced % of cohort</th>\n",
       "      <th>Regents w/o Advanced % of grads</th>\n",
       "      <th>Local #</th>\n",
       "      <th>Local % of cohort</th>\n",
       "      <th>Local % of grads</th>\n",
       "      <th>Still Enrolled #</th>\n",
       "      <th>Still Enrolled % of cohort</th>\n",
       "      <th>Dropped Out #</th>\n",
       "      <th>Dropped Out % of cohort</th>\n",
       "    </tr>\n",
       "  </thead>\n",
       "  <tbody>\n",
       "    <tr>\n",
       "      <th>21</th>\n",
       "      <td>01M292</td>\n",
       "      <td>ORCHARD COLLEGIATE ACADEMY</td>\n",
       "      <td>All Students</td>\n",
       "      <td>All Students</td>\n",
       "      <td>2003</td>\n",
       "      <td>4 year June</td>\n",
       "      <td>5</td>\n",
       "      <td>0</td>\n",
       "      <td>0.0</td>\n",
       "      <td>0</td>\n",
       "      <td>...</td>\n",
       "      <td>0</td>\n",
       "      <td>0.0</td>\n",
       "      <td>No Data</td>\n",
       "      <td>0</td>\n",
       "      <td>0.0</td>\n",
       "      <td>No Data</td>\n",
       "      <td>4</td>\n",
       "      <td>80.0</td>\n",
       "      <td>1</td>\n",
       "      <td>20.0</td>\n",
       "    </tr>\n",
       "    <tr>\n",
       "      <th>40</th>\n",
       "      <td>01M292</td>\n",
       "      <td>ORCHARD COLLEGIATE ACADEMY</td>\n",
       "      <td>All Students</td>\n",
       "      <td>All Students</td>\n",
       "      <td>2003</td>\n",
       "      <td>5 year June</td>\n",
       "      <td>5</td>\n",
       "      <td>3</td>\n",
       "      <td>60.0</td>\n",
       "      <td>0</td>\n",
       "      <td>...</td>\n",
       "      <td>0</td>\n",
       "      <td>0.0</td>\n",
       "      <td>0.0</td>\n",
       "      <td>3</td>\n",
       "      <td>60.0</td>\n",
       "      <td>100.0</td>\n",
       "      <td>0</td>\n",
       "      <td>0.0</td>\n",
       "      <td>2</td>\n",
       "      <td>40.0</td>\n",
       "    </tr>\n",
       "    <tr>\n",
       "      <th>50</th>\n",
       "      <td>01M292</td>\n",
       "      <td>ORCHARD COLLEGIATE ACADEMY</td>\n",
       "      <td>All Students</td>\n",
       "      <td>All Students</td>\n",
       "      <td>2003</td>\n",
       "      <td>6 year June</td>\n",
       "      <td>5</td>\n",
       "      <td>3</td>\n",
       "      <td>60.0</td>\n",
       "      <td>0</td>\n",
       "      <td>...</td>\n",
       "      <td>0</td>\n",
       "      <td>0.0</td>\n",
       "      <td>0.0</td>\n",
       "      <td>3</td>\n",
       "      <td>60.0</td>\n",
       "      <td>100.0</td>\n",
       "      <td>0</td>\n",
       "      <td>0.0</td>\n",
       "      <td>2</td>\n",
       "      <td>40.0</td>\n",
       "    </tr>\n",
       "    <tr>\n",
       "      <th>20</th>\n",
       "      <td>01M292</td>\n",
       "      <td>ORCHARD COLLEGIATE ACADEMY</td>\n",
       "      <td>All Students</td>\n",
       "      <td>All Students</td>\n",
       "      <td>2004</td>\n",
       "      <td>4 year June</td>\n",
       "      <td>55</td>\n",
       "      <td>37</td>\n",
       "      <td>67.3</td>\n",
       "      <td>17</td>\n",
       "      <td>...</td>\n",
       "      <td>17</td>\n",
       "      <td>30.9</td>\n",
       "      <td>45.9</td>\n",
       "      <td>20</td>\n",
       "      <td>36.4</td>\n",
       "      <td>54.1</td>\n",
       "      <td>15</td>\n",
       "      <td>27.3</td>\n",
       "      <td>3</td>\n",
       "      <td>5.5</td>\n",
       "    </tr>\n",
       "    <tr>\n",
       "      <th>39</th>\n",
       "      <td>01M292</td>\n",
       "      <td>ORCHARD COLLEGIATE ACADEMY</td>\n",
       "      <td>All Students</td>\n",
       "      <td>All Students</td>\n",
       "      <td>2004</td>\n",
       "      <td>5 year June</td>\n",
       "      <td>58</td>\n",
       "      <td>39</td>\n",
       "      <td>67.2</td>\n",
       "      <td>18</td>\n",
       "      <td>...</td>\n",
       "      <td>18</td>\n",
       "      <td>31.0</td>\n",
       "      <td>46.2</td>\n",
       "      <td>21</td>\n",
       "      <td>36.2</td>\n",
       "      <td>53.8</td>\n",
       "      <td>4</td>\n",
       "      <td>6.9</td>\n",
       "      <td>13</td>\n",
       "      <td>22.4</td>\n",
       "    </tr>\n",
       "  </tbody>\n",
       "</table>\n",
       "<p>5 rows × 25 columns</p>\n",
       "</div>"
      ],
      "text/plain": [
       "       DBN                 School Name Demographic Category  \\\n",
       "21  01M292  ORCHARD COLLEGIATE ACADEMY         All Students   \n",
       "40  01M292  ORCHARD COLLEGIATE ACADEMY         All Students   \n",
       "50  01M292  ORCHARD COLLEGIATE ACADEMY         All Students   \n",
       "20  01M292  ORCHARD COLLEGIATE ACADEMY         All Students   \n",
       "39  01M292  ORCHARD COLLEGIATE ACADEMY         All Students   \n",
       "\n",
       "   Demographic Variable  Cohort Year       Cohort  Total Cohort #  \\\n",
       "21         All Students         2003  4 year June               5   \n",
       "40         All Students         2003  5 year June               5   \n",
       "50         All Students         2003  6 year June               5   \n",
       "20         All Students         2004  4 year June              55   \n",
       "39         All Students         2004  5 year June              58   \n",
       "\n",
       "   Total Grads # Total Grads % of cohort Total Regents #  ...  \\\n",
       "21             0                     0.0               0  ...   \n",
       "40             3                    60.0               0  ...   \n",
       "50             3                    60.0               0  ...   \n",
       "20            37                    67.3              17  ...   \n",
       "39            39                    67.2              18  ...   \n",
       "\n",
       "   Regents w/o Advanced # Regents w/o Advanced % of cohort  \\\n",
       "21                      0                              0.0   \n",
       "40                      0                              0.0   \n",
       "50                      0                              0.0   \n",
       "20                     17                             30.9   \n",
       "39                     18                             31.0   \n",
       "\n",
       "   Regents w/o Advanced % of grads Local # Local % of cohort Local % of grads  \\\n",
       "21                         No Data       0               0.0          No Data   \n",
       "40                             0.0       3              60.0            100.0   \n",
       "50                             0.0       3              60.0            100.0   \n",
       "20                            45.9      20              36.4             54.1   \n",
       "39                            46.2      21              36.2             53.8   \n",
       "\n",
       "   Still Enrolled # Still Enrolled % of cohort Dropped Out #  \\\n",
       "21                4                       80.0             1   \n",
       "40                0                        0.0             2   \n",
       "50                0                        0.0             2   \n",
       "20               15                       27.3             3   \n",
       "39                4                        6.9            13   \n",
       "\n",
       "   Dropped Out % of cohort  \n",
       "21                    20.0  \n",
       "40                    40.0  \n",
       "50                    40.0  \n",
       "20                     5.5  \n",
       "39                    22.4  \n",
       "\n",
       "[5 rows x 25 columns]"
      ]
     },
     "execution_count": 18,
     "metadata": {},
     "output_type": "execute_result"
    }
   ],
   "source": [
    "data_2014 = data_2014.sort_values(by=['DBN','Demographic Category','Cohort Year'])\n",
    "data_2014.head()"
   ]
  },
  {
   "cell_type": "code",
   "execution_count": 19,
   "metadata": {},
   "outputs": [
    {
     "data": {
      "text/html": [
       "<div>\n",
       "<style scoped>\n",
       "    .dataframe tbody tr th:only-of-type {\n",
       "        vertical-align: middle;\n",
       "    }\n",
       "\n",
       "    .dataframe tbody tr th {\n",
       "        vertical-align: top;\n",
       "    }\n",
       "\n",
       "    .dataframe thead th {\n",
       "        text-align: right;\n",
       "    }\n",
       "</style>\n",
       "<table border=\"1\" class=\"dataframe\">\n",
       "  <thead>\n",
       "    <tr style=\"text-align: right;\">\n",
       "      <th></th>\n",
       "      <th>DBN</th>\n",
       "      <th>School Name</th>\n",
       "      <th>Demographic Category</th>\n",
       "      <th>Demographic Variable</th>\n",
       "      <th>Cohort Year</th>\n",
       "      <th>Cohort</th>\n",
       "      <th>Total Cohort #</th>\n",
       "      <th>Total Grads #</th>\n",
       "      <th>Total Grads % of cohort</th>\n",
       "      <th>Total Regents #</th>\n",
       "      <th>...</th>\n",
       "      <th>Regents w/o Advanced #</th>\n",
       "      <th>Regents w/o Advanced % of cohort</th>\n",
       "      <th>Regents w/o Advanced % of grads</th>\n",
       "      <th>Local #</th>\n",
       "      <th>Local % of cohort</th>\n",
       "      <th>Local % of grads</th>\n",
       "      <th>Still Enrolled #</th>\n",
       "      <th>Still Enrolled % of cohort</th>\n",
       "      <th>Dropped Out #</th>\n",
       "      <th>Dropped Out % of cohort</th>\n",
       "    </tr>\n",
       "  </thead>\n",
       "  <tbody>\n",
       "    <tr>\n",
       "      <th>50</th>\n",
       "      <td>01M292</td>\n",
       "      <td>ORCHARD COLLEGIATE ACADEMY</td>\n",
       "      <td>All Students</td>\n",
       "      <td>All Students</td>\n",
       "      <td>2003</td>\n",
       "      <td>6 year June</td>\n",
       "      <td>5</td>\n",
       "      <td>3</td>\n",
       "      <td>60.0</td>\n",
       "      <td>0</td>\n",
       "      <td>...</td>\n",
       "      <td>0</td>\n",
       "      <td>0.0</td>\n",
       "      <td>0.0</td>\n",
       "      <td>3</td>\n",
       "      <td>60.0</td>\n",
       "      <td>100.0</td>\n",
       "      <td>0</td>\n",
       "      <td>0.0</td>\n",
       "      <td>2</td>\n",
       "      <td>40.0</td>\n",
       "    </tr>\n",
       "    <tr>\n",
       "      <th>49</th>\n",
       "      <td>01M292</td>\n",
       "      <td>ORCHARD COLLEGIATE ACADEMY</td>\n",
       "      <td>All Students</td>\n",
       "      <td>All Students</td>\n",
       "      <td>2004</td>\n",
       "      <td>6 year June</td>\n",
       "      <td>56</td>\n",
       "      <td>41</td>\n",
       "      <td>73.2</td>\n",
       "      <td>18</td>\n",
       "      <td>...</td>\n",
       "      <td>18</td>\n",
       "      <td>32.1</td>\n",
       "      <td>43.9</td>\n",
       "      <td>23</td>\n",
       "      <td>41.1</td>\n",
       "      <td>56.1</td>\n",
       "      <td>2</td>\n",
       "      <td>3.6</td>\n",
       "      <td>12</td>\n",
       "      <td>21.4</td>\n",
       "    </tr>\n",
       "    <tr>\n",
       "      <th>48</th>\n",
       "      <td>01M292</td>\n",
       "      <td>ORCHARD COLLEGIATE ACADEMY</td>\n",
       "      <td>All Students</td>\n",
       "      <td>All Students</td>\n",
       "      <td>2005</td>\n",
       "      <td>6 year June</td>\n",
       "      <td>65</td>\n",
       "      <td>47</td>\n",
       "      <td>72.3</td>\n",
       "      <td>29</td>\n",
       "      <td>...</td>\n",
       "      <td>29</td>\n",
       "      <td>44.6</td>\n",
       "      <td>61.7</td>\n",
       "      <td>18</td>\n",
       "      <td>27.7</td>\n",
       "      <td>38.3</td>\n",
       "      <td>1</td>\n",
       "      <td>1.5</td>\n",
       "      <td>11</td>\n",
       "      <td>16.9</td>\n",
       "    </tr>\n",
       "    <tr>\n",
       "      <th>47</th>\n",
       "      <td>01M292</td>\n",
       "      <td>ORCHARD COLLEGIATE ACADEMY</td>\n",
       "      <td>All Students</td>\n",
       "      <td>All Students</td>\n",
       "      <td>2006</td>\n",
       "      <td>6 year June</td>\n",
       "      <td>73</td>\n",
       "      <td>44</td>\n",
       "      <td>60.3</td>\n",
       "      <td>36</td>\n",
       "      <td>...</td>\n",
       "      <td>36</td>\n",
       "      <td>49.3</td>\n",
       "      <td>81.8</td>\n",
       "      <td>8</td>\n",
       "      <td>11.0</td>\n",
       "      <td>18.2</td>\n",
       "      <td>1</td>\n",
       "      <td>1.4</td>\n",
       "      <td>21</td>\n",
       "      <td>28.8</td>\n",
       "    </tr>\n",
       "    <tr>\n",
       "      <th>46</th>\n",
       "      <td>01M292</td>\n",
       "      <td>ORCHARD COLLEGIATE ACADEMY</td>\n",
       "      <td>All Students</td>\n",
       "      <td>All Students</td>\n",
       "      <td>2007</td>\n",
       "      <td>6 year June</td>\n",
       "      <td>77</td>\n",
       "      <td>53</td>\n",
       "      <td>68.8</td>\n",
       "      <td>31</td>\n",
       "      <td>...</td>\n",
       "      <td>31</td>\n",
       "      <td>40.3</td>\n",
       "      <td>58.5</td>\n",
       "      <td>22</td>\n",
       "      <td>28.6</td>\n",
       "      <td>41.5</td>\n",
       "      <td>2</td>\n",
       "      <td>2.6</td>\n",
       "      <td>14</td>\n",
       "      <td>18.2</td>\n",
       "    </tr>\n",
       "  </tbody>\n",
       "</table>\n",
       "<p>5 rows × 25 columns</p>\n",
       "</div>"
      ],
      "text/plain": [
       "       DBN                 School Name Demographic Category  \\\n",
       "50  01M292  ORCHARD COLLEGIATE ACADEMY         All Students   \n",
       "49  01M292  ORCHARD COLLEGIATE ACADEMY         All Students   \n",
       "48  01M292  ORCHARD COLLEGIATE ACADEMY         All Students   \n",
       "47  01M292  ORCHARD COLLEGIATE ACADEMY         All Students   \n",
       "46  01M292  ORCHARD COLLEGIATE ACADEMY         All Students   \n",
       "\n",
       "   Demographic Variable  Cohort Year       Cohort  Total Cohort #  \\\n",
       "50         All Students         2003  6 year June               5   \n",
       "49         All Students         2004  6 year June              56   \n",
       "48         All Students         2005  6 year June              65   \n",
       "47         All Students         2006  6 year June              73   \n",
       "46         All Students         2007  6 year June              77   \n",
       "\n",
       "   Total Grads # Total Grads % of cohort Total Regents #  ...  \\\n",
       "50             3                    60.0               0  ...   \n",
       "49            41                    73.2              18  ...   \n",
       "48            47                    72.3              29  ...   \n",
       "47            44                    60.3              36  ...   \n",
       "46            53                    68.8              31  ...   \n",
       "\n",
       "   Regents w/o Advanced # Regents w/o Advanced % of cohort  \\\n",
       "50                      0                              0.0   \n",
       "49                     18                             32.1   \n",
       "48                     29                             44.6   \n",
       "47                     36                             49.3   \n",
       "46                     31                             40.3   \n",
       "\n",
       "   Regents w/o Advanced % of grads Local # Local % of cohort Local % of grads  \\\n",
       "50                             0.0       3              60.0            100.0   \n",
       "49                            43.9      23              41.1             56.1   \n",
       "48                            61.7      18              27.7             38.3   \n",
       "47                            81.8       8              11.0             18.2   \n",
       "46                            58.5      22              28.6             41.5   \n",
       "\n",
       "   Still Enrolled # Still Enrolled % of cohort Dropped Out #  \\\n",
       "50                0                        0.0             2   \n",
       "49                2                        3.6            12   \n",
       "48                1                        1.5            11   \n",
       "47                1                        1.4            21   \n",
       "46                2                        2.6            14   \n",
       "\n",
       "   Dropped Out % of cohort  \n",
       "50                    40.0  \n",
       "49                    21.4  \n",
       "48                    16.9  \n",
       "47                    28.8  \n",
       "46                    18.2  \n",
       "\n",
       "[5 rows x 25 columns]"
      ]
     },
     "execution_count": 19,
     "metadata": {},
     "output_type": "execute_result"
    }
   ],
   "source": [
    "data_2014 = data_2014.drop_duplicates(subset = ['DBN','School Name','Demographic Category','Demographic Variable','Cohort Year'],keep = 'last')\n",
    "data_2014.head()"
   ]
  },
  {
   "cell_type": "code",
   "execution_count": 20,
   "metadata": {},
   "outputs": [
    {
     "name": "stdout",
     "output_type": "stream",
     "text": [
      "6 year June    100040\n",
      "4 year June     12689\n",
      "5 year June     11979\n",
      "Name: Cohort, dtype: int64\n"
     ]
    }
   ],
   "source": [
    "print(data_2014['Cohort'].value_counts())"
   ]
  },
  {
   "cell_type": "code",
   "execution_count": 21,
   "metadata": {},
   "outputs": [],
   "source": [
    "data_2014_avail = data_2014[data_2014['Total Cohort #']>=5]"
   ]
  },
  {
   "cell_type": "code",
   "execution_count": 22,
   "metadata": {},
   "outputs": [
    {
     "name": "stdout",
     "output_type": "stream",
     "text": [
      "Gender by Ethnicity    26251\n",
      "Ethnicity              15487\n",
      "ELL Status             13813\n",
      "Gender                 10745\n",
      "Poverty Status         10480\n",
      "SWD Status             10024\n",
      "All Students            5485\n",
      "Name: Demographic Category, dtype: int64\n"
     ]
    }
   ],
   "source": [
    "print(data_2014_avail['Demographic Category'].value_counts())"
   ]
  },
  {
   "cell_type": "code",
   "execution_count": 23,
   "metadata": {},
   "outputs": [
    {
     "name": "stdout",
     "output_type": "stream",
     "text": [
      "All Students              5485\n",
      "Not SWD                   5451\n",
      "Econ Disadv               5440\n",
      "Not ELL                   5418\n",
      "Female                    5384\n",
      "Male                      5361\n",
      "Hispanic                  5304\n",
      "Black                     5220\n",
      "Not Econ Disadv           5040\n",
      "Female Hispanic           4884\n",
      "Female Black              4824\n",
      "Male Black                4770\n",
      "Male Hispanic             4754\n",
      "SWD                       4573\n",
      "ELL                       2889\n",
      "Asian                     2408\n",
      "White                     2164\n",
      "Male Asian                1804\n",
      "Never ELL                 1775\n",
      "Male White                1702\n",
      "Female Asian              1693\n",
      "Ever ELL                  1544\n",
      "Female White              1518\n",
      "Former ELL                1320\n",
      "Current ELL                867\n",
      "Multi-Racial               212\n",
      "Native American            179\n",
      "Female Multi-Racial         99\n",
      "Male Multi-Racial           80\n",
      "Male Native American        68\n",
      "Female Native American      55\n",
      "Name: Demographic Variable, dtype: int64\n"
     ]
    }
   ],
   "source": [
    "print(data_2014_avail['Demographic Variable'].value_counts())"
   ]
  },
  {
   "cell_type": "code",
   "execution_count": 24,
   "metadata": {},
   "outputs": [],
   "source": [
    "data_2014_avail = data_2014_avail[data_2014_avail['Demographic Category'].isin(['All Students', 'Ethnicity','Gender by Ethnicity'])]"
   ]
  },
  {
   "cell_type": "markdown",
   "metadata": {},
   "source": [
    "#### 2.1.4\n",
    "A possible point of concern is  the difference between categories 'Gender by Ethnicity' and 'Ethnicity'. I was unsure whether they contained overlapping data. It was possible that the Gender by Ethnicity column was introduced as a data point more recently, and is taking the place of the 'Ethnicity' data point for more recent cohorts. I tested this theory by looking at one cohort from one school.\n",
    "\n",
    "Looking at this data, it was evident that the number of male and female students of a racial group sum to the total number of students from the racial group. Having ensured the overlap, I removed the 'Gender by Ethnicity' Demographic Category from the dataset.\n",
    "\n",
    "Additionally, this updated dataset contains information on two new racial demographics: Multi-Racial and Native American students. The number of students in these new groups is much smaller than the existing groups, so graduation rate is likely as reliable for them. "
   ]
  },
  {
   "cell_type": "code",
   "execution_count": 25,
   "metadata": {},
   "outputs": [
    {
     "name": "stdout",
     "output_type": "stream",
     "text": [
      "           DBN                     School Name Demographic Category  \\\n",
      "507093  32K564  BUSHWICK COMMUNITY HIGH SCHOOL         All Students   \n",
      "507358  32K564  BUSHWICK COMMUNITY HIGH SCHOOL            Ethnicity   \n",
      "507415  32K564  BUSHWICK COMMUNITY HIGH SCHOOL            Ethnicity   \n",
      "507495  32K564  BUSHWICK COMMUNITY HIGH SCHOOL            Ethnicity   \n",
      "507671  32K564  BUSHWICK COMMUNITY HIGH SCHOOL  Gender by Ethnicity   \n",
      "507728  32K564  BUSHWICK COMMUNITY HIGH SCHOOL  Gender by Ethnicity   \n",
      "507794  32K564  BUSHWICK COMMUNITY HIGH SCHOOL  Gender by Ethnicity   \n",
      "507866  32K564  BUSHWICK COMMUNITY HIGH SCHOOL  Gender by Ethnicity   \n",
      "507923  32K564  BUSHWICK COMMUNITY HIGH SCHOOL  Gender by Ethnicity   \n",
      "\n",
      "       Demographic Variable  Cohort Year       Cohort  Total Cohort #  \\\n",
      "507093         All Students         2008  6 year June             203   \n",
      "507358                Black         2008  6 year June              67   \n",
      "507415             Hispanic         2008  6 year June             129   \n",
      "507495                White         2008  6 year June               5   \n",
      "507671         Female Black         2008  6 year June              35   \n",
      "507728      Female Hispanic         2008  6 year June              77   \n",
      "507794         Female White         2008  6 year June               5   \n",
      "507866           Male Black         2008  6 year June              32   \n",
      "507923        Male Hispanic         2008  6 year June              52   \n",
      "\n",
      "       Total Grads # Total Grads % of cohort Total Regents #  ...  \\\n",
      "507093            59                    29.1              45  ...   \n",
      "507358            20                    29.9              13  ...   \n",
      "507415            37                    28.7              30  ...   \n",
      "507495             s                       s               s  ...   \n",
      "507671            12                    34.3               7  ...   \n",
      "507728            25                    32.5              22  ...   \n",
      "507794             s                       s               s  ...   \n",
      "507866             8                    25.0               6  ...   \n",
      "507923            12                    23.1               8  ...   \n",
      "\n",
      "       Regents w/o Advanced # Regents w/o Advanced % of cohort  \\\n",
      "507093                     45                             22.2   \n",
      "507358                     13                             19.4   \n",
      "507415                     30                             23.3   \n",
      "507495                      s                                s   \n",
      "507671                      7                             20.0   \n",
      "507728                     22                             28.6   \n",
      "507794                      s                                s   \n",
      "507866                      6                             18.8   \n",
      "507923                      8                             15.4   \n",
      "\n",
      "       Regents w/o Advanced % of grads Local # Local % of cohort  \\\n",
      "507093                            76.3      14               6.9   \n",
      "507358                            65.0       7              10.4   \n",
      "507415                            81.1       7               5.4   \n",
      "507495                               s       s                 s   \n",
      "507671                            58.3       5              14.3   \n",
      "507728                            88.0       3               3.9   \n",
      "507794                               s       s                 s   \n",
      "507866                            75.0       2               6.3   \n",
      "507923                            66.7       4               7.7   \n",
      "\n",
      "       Local % of grads Still Enrolled # Still Enrolled % of cohort  \\\n",
      "507093             23.7               19                        9.4   \n",
      "507358             35.0                9                       13.4   \n",
      "507415             18.9                8                        6.2   \n",
      "507495                s                s                          s   \n",
      "507671             41.7                5                       14.3   \n",
      "507728             12.0                4                        5.2   \n",
      "507794                s                s                          s   \n",
      "507866             25.0                4                       12.5   \n",
      "507923             33.3                4                        7.7   \n",
      "\n",
      "       Dropped Out # Dropped Out % of cohort  \n",
      "507093           120                    59.1  \n",
      "507358            36                    53.7  \n",
      "507415            81                    62.8  \n",
      "507495             s                       s  \n",
      "507671            17                    48.6  \n",
      "507728            46                    59.7  \n",
      "507794             s                       s  \n",
      "507866            19                    59.4  \n",
      "507923            35                    67.3  \n",
      "\n",
      "[9 rows x 25 columns]\n"
     ]
    }
   ],
   "source": [
    "Bushwick = data_2014_avail[(data_2014_avail['DBN']=='32K564')&(data_2014_avail['Cohort Year']==2008)]\n",
    "print(Bushwick)"
   ]
  },
  {
   "cell_type": "code",
   "execution_count": 26,
   "metadata": {},
   "outputs": [
    {
     "data": {
      "text/plain": [
       "All Students       5485\n",
       "Hispanic           5304\n",
       "Black              5220\n",
       "Asian              2408\n",
       "White              2164\n",
       "Multi-Racial        212\n",
       "Native American     179\n",
       "Name: Demographic Variable, dtype: int64"
      ]
     },
     "execution_count": 26,
     "metadata": {},
     "output_type": "execute_result"
    }
   ],
   "source": [
    "data_2014_avail = data_2014_avail[data_2014_avail['Demographic Category'].isin(['All Students', 'Ethnicity'])]\n",
    "data_2014_avail['Demographic Variable'].value_counts()"
   ]
  },
  {
   "cell_type": "code",
   "execution_count": 27,
   "metadata": {},
   "outputs": [
    {
     "name": "stdout",
     "output_type": "stream",
     "text": [
      "                      Total Cohort #\n",
      "Demographic Variable                \n",
      "All Students                 1001461\n",
      "Asian                         157940\n",
      "Black                         313478\n",
      "Hispanic                      377309\n",
      "Multi-Racial                    2358\n",
      "Native American                 1626\n",
      "White                         133888\n"
     ]
    }
   ],
   "source": [
    "pivot_2014 = data_2014_avail.pivot_table(values = 'Total Cohort #',index ='Demographic Variable', aggfunc = 'sum')\n",
    "print(pivot_2014)"
   ]
  },
  {
   "cell_type": "markdown",
   "metadata": {},
   "source": [
    "#### 2.1.5\n",
    "My first attempt to convert the data type of the 'Local % of Cohort' problem gave me an error that suggested this column contained non-numeric data. Looking at the value counts, I saw some rows still had suppressed data ('s'). Getting rid of rows with 's' in one category should get rid of rows with any 's' values, so I should be able to convert any column to numeric types in further analysis after removing rows with an 's' in this column."
   ]
  },
  {
   "cell_type": "code",
   "execution_count": 28,
   "metadata": {},
   "outputs": [
    {
     "data": {
      "text/plain": [
       "0.0     3699\n",
       "s       2039\n",
       "20.0     210\n",
       "14.3     204\n",
       "16.7     187\n",
       "        ... \n",
       "54.1       1\n",
       "63.5       1\n",
       "74.2       1\n",
       "75.4       1\n",
       "74.4       1\n",
       "Name: Local % of cohort, Length: 707, dtype: int64"
      ]
     },
     "execution_count": 28,
     "metadata": {},
     "output_type": "execute_result"
    }
   ],
   "source": [
    "data_2014_avail['Local % of cohort'].value_counts()"
   ]
  },
  {
   "cell_type": "code",
   "execution_count": 29,
   "metadata": {},
   "outputs": [],
   "source": [
    "data_2014_avail = data_2014_avail[data_2014_avail['Local % of cohort'] != 's']"
   ]
  },
  {
   "cell_type": "markdown",
   "metadata": {},
   "source": [
    "## 2.2: Data Visualization\n",
    "\n",
    "To explore trends in the data, I created line graphs for the graduation rate of each demographic in the following categories: \n",
    "- Local Diploma Graduates\n",
    "- Regents Diploma Graduates\n",
    "- Drop Out Rate\n",
    "- Overall Graduation Rate\n",
    "\n",
    "Black and Latino students still earned more Local diplomas than other racial groups, but there was a large overall decrease in Local diplomas for all groups between 2005 and 2018. This suggests that more and more students graduated with the Regents diploma instead. To see if this was the case, I plotted the number of students who have earned a Regents diploma as a comparison. I also visualised the drop-out rate. \n",
    "\n",
    "*Note: the 2014 data shows a lower graduation rate than the year before because we only have data on the 4-year graduation rate for this cohort, as opposed to other cohorts, which have information for 5&6 year graduation rates.* "
   ]
  },
  {
   "cell_type": "code",
   "execution_count": 30,
   "metadata": {},
   "outputs": [
    {
     "data": {
      "text/plain": [
       "(0.0, 40.0)"
      ]
     },
     "execution_count": 30,
     "metadata": {},
     "output_type": "execute_result"
    },
    {
     "data": {
      "image/png": "[encoded data removed]",
      "text/plain": [
       "<Figure size 432x288 with 1 Axes>"
      ]
     },
     "metadata": {
      "needs_background": "light"
     },
     "output_type": "display_data"
    }
   ],
   "source": [
    "#local diploma grads\n",
    "data_2014_avail['Local % of cohort'] =data_2014_avail['Local % of cohort'].astype(float)\n",
    "pivot_2014 = data_2014_avail.pivot_table(values ='Local % of cohort',index = 'Demographic Variable', columns = 'Cohort Year' )\n",
    "pivot_graph = pivot_2014.reset_index()\n",
    "melt_2014 = pd.melt(pivot_graph,id_vars='Demographic Variable')\n",
    "melt_2014.set_index('Cohort Year', inplace=True)\n",
    "melt_2014.groupby('Demographic Variable')['value'].plot(legend=True)\n",
    "plt.xlim(2001,2014)\n",
    "plt.ylim(0,40)"
   ]
  },
  {
   "cell_type": "code",
   "execution_count": 31,
   "metadata": {},
   "outputs": [
    {
     "data": {
      "text/plain": [
       "(0.0, 100.0)"
      ]
     },
     "execution_count": 31,
     "metadata": {},
     "output_type": "execute_result"
    },
    {
     "data": {
      "image/png": "[encoded data removed]",
      "text/plain": [
       "<Figure size 432x288 with 1 Axes>"
      ]
     },
     "metadata": {
      "needs_background": "light"
     },
     "output_type": "display_data"
    }
   ],
   "source": [
    "#Regents Diploma\n",
    "data_2014_avail['Total Regents % of cohort'] =data_2014_avail['Total Regents % of cohort'].astype(float)\n",
    "pivot_2014_reg = data_2014_avail.pivot_table(values ='Total Regents % of cohort',index = 'Demographic Variable', columns = 'Cohort Year' )\n",
    "pivot_graph_reg = pivot_2014_reg.reset_index()\n",
    "melt_2014_reg = pd.melt(pivot_graph_reg,id_vars='Demographic Variable')\n",
    "melt_2014_reg.set_index('Cohort Year', inplace=True)\n",
    "melt_2014_reg.groupby('Demographic Variable')['value'].plot(legend=True)\n",
    "plt.xlim(2001,2014)\n",
    "plt.ylim(0,100)"
   ]
  },
  {
   "cell_type": "code",
   "execution_count": 32,
   "metadata": {},
   "outputs": [
    {
     "data": {
      "text/plain": [
       "(0.0, 100.0)"
      ]
     },
     "execution_count": 32,
     "metadata": {},
     "output_type": "execute_result"
    },
    {
     "data": {
      "image/png": "[encoded data removed]",
      "text/plain": [
       "<Figure size 432x288 with 1 Axes>"
      ]
     },
     "metadata": {
      "needs_background": "light"
     },
     "output_type": "display_data"
    }
   ],
   "source": [
    "#Drop out rate\n",
    "data_2014_avail['Dropped Out % of cohort'] =data_2014_avail['Dropped Out % of cohort'].astype(float)\n",
    "pivot_2014_drop = pd.DataFrame(data_2014_avail.pivot_table(values ='Dropped Out % of cohort',index = 'Demographic Variable', columns = 'Cohort Year' ))\n",
    "pivot_graph_drop = pivot_2014_drop.reset_index()\n",
    "melt_2014_drop = pd.melt(pivot_graph_drop,id_vars='Demographic Variable')\n",
    "melt_2014_drop.set_index('Cohort Year', inplace=True)\n",
    "melt_2014_drop.groupby('Demographic Variable')['value'].plot(legend=True)\n",
    "plt.xlim(2001,2014)\n",
    "plt.ylim(0,100)"
   ]
  },
  {
   "cell_type": "code",
   "execution_count": 33,
   "metadata": {},
   "outputs": [
    {
     "data": {
      "text/plain": [
       "(0.0, 100.0)"
      ]
     },
     "execution_count": 33,
     "metadata": {},
     "output_type": "execute_result"
    },
    {
     "data": {
      "image/png": "[encoded data removed]",
      "text/plain": [
       "<Figure size 432x288 with 1 Axes>"
      ]
     },
     "metadata": {
      "needs_background": "light"
     },
     "output_type": "display_data"
    }
   ],
   "source": [
    "# Overall Graduation Rate \n",
    "data_2014_avail['Total Grads % of cohort'] =data_2014_avail['Total Grads % of cohort'].astype(float)\n",
    "pivot_2014_total = pd.DataFrame(data_2014_avail.pivot_table(values ='Total Grads % of cohort',index = 'Demographic Variable', columns = 'Cohort Year' ))\n",
    "pivot_graph_total = pivot_2014_total.reset_index()\n",
    "melt_2014_total = pd.melt(pivot_graph_total,id_vars='Demographic Variable')\n",
    "melt_2014_total.set_index('Cohort Year', inplace=True)\n",
    "melt_2014_total.groupby('Demographic Variable')['value'].plot(legend=True)\n",
    "plt.xlim(2001,2014)\n",
    "plt.ylim(0,100)"
   ]
  },
  {
   "cell_type": "markdown",
   "metadata": {},
   "source": [
    "### 2.3: Analysis of Graduation Outcomes\n",
    "\n",
    "The graphical results show a clear trend for all three graudation outcomes: the number of dropouts and local diplomas have decreased, while the number of regents diplomas have increased. However, the total number of graduates has stayed fairly constant across all groups, with only a slight increase from the 2001 to 2013 cohorts. This would suggest that the decrease in Local diploma graduates is, in fact, being complemented by the increase in Regents grads. To confirm, I will create a table with the percentage change in graduation outcomes between 2001 and 2013, using the pivot tables I created in the previous section to visualize the data. \n",
    "\n",
    "As an overall trend, the number of dropouts and local diplomas decreased (25.8% and 11.3% respectively) across all racial groups. This corresponds to an increase in Regents diplomas and the overall graduation rate (35.8% and 10.2%) across all groups. \n",
    "\n",
    "However, a closer inspection of the graphs suggested that the number of Local diploma graduates hit a low with the 2008 cohort (2012-2014 graduation) and then increased slightly in later cohorts. The number of students earning a Regents diploma also stabilized. If I change the delta function to look at the change in statistics between 2008 and 2013, the numbers tell a less aspirational story.\n",
    "\n",
    "*Note: I only used data for cohorts between 2001 and 2013 because the 2014 cohort has only 4-year graduation data available, giving the appearance of a smaller number of graduates for this cohort.*"
   ]
  },
  {
   "cell_type": "code",
   "execution_count": 34,
   "metadata": {},
   "outputs": [
    {
     "name": "stdout",
     "output_type": "stream",
     "text": [
      "Cohort Year Demographic Variable  delta_local  delta_dropouts  delta_regents  \\\n",
      "0                   All Students       -25.96          -11.02          35.79   \n",
      "1                          Asian       -23.76           -9.89          31.27   \n",
      "2                          Black       -27.23          -13.08          38.63   \n",
      "3                       Hispanic       -24.89          -12.50          36.00   \n",
      "4                   Multi-Racial          NaN             NaN            NaN   \n",
      "5                Native American       -18.12          -10.99          24.62   \n",
      "6                          White       -25.79          -11.29          36.55   \n",
      "\n",
      "Cohort Year  delta_total_grads  \n",
      "0                         9.97  \n",
      "1                         7.64  \n",
      "2                        11.52  \n",
      "3                        11.28  \n",
      "4                          NaN  \n",
      "5                         6.49  \n",
      "6                        10.87  \n"
     ]
    }
   ],
   "source": [
    "def delta(df):\n",
    "    df['delta'] = round(df[2013]-df[2001],2)\n",
    "    return df\n",
    "\n",
    "def delta_df(df):\n",
    "    df = delta(df)\n",
    "    df = df.reset_index()\n",
    "    new_df = df[['Demographic Variable','delta']].copy()\n",
    "    return new_df \n",
    "\n",
    "delta_local = delta_df(pivot_2014)\n",
    "delta_local = delta_local.rename(columns = {'delta':'delta_local'})\n",
    "delta_dropouts = delta_df(pivot_2014_drop)\n",
    "delta_dropouts = delta_dropouts.rename(columns = {'delta':'delta_dropouts'})\n",
    "delta_regents = delta_df(pivot_2014_reg)\n",
    "delta_regents = delta_regents.rename(columns = {'delta':'delta_regents'})\n",
    "delta_total_grads = delta_df(pivot_2014_total)\n",
    "delta_total_grads=delta_total_grads.rename(columns = {'delta':'delta_total_grads'})\n",
    "delta_1 = pd.merge(delta_local,delta_dropouts, on = 'Demographic Variable')\n",
    "delta_2 = pd.merge(delta_1, delta_regents, on = 'Demographic Variable')\n",
    "delta_all = pd.merge(delta_2, delta_total_grads, on = 'Demographic Variable')\n",
    "print(delta_all)"
   ]
  },
  {
   "cell_type": "code",
   "execution_count": 35,
   "metadata": {},
   "outputs": [
    {
     "name": "stdout",
     "output_type": "stream",
     "text": [
      "Cohort Year Demographic Variable  delta_local  delta_dropouts  delta_regents  \\\n",
      "0                   All Students         3.44           -4.32          -0.82   \n",
      "1                          Asian         0.89           -3.88           1.34   \n",
      "2                          Black         3.46           -5.48           0.39   \n",
      "3                       Hispanic         4.20           -4.73          -1.00   \n",
      "4                   Multi-Racial         0.43            1.96          -5.11   \n",
      "5                Native American        -6.33            1.74           0.62   \n",
      "6                          White         0.32           -7.25           4.40   \n",
      "\n",
      "Cohort Year  delta_total_grads  \n",
      "0                         2.62  \n",
      "1                         2.24  \n",
      "2                         3.85  \n",
      "3                         3.20  \n",
      "4                        -4.68  \n",
      "5                        -5.72  \n",
      "6                         4.71  \n"
     ]
    }
   ],
   "source": [
    "# 2008-2013 Outcomes\n",
    "def delta(df):\n",
    "    df['delta'] = round(df[2013]-df[2008],2)\n",
    "    return df\n",
    "\n",
    "def delta_df(df):\n",
    "    df = delta(df)\n",
    "    df = df.reset_index()\n",
    "    new_df = df[['Demographic Variable','delta']].copy()\n",
    "    return new_df \n",
    "\n",
    "delta_local = delta_df(pivot_2014)\n",
    "delta_local = delta_local.rename(columns = {'delta':'delta_local'})\n",
    "delta_dropouts = delta_df(pivot_2014_drop)\n",
    "delta_dropouts = delta_dropouts.rename(columns = {'delta':'delta_dropouts'})\n",
    "delta_regents = delta_df(pivot_2014_reg)\n",
    "delta_regents = delta_regents.rename(columns = {'delta':'delta_regents'})\n",
    "delta_total_grads = delta_df(pivot_2014_total)\n",
    "delta_total_grads=delta_total_grads.rename(columns = {'delta':'delta_total_grads'})\n",
    "delta_1 = pd.merge(delta_local,delta_dropouts, on = 'Demographic Variable')\n",
    "delta_2 = pd.merge(delta_1, delta_regents, on = 'Demographic Variable')\n",
    "delta_all = pd.merge(delta_2, delta_total_grads, on = 'Demographic Variable')\n",
    "print(delta_all)"
   ]
  },
  {
   "cell_type": "markdown",
   "metadata": {},
   "source": [
    "### 2.3.2\n",
    "Since I am mainly concerned with the number of Local diploma graduates, I examined the trend of Local diploma graduates of each racial demographic since 2008. "
   ]
  },
  {
   "cell_type": "code",
   "execution_count": 36,
   "metadata": {},
   "outputs": [
    {
     "data": {
      "text/plain": [
       "<bound method NDFrame.head of Cohort Year                2001       2002       2003       2004       2005  \\\n",
       "Demographic Variable                                                          \n",
       "All Students          34.648918  31.848276  29.814791  28.772647  25.837297   \n",
       "Asian                 26.117347  20.718447  16.519444  17.525833  13.400000   \n",
       "Black                 36.835326  33.609865  32.319841  30.446127  27.278662   \n",
       "Hispanic              34.136816  32.518421  31.069884  29.156314  24.962727   \n",
       "Multi-Racial                NaN   0.000000  19.846667  18.333333  20.725000   \n",
       "Native American       23.883333  22.350000  27.480000  22.533333  18.457143   \n",
       "White                 29.639623  25.518919  20.094059  17.505714  18.489167   \n",
       "\n",
       "Cohort Year                2006       2007       2008      2009      2010  \\\n",
       "Demographic Variable                                                        \n",
       "All Students          21.201535  15.389851   5.250355  5.839180  7.334286   \n",
       "Asian                 11.336957   7.954815   1.462143  1.697279  1.873548   \n",
       "Black                 23.331003  16.810947   6.144847  6.602273  7.929973   \n",
       "Hispanic              21.200583  14.767614   5.046537  5.812403  7.571178   \n",
       "Multi-Racial           5.550000   0.000000   0.000000       NaN  0.000000   \n",
       "Native American       29.425000  10.983333  12.090000  1.855556  0.000000   \n",
       "White                 12.805738   9.023364   3.525862  4.302500  4.374615   \n",
       "\n",
       "Cohort Year               2011      2012      2013      2014  delta  \n",
       "Demographic Variable                                                 \n",
       "All Students          7.243516  8.261304  8.690851  6.910947   3.44  \n",
       "Asian                 1.862500  2.356180  2.354688  2.112887   0.89  \n",
       "Black                 7.974005  9.196447  9.602689  7.997727   3.46  \n",
       "Hispanic              7.497842  8.219059  9.250688  7.418018   4.20  \n",
       "Multi-Racial          0.000000  0.000000  0.433333  3.307317   0.43  \n",
       "Native American       2.857143  6.341667  5.760000  2.550000  -6.33  \n",
       "White                 3.787413  4.951724  3.849669  3.644643   0.32  >"
      ]
     },
     "execution_count": 36,
     "metadata": {},
     "output_type": "execute_result"
    }
   ],
   "source": [
    "pivot_2014.head"
   ]
  },
  {
   "cell_type": "code",
   "execution_count": 37,
   "metadata": {},
   "outputs": [
    {
     "name": "stdout",
     "output_type": "stream",
     "text": [
      "All Students\n",
      "Asian\n",
      "Black\n",
      "Hispanic\n",
      "Multi-Racial\n",
      "Native American\n",
      "White\n"
     ]
    }
   ],
   "source": [
    "data = pivot_2014[[2008,2009,2010,2011,2012,2013]]\n",
    "data = data.reset_index()\n",
    "new_list = []\n",
    "for i in range(len(data)):\n",
    "    new_list.append([data.iloc[i,0],data.iloc[i,1:].values])\n",
    "    print(new_list[i][0])"
   ]
  },
  {
   "cell_type": "code",
   "execution_count": 38,
   "metadata": {},
   "outputs": [
    {
     "name": "stdout",
     "output_type": "stream",
     "text": [
      "asian:  \n",
      "0.1837 x - 367.3\n",
      "white:  \n",
      "0.08513 x - 167\n",
      "black:  \n",
      "0.7176 x - 1435\n",
      "hispanic:  \n",
      "0.8048 x - 1611\n"
     ]
    },
    {
     "data": {
      "image/png": "[encoded data removed]",
      "text/plain": [
       "<Figure size 648x504 with 4 Axes>"
      ]
     },
     "metadata": {
      "needs_background": "light"
     },
     "output_type": "display_data"
    }
   ],
   "source": [
    "asian = new_list[1][1].astype(float)\n",
    "black = new_list[2][1].astype(float)\n",
    "hispanic = new_list[3][1].astype(float)\n",
    "white = new_list[6][1].astype(float)\n",
    "X = np.array([2008,2009,2010,2011,2012,2013]).astype(float)\n",
    "fig, ax = plt.subplots(2, 2, figsize=(9, 7), sharex=True, sharey=True)\n",
    "\n",
    "z = np.polyfit(X, asian, 1)\n",
    "p_1 = np.poly1d(z)\n",
    "ax[0, 1].plot(X,p_1(X))\n",
    "ax[0, 1].plot(X, asian)\n",
    "ax[0, 1].set_title('asian', fontsize=14)\n",
    "\n",
    "\n",
    "z = np.polyfit(X, white, 1)\n",
    "p_2 = np.poly1d(z)\n",
    "ax[0, 0].plot(X,p_2(X))\n",
    "ax[0, 0].plot(X, white)\n",
    "ax[0, 0].set_title('white', fontsize=14)\n",
    "\n",
    "z = np.polyfit(X, black, 1)\n",
    "p_3 = np.poly1d(z)\n",
    "ax[1, 1].plot(X,p_3(X))\n",
    "ax[1, 1].plot(X, black)\n",
    "ax[1, 1].set_title('black', fontsize=14)\n",
    "\n",
    "z = np.polyfit(X, hispanic, 1)\n",
    "p_4 = np.poly1d(z)\n",
    "ax[1, 0].plot(X,p_4(X))\n",
    "ax[1, 0].plot(X, hispanic)\n",
    "ax[1, 0].set_title('hispanic', fontsize=14)\n",
    "\n",
    "\n",
    "fig.text(0.5, 0.04, 'Year', ha='center', fontsize=18)\n",
    "44\n",
    "fig.text(0.04, 0.5, '% Local Diploma Grads in Cohort', va='center', rotation='vertical', fontsize=18)\n",
    "print('asian:',p_1)\n",
    "print('white:',p_2)\n",
    "print('black:',p_3)\n",
    "print('hispanic:',p_4)"
   ]
  },
  {
   "cell_type": "markdown",
   "metadata": {},
   "source": [
    "### 2.4: Conclusion\n",
    "Not only do a higher percentage of Black and Hispanic students earn a Local diploma, there has been a larger increase in the number of Local diplomas earned for Black and Latino students compared to White and Asian students since 2008. The slope of the formulas for the trendlines show an increase of 0.72% of Black students and 0.8% of Hispanic students per year earning the Local diploma, compared to an increas for White and Asian students of 0.08% and 0.18%. If this trend continues, an increasingly disproportionate number of Black and Latino students may be locked out of finishing school due to the elimination of the Local diploma."
   ]
  },
  {
   "cell_type": "code",
   "execution_count": 39,
   "metadata": {
    "scrolled": false
   },
   "outputs": [
    {
     "name": "stdout",
     "output_type": "stream",
     "text": [
      "                      Local #\n",
      "Demographic Variable         \n",
      "All Students             4853\n",
      "Asian                     201\n",
      "Black                    1700\n",
      "Hispanic                 2342\n",
      "Multi-Racial                2\n",
      "Native American             8\n",
      "White                     361\n"
     ]
    }
   ],
   "source": [
    "data_2014_avail['Local #'] =data_2014_avail['Local #'].astype(int)\n",
    "cohort_2013 = data_2014_avail[data_2014_avail['Cohort Year']==2013]\n",
    "pivot_impact = cohort_2013.pivot_table(values = 'Local #',index ='Demographic Variable', aggfunc = 'sum')\n",
    "print(pivot_impact)"
   ]
  },
  {
   "cell_type": "markdown",
   "metadata": {},
   "source": [
    "For the 2013 cohort alone, 4,853 students earned a Local diploma. Without an alternative path to graduation or an intensified effort to help all students to earn a Regents diploma, this represents a growing percentage of New York children who will be locked out of completing their education. \n",
    "\n",
    "The majority of these students are Black or Hispanic, and these students are earning a Local diploma at increasing rates. Therefore, I believe there is substantial evidence that these groups will be disproportionately affected by the elimination of the Local Diploma. I sincerely hope that there are plans in place to bridge the gap between for would-be Local diploma grads for incoming classes, so that all students in New York have a chance at completing high school. "
   ]
  }
 ],
 "metadata": {
  "kernelspec": {
   "display_name": "Python 3",
   "language": "python",
   "name": "python3"
  },
  "language_info": {
   "codemirror_mode": {
    "name": "ipython",
    "version": 3
   },
   "file_extension": ".py",
   "mimetype": "text/x-python",
   "name": "python",
   "nbconvert_exporter": "python",
   "pygments_lexer": "ipython3",
   "version": "3.8.3"
  }
 },
 "nbformat": 4,
 "nbformat_minor": 4
}
