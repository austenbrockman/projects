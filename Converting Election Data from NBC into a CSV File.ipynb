{
 "cells": [
  {
   "cell_type": "markdown",
   "metadata": {},
   "source": [
    "## Independent Project: Converting Election Data from NBC into a CSV File\n",
    "\n",
    "While looking for project ideas on Kaggle, [this dataset](https://www.kaggle.com/imoore/2020-us-general-election-turnout-rates/activity) caught my eye. My first instinct was to investigate if there was a correlation between the turnout in a state, and the share of votes that Joe Biden or Donald Trump recieved there. \n",
    "\n",
    "However, a Google search for '2020 Election Results CSV' didn't yield any results. That's frustrating, given that several news outlets have published this data. Why hasn't someone turned it into a csv? Wait - why don't I convert it into a CSV from a news outlet's site? \n",
    "\n",
    "### Part 1: Web Scraping using Beautiful Soup\n",
    "I decided to use the vote count published [here](https://www.nbcnews.com/politics/2020-elections/president-results) on the NBC News Website. I loaded the html into a string, and selected out the 'tr' elements, which represent the rows in the Results table. The original list returned from this was 63 elements long, so I examined the first 30 characters of each element to determine which acutally represented a state/territory, and deleted the rest of the rows from my list."
   ]
  },
  {
   "cell_type": "code",
   "execution_count": 1,
   "metadata": {},
   "outputs": [],
   "source": [
    "from urllib.request import urlopen\n",
    "from bs4 import BeautifulSoup\n",
    "url = \"https://www.nbcnews.com/politics/2020-elections/president-results\"\n",
    "page = urlopen(url)\n",
    "html_bytes = page.read()\n",
    "html = html_bytes.decode(\"utf-8\")\n",
    "soup = BeautifulSoup(html, 'html.parser')"
   ]
  },
  {
   "cell_type": "code",
   "execution_count": 2,
   "metadata": {},
   "outputs": [
    {
     "name": "stdout",
     "output_type": "stream",
     "text": [
      "63\n"
     ]
    }
   ],
   "source": [
    "state_list = []\n",
    "state_data = soup.find_all('tr')\n",
    "for item in state_data: \n",
    "    state_list.append(str(item))\n",
    "print(len(state_list))"
   ]
  },
  {
   "cell_type": "code",
   "execution_count": 3,
   "metadata": {},
   "outputs": [
    {
     "name": "stdout",
     "output_type": "stream",
     "text": [
      "['<tr><th scope=\"col\">State Name', '<tr><th scope=\"row\">Alabama</t', '<tr><th scope=\"row\">Alaska</th', '<tr><th scope=\"row\">Arizona</t', '<tr><th scope=\"row\">Colorado</', '<tr><th scope=\"row\">Florida</t', '<tr><th scope=\"row\">Georgia</t', '<tr><th scope=\"row\">Indiana</t', '<tr><th scope=\"row\">Kansas</th', '<tr><th scope=\"row\">Maine</th>', '<tr><th scope=\"row\">Massachuse', '<tr><th scope=\"row\">Minnesota<', '<tr><th scope=\"row\">New Jersey', '<tr><th scope=\"row\">North Caro', '<tr><th scope=\"row\">North Dako', '<tr><th scope=\"row\">Oklahoma</', '<tr><th scope=\"row\">Pennsylvan', '<tr><th scope=\"row\">South Dako', '<tr><th scope=\"row\">Texas</th>', '<tr><th scope=\"row\">Wyoming</t', '<tr><th scope=\"row\">Connecticu', '<tr><th scope=\"row\">Missouri</', '<tr><th scope=\"row\">West Virgi', '<tr><th scope=\"row\">Illinois</', '<tr><th scope=\"row\">New Mexico', '<tr><th scope=\"row\">Arkansas</', '<tr><th scope=\"row\">California', '<tr><th scope=\"row\">Delaware</', '<tr><th scope=\"row\">District o', '<tr><th scope=\"row\">Hawaii</th', '<tr><th scope=\"row\">Iowa</th><', '<tr><th scope=\"row\">Kentucky</', '<tr><th scope=\"row\">Maryland</', '<tr><th scope=\"row\">Michigan</', '<tr><th scope=\"row\">Mississipp', '<tr><th scope=\"row\">Montana</t', '<tr><th scope=\"row\">New Hampsh', '<tr><th scope=\"row\">New York</', '<tr><th scope=\"row\">Ohio</th><', '<tr><th scope=\"row\">Oregon</th', '<tr><th scope=\"row\">Tennessee<', '<tr><th scope=\"row\">Utah</th><', '<tr><th scope=\"row\">Virginia</', '<tr><th scope=\"row\">Washington', '<tr><th scope=\"row\">Wisconsin<', '<tr><th scope=\"row\">American S', '<tr><th scope=\"row\">Guam</th><', '<tr><th scope=\"row\">Commonweal', '<tr><th scope=\"row\">Nebraska</', '<tr><th scope=\"row\">South Caro', '<tr><th scope=\"row\">Puerto Ric', '<tr><th scope=\"row\">United Sta', '<tr><th scope=\"row\">Idaho</th>', '<tr><th scope=\"row\">Nevada</th', '<tr><th scope=\"row\">Vermont</t', '<tr><th scope=\"row\">Louisiana<', '<tr><th scope=\"row\">Rhode Isla', '<tr class=\"row-labels\" data-te', '<tr class=\"row-data founders-c', '<tr class=\"row-data founders-c', '<tr class=\"row-labels\" data-te', '<tr class=\"row-data founders-c', '<tr class=\"row-data founders-c']\n"
     ]
    }
   ],
   "source": [
    "list_preview = [i[:30] for i in state_list]\n",
    "print(list_preview)"
   ]
  },
  {
   "cell_type": "code",
   "execution_count": 4,
   "metadata": {},
   "outputs": [
    {
     "name": "stdout",
     "output_type": "stream",
     "text": [
      "56\n"
     ]
    }
   ],
   "source": [
    "del state_list[0]\n",
    "del state_list[-6:]\n",
    "print(len(state_list))"
   ]
  },
  {
   "cell_type": "markdown",
   "metadata": {},
   "source": [
    "### Part 2: Cleaning Data for Each State and Reading it into a DataFrame\n",
    "\n",
    "I used a function to get rid of all of the HTML elements in each item on my list, and to split the data for each state into its own list. The only HTML element that I chose to clean separately was the URL. If I had used the function with the characters at the end of the URL, the word 'Go' would have been tacked onto the URL, making the URL in my end product invalid. "
   ]
  },
  {
   "cell_type": "code",
   "execution_count": 5,
   "metadata": {},
   "outputs": [
    {
     "name": "stdout",
     "output_type": "stream",
     "text": [
      "<tr><th scope=\"row\">Alabama</th><td>9</td><td>100%</td><td>Biden 36.6% 849,648 votes</td><td>Trump 62% 1,441,168 votes</td><td><a class=\"\" href=\"/politics/2020-elections/alabama-president-results?icid=election_usmap\">Go to page Alabama results page</a></td></tr>\n"
     ]
    }
   ],
   "source": [
    "print(state_list[0])"
   ]
  },
  {
   "cell_type": "code",
   "execution_count": 6,
   "metadata": {},
   "outputs": [
    {
     "name": "stdout",
     "output_type": "stream",
     "text": [
      "['Alabama', '9', '100%', 'Biden 36.6% 849,648 votes', 'Trump 62% 1,441,168 votes', 'politics/2020-elections/alabama-president-results?icid=election_usmap Go to page Alabama results page']\n"
     ]
    }
   ],
   "source": [
    "cleaned_list = []\n",
    "bad_chars = ['<tr><th scope=\"row\">',\"</th>\",\"</td>\",\"</a></td></tr>\",'<a class=\"\" href=\"/','</a></tr>']\n",
    "def strip_characters(string): \n",
    "    for char in bad_chars: \n",
    "        string = string.replace(char, \"\") \n",
    "    return string\n",
    "\n",
    "for item1 in state_list:\n",
    "    temp_list = []\n",
    "    item_list = item1.split(\"<td>\")\n",
    "    for item in item_list: \n",
    "        item = strip_characters(item)\n",
    "        item = item.replace('\">',\" \")\n",
    "        temp_list.append(item)\n",
    "    cleaned_list.append(temp_list)\n",
    "print(cleaned_list[0])\n",
    "    "
   ]
  },
  {
   "cell_type": "code",
   "execution_count": 7,
   "metadata": {},
   "outputs": [
    {
     "name": "stdout",
     "output_type": "stream",
     "text": [
      "<class 'pandas.core.frame.DataFrame'>\n",
      "RangeIndex: 56 entries, 0 to 55\n",
      "Data columns (total 6 columns):\n",
      " #   Column           Non-Null Count  Dtype \n",
      "---  ------           --------------  ----- \n",
      " 0   State            56 non-null     object\n",
      " 1   Electoral Votes  56 non-null     object\n",
      " 2   % Vote Counted   56 non-null     object\n",
      " 3   Biden Results    56 non-null     object\n",
      " 4   Trump Results    51 non-null     object\n",
      " 5   URL              51 non-null     object\n",
      "dtypes: object(6)\n",
      "memory usage: 2.8+ KB\n"
     ]
    }
   ],
   "source": [
    "import pandas as pd\n",
    "import numpy as np\n",
    "results_2020 = pd.DataFrame(cleaned_list,columns=['State','Electoral Votes', '% Vote Counted','Biden Results','Trump Results','URL'])\n",
    "results_2020.info()"
   ]
  },
  {
   "cell_type": "markdown",
   "metadata": {},
   "source": [
    "### Part 3: Cleaning the DataFrame\n",
    "\n",
    "Although the data had already come a long way from the HTML format, there was more to do before it would be usable as a CSV. \n",
    "\n",
    "The first step I took was removing the '% Vote Counted' column - at the time of scraping this data, all states and territories had either 99% or 100% of votes counted, making this measure unimportant.  \n",
    "\n",
    "The next step was separating the results for each candidate into distinct columns for vote count and percentage. I ran into a problem, however, when attempting this: I was getting an error. After looking at the results of the column split in a new list, I realized that the data for the US territories was empty, so I removed these from my dataframe. This left only the fifty states and Washington D.C. as my row values. "
   ]
  },
  {
   "cell_type": "code",
   "execution_count": 8,
   "metadata": {},
   "outputs": [
    {
     "data": {
      "text/plain": [
       "100%    48\n",
       "         5\n",
       "99%      3\n",
       "Name: % Vote Counted, dtype: int64"
      ]
     },
     "execution_count": 8,
     "metadata": {},
     "output_type": "execute_result"
    }
   ],
   "source": [
    "results_2020['% Vote Counted'].value_counts()"
   ]
  },
  {
   "cell_type": "code",
   "execution_count": 9,
   "metadata": {},
   "outputs": [
    {
     "data": {
      "text/html": [
       "<div>\n",
       "<style scoped>\n",
       "    .dataframe tbody tr th:only-of-type {\n",
       "        vertical-align: middle;\n",
       "    }\n",
       "\n",
       "    .dataframe tbody tr th {\n",
       "        vertical-align: top;\n",
       "    }\n",
       "\n",
       "    .dataframe thead th {\n",
       "        text-align: right;\n",
       "    }\n",
       "</style>\n",
       "<table border=\"1\" class=\"dataframe\">\n",
       "  <thead>\n",
       "    <tr style=\"text-align: right;\">\n",
       "      <th></th>\n",
       "      <th>State</th>\n",
       "      <th>Electoral Votes</th>\n",
       "      <th>Biden Results</th>\n",
       "      <th>Trump Results</th>\n",
       "      <th>URL</th>\n",
       "    </tr>\n",
       "  </thead>\n",
       "  <tbody>\n",
       "    <tr>\n",
       "      <th>0</th>\n",
       "      <td>Alabama</td>\n",
       "      <td>9</td>\n",
       "      <td>Biden 36.6% 849,648 votes</td>\n",
       "      <td>Trump 62% 1,441,168 votes</td>\n",
       "      <td>politics/2020-elections/alabama-president-resu...</td>\n",
       "    </tr>\n",
       "    <tr>\n",
       "      <th>1</th>\n",
       "      <td>Alaska</td>\n",
       "      <td>3</td>\n",
       "      <td>Biden 42.8% 153,778 votes</td>\n",
       "      <td>Trump 52.8% 189,951 votes</td>\n",
       "      <td>politics/2020-elections/alaska-president-resul...</td>\n",
       "    </tr>\n",
       "    <tr>\n",
       "      <th>2</th>\n",
       "      <td>Arizona</td>\n",
       "      <td>11</td>\n",
       "      <td>Biden 49.4% 1,672,143 votes</td>\n",
       "      <td>Trump 49.1% 1,661,686 votes</td>\n",
       "      <td>politics/2020-elections/arizona-president-resu...</td>\n",
       "    </tr>\n",
       "    <tr>\n",
       "      <th>3</th>\n",
       "      <td>Colorado</td>\n",
       "      <td>9</td>\n",
       "      <td>Biden 55.4% 1,804,352 votes</td>\n",
       "      <td>Trump 41.9% 1,364,607 votes</td>\n",
       "      <td>politics/2020-elections/colorado-president-res...</td>\n",
       "    </tr>\n",
       "    <tr>\n",
       "      <th>4</th>\n",
       "      <td>Florida</td>\n",
       "      <td>29</td>\n",
       "      <td>Biden 47.9% 5,297,045 votes</td>\n",
       "      <td>Trump 51.2% 5,668,731 votes</td>\n",
       "      <td>politics/2020-elections/florida-president-resu...</td>\n",
       "    </tr>\n",
       "  </tbody>\n",
       "</table>\n",
       "</div>"
      ],
      "text/plain": [
       "      State Electoral Votes                Biden Results  \\\n",
       "0   Alabama               9    Biden 36.6% 849,648 votes   \n",
       "1    Alaska               3    Biden 42.8% 153,778 votes   \n",
       "2   Arizona              11  Biden 49.4% 1,672,143 votes   \n",
       "3  Colorado               9  Biden 55.4% 1,804,352 votes   \n",
       "4   Florida              29  Biden 47.9% 5,297,045 votes   \n",
       "\n",
       "                 Trump Results  \\\n",
       "0    Trump 62% 1,441,168 votes   \n",
       "1    Trump 52.8% 189,951 votes   \n",
       "2  Trump 49.1% 1,661,686 votes   \n",
       "3  Trump 41.9% 1,364,607 votes   \n",
       "4  Trump 51.2% 5,668,731 votes   \n",
       "\n",
       "                                                 URL  \n",
       "0  politics/2020-elections/alabama-president-resu...  \n",
       "1  politics/2020-elections/alaska-president-resul...  \n",
       "2  politics/2020-elections/arizona-president-resu...  \n",
       "3  politics/2020-elections/colorado-president-res...  \n",
       "4  politics/2020-elections/florida-president-resu...  "
      ]
     },
     "execution_count": 9,
     "metadata": {},
     "output_type": "execute_result"
    }
   ],
   "source": [
    "results_2020 = results_2020.drop(columns = '% Vote Counted')\n",
    "results_2020.head()"
   ]
  },
  {
   "cell_type": "code",
   "execution_count": 10,
   "metadata": {},
   "outputs": [
    {
     "name": "stdout",
     "output_type": "stream",
     "text": [
      "        0         1                                                  2\n",
      "0   Biden     36.6%                                      849,648 votes\n",
      "1   Biden     42.8%                                      153,778 votes\n",
      "2   Biden     49.4%                                    1,672,143 votes\n",
      "3   Biden     55.4%                                    1,804,352 votes\n",
      "4   Biden     47.9%                                    5,297,045 votes\n",
      "5   Biden     49.5%                                    2,473,633 votes\n",
      "6   Biden       41%                                    1,242,495 votes\n",
      "7   Biden     41.5%                                      570,323 votes\n",
      "8   Biden     53.1%                                      435,072 votes\n",
      "9   Biden     65.6%                                    2,382,202 votes\n",
      "10  Biden     52.4%                                    1,717,077 votes\n",
      "11  Biden     57.1%                                    2,608,335 votes\n",
      "12  Biden     48.6%                                    2,684,292 votes\n",
      "13  Biden     31.8%                                      114,902 votes\n",
      "14  Biden     32.3%                                      503,890 votes\n",
      "15  Biden       50%                                    3,459,923 votes\n",
      "16  Biden     35.6%                                      150,471 votes\n",
      "17  Biden     46.5%                                    5,259,126 votes\n",
      "18  Biden     26.6%                                       73,491 votes\n",
      "19  Biden     59.2%                                    1,080,680 votes\n",
      "20  Biden     41.4%                                    1,253,014 votes\n",
      "21  Biden     29.7%                                      235,984 votes\n",
      "22  Biden     57.5%                                    3,471,915 votes\n",
      "23  Biden     54.3%                                      501,614 votes\n",
      "24  Biden     34.8%                                      423,932 votes\n",
      "25  Biden     63.5%                                   11,109,764 votes\n",
      "26  Biden     58.8%                                      296,268 votes\n",
      "27  Biden     92.1%                                      317,323 votes\n",
      "28  Biden     63.7%                                      366,130 votes\n",
      "29  Biden     44.9%                                      759,061 votes\n",
      "30  Biden     36.2%                                      772,474 votes\n",
      "31  Biden     65.4%                                    1,985,023 votes\n",
      "32  Biden     50.6%                                    2,804,040 votes\n",
      "33  Biden       41%                                      539,398 votes\n",
      "34  Biden     40.4%                                      244,786 votes\n",
      "35  Biden     52.8%                                      424,921 votes\n",
      "36  Biden     60.9%                                    5,244,006 votes\n",
      "37  Biden     45.2%                                    2,679,165 votes\n",
      "38  Biden     56.5%                                    1,340,383 votes\n",
      "39  Biden     37.5%                                    1,143,711 votes\n",
      "40  Biden     37.6%                                      560,282 votes\n",
      "41  Biden     54.1%                                    2,413,568 votes\n",
      "42  Biden       58%                                    2,369,612 votes\n",
      "43  Biden     49.5%                                    1,630,673 votes\n",
      "44     <a  class=\"\"  href=\"undefined?icid=election_usmap\" rel=\"nofo...\n",
      "45     <a  class=\"\"  href=\"undefined?icid=election_usmap\" rel=\"nofo...\n",
      "46     <a  class=\"\"  href=\"undefined?icid=election_usmap\" rel=\"nofo...\n",
      "47  Biden     39.2%                                      374,583 votes\n",
      "48  Biden     43.4%                                    1,091,541 votes\n",
      "49     <a  class=\"\"  href=\"undefined?icid=election_usmap\" rel=\"nofo...\n",
      "50     <a  class=\"\"  href=\"undefined?icid=election_usmap\" rel=\"nofo...\n",
      "51  Biden     33.1%                                      287,021 votes\n",
      "52  Biden     50.1%                                      703,486 votes\n",
      "53  Biden     66.1%                                      242,820 votes\n",
      "54  Biden     39.9%                                      856,034 votes\n",
      "55  Biden     59.4%                                      307,486 votes\n"
     ]
    }
   ],
   "source": [
    "new_list= results_2020['Biden Results'].str.split(\" \",n=2,expand = True)\n",
    "print(new_list)"
   ]
  },
  {
   "cell_type": "code",
   "execution_count": 11,
   "metadata": {},
   "outputs": [
    {
     "name": "stdout",
     "output_type": "stream",
     "text": [
      "                                           State Electoral Votes  \\\n",
      "44                                American Samoa                   \n",
      "45                                          Guam                   \n",
      "46  Commonwealth of the Northern Mariana Islands                   \n",
      "\n",
      "                                        Biden Results Trump Results   URL  \n",
      "44  <a class=\"\" href=\"undefined?icid=election_usma...          None  None  \n",
      "45  <a class=\"\" href=\"undefined?icid=election_usma...          None  None  \n",
      "46  <a class=\"\" href=\"undefined?icid=election_usma...          None  None                              State Electoral Votes  \\\n",
      "49                   Puerto Rico                   \n",
      "50  United States Virgin Islands                   \n",
      "\n",
      "                                        Biden Results Trump Results   URL  \n",
      "49  <a class=\"\" href=\"undefined?icid=election_usma...          None  None  \n",
      "50  <a class=\"\" href=\"undefined?icid=election_usma...          None  None  \n"
     ]
    }
   ],
   "source": [
    "print(results_2020.iloc[44:47, : ],results_2020.iloc[49:51, : ])"
   ]
  },
  {
   "cell_type": "code",
   "execution_count": 12,
   "metadata": {},
   "outputs": [
    {
     "name": "stdout",
     "output_type": "stream",
     "text": [
      "51\n"
     ]
    }
   ],
   "source": [
    "results_2020 = results_2020.drop(index = [44,45,46,49,50])\n",
    "print(len(results_2020))"
   ]
  },
  {
   "cell_type": "markdown",
   "metadata": {},
   "source": [
    "#### 3.1: Splitting Columns\n",
    "\n",
    "After cleaning the territories from my data, I was able to successfully split the data for each candidate's votes into three distinct columns. I then removed the original columns from the dataframe, as well as the ones which just contained the values 'Biden' or 'Trump'. \n",
    "\n",
    "Then, I cleaned the URL column. Because of the way that the data was stored in the HTML file, the base URL https://www.nbcnews.com/ was missing, so I concatenated it with the values in the URL column. I also removed the text data that comes after the URL. "
   ]
  },
  {
   "cell_type": "code",
   "execution_count": 13,
   "metadata": {},
   "outputs": [
    {
     "data": {
      "text/html": [
       "<div>\n",
       "<style scoped>\n",
       "    .dataframe tbody tr th:only-of-type {\n",
       "        vertical-align: middle;\n",
       "    }\n",
       "\n",
       "    .dataframe tbody tr th {\n",
       "        vertical-align: top;\n",
       "    }\n",
       "\n",
       "    .dataframe thead th {\n",
       "        text-align: right;\n",
       "    }\n",
       "</style>\n",
       "<table border=\"1\" class=\"dataframe\">\n",
       "  <thead>\n",
       "    <tr style=\"text-align: right;\">\n",
       "      <th></th>\n",
       "      <th>State</th>\n",
       "      <th>Electoral Votes</th>\n",
       "      <th>URL</th>\n",
       "      <th>Biden Vote Share</th>\n",
       "      <th>Biden Vote Count</th>\n",
       "      <th>Trump Vote Share</th>\n",
       "      <th>Trump Vote Count</th>\n",
       "    </tr>\n",
       "  </thead>\n",
       "  <tbody>\n",
       "    <tr>\n",
       "      <th>0</th>\n",
       "      <td>Alabama</td>\n",
       "      <td>9</td>\n",
       "      <td>politics/2020-elections/alabama-president-resu...</td>\n",
       "      <td>36.6%</td>\n",
       "      <td>849,648 votes</td>\n",
       "      <td>62%</td>\n",
       "      <td>1,441,168 votes</td>\n",
       "    </tr>\n",
       "    <tr>\n",
       "      <th>1</th>\n",
       "      <td>Alaska</td>\n",
       "      <td>3</td>\n",
       "      <td>politics/2020-elections/alaska-president-resul...</td>\n",
       "      <td>42.8%</td>\n",
       "      <td>153,778 votes</td>\n",
       "      <td>52.8%</td>\n",
       "      <td>189,951 votes</td>\n",
       "    </tr>\n",
       "    <tr>\n",
       "      <th>2</th>\n",
       "      <td>Arizona</td>\n",
       "      <td>11</td>\n",
       "      <td>politics/2020-elections/arizona-president-resu...</td>\n",
       "      <td>49.4%</td>\n",
       "      <td>1,672,143 votes</td>\n",
       "      <td>49.1%</td>\n",
       "      <td>1,661,686 votes</td>\n",
       "    </tr>\n",
       "    <tr>\n",
       "      <th>3</th>\n",
       "      <td>Colorado</td>\n",
       "      <td>9</td>\n",
       "      <td>politics/2020-elections/colorado-president-res...</td>\n",
       "      <td>55.4%</td>\n",
       "      <td>1,804,352 votes</td>\n",
       "      <td>41.9%</td>\n",
       "      <td>1,364,607 votes</td>\n",
       "    </tr>\n",
       "    <tr>\n",
       "      <th>4</th>\n",
       "      <td>Florida</td>\n",
       "      <td>29</td>\n",
       "      <td>politics/2020-elections/florida-president-resu...</td>\n",
       "      <td>47.9%</td>\n",
       "      <td>5,297,045 votes</td>\n",
       "      <td>51.2%</td>\n",
       "      <td>5,668,731 votes</td>\n",
       "    </tr>\n",
       "  </tbody>\n",
       "</table>\n",
       "</div>"
      ],
      "text/plain": [
       "      State Electoral Votes  \\\n",
       "0   Alabama               9   \n",
       "1    Alaska               3   \n",
       "2   Arizona              11   \n",
       "3  Colorado               9   \n",
       "4   Florida              29   \n",
       "\n",
       "                                                 URL Biden Vote Share  \\\n",
       "0  politics/2020-elections/alabama-president-resu...            36.6%   \n",
       "1  politics/2020-elections/alaska-president-resul...            42.8%   \n",
       "2  politics/2020-elections/arizona-president-resu...            49.4%   \n",
       "3  politics/2020-elections/colorado-president-res...            55.4%   \n",
       "4  politics/2020-elections/florida-president-resu...            47.9%   \n",
       "\n",
       "  Biden Vote Count Trump Vote Share Trump Vote Count  \n",
       "0    849,648 votes              62%  1,441,168 votes  \n",
       "1    153,778 votes            52.8%    189,951 votes  \n",
       "2  1,672,143 votes            49.1%  1,661,686 votes  \n",
       "3  1,804,352 votes            41.9%  1,364,607 votes  \n",
       "4  5,297,045 votes            51.2%  5,668,731 votes  "
      ]
     },
     "execution_count": 13,
     "metadata": {},
     "output_type": "execute_result"
    }
   ],
   "source": [
    "results_2020[['Biden','Biden Vote Share','Biden Vote Count']]= results_2020['Biden Results'].str.split(\" \",n=2,expand = True)\n",
    "results_2020[['Trump','Trump Vote Share','Trump Vote Count']]= results_2020['Trump Results'].str.split(\" \",n=2,expand = True)\n",
    "results_2020 = results_2020.drop(columns = ['Trump','Biden','Trump Results','Biden Results'])\n",
    "results_2020.head()"
   ]
  },
  {
   "cell_type": "code",
   "execution_count": 14,
   "metadata": {},
   "outputs": [],
   "source": [
    "# This is getting rid of the pesky text that follows the URL link, \n",
    "# as well as adding the site domain to make the the URL clickable.\n",
    "results_2020['URL'] = results_2020['URL'].str.split(\" \",n=1,expand = True)\n",
    "results_2020['URL']='https://www.nbcnews.com/'+results_2020['URL']"
   ]
  },
  {
   "cell_type": "markdown",
   "metadata": {},
   "source": [
    "#### 3.2: Cleaning Numeric Data\n",
    "\n",
    "All of the columns at this point are 'object' dtype, but most of them hold numeric values. \n",
    "\n",
    "First, I cleaned the percentage data by eliminating the percent sign, converting each datapoint to a float data type, and dividing the number by 100 to get the raw ratio. \n",
    "\n",
    "I used a similar function on the vote count columns. Here, I eliminated the word 'votes' and got rid of the commas. I then converted the data to dtype integer. \n",
    "\n",
    "Finally, I converted the 'Electoral Votes' Column to dtype integer as well. "
   ]
  },
  {
   "cell_type": "code",
   "execution_count": 15,
   "metadata": {},
   "outputs": [
    {
     "name": "stdout",
     "output_type": "stream",
     "text": [
      "<class 'pandas.core.frame.DataFrame'>\n",
      "Int64Index: 51 entries, 0 to 55\n",
      "Data columns (total 7 columns):\n",
      " #   Column            Non-Null Count  Dtype  \n",
      "---  ------            --------------  -----  \n",
      " 0   State             51 non-null     object \n",
      " 1   Electoral Votes   51 non-null     object \n",
      " 2   URL               51 non-null     object \n",
      " 3   Biden Vote Share  51 non-null     float64\n",
      " 4   Biden Vote Count  51 non-null     object \n",
      " 5   Trump Vote Share  51 non-null     float64\n",
      " 6   Trump Vote Count  51 non-null     object \n",
      "dtypes: float64(2), object(5)\n",
      "memory usage: 3.2+ KB\n"
     ]
    }
   ],
   "source": [
    "percent_cols = ['Biden Vote Share','Trump Vote Share']\n",
    "def clean_percent(item): \n",
    "    item = item.replace('%',\"\")\n",
    "    item = float(item)\n",
    "    item = item/100 \n",
    "    return item\n",
    "for col in percent_cols: \n",
    "    results_2020[col] = results_2020[col].apply(clean_percent)\n",
    "results_2020.info()"
   ]
  },
  {
   "cell_type": "code",
   "execution_count": 16,
   "metadata": {},
   "outputs": [
    {
     "name": "stdout",
     "output_type": "stream",
     "text": [
      "<class 'pandas.core.frame.DataFrame'>\n",
      "Int64Index: 51 entries, 0 to 55\n",
      "Data columns (total 7 columns):\n",
      " #   Column            Non-Null Count  Dtype  \n",
      "---  ------            --------------  -----  \n",
      " 0   State             51 non-null     object \n",
      " 1   Electoral Votes   51 non-null     object \n",
      " 2   URL               51 non-null     object \n",
      " 3   Biden Vote Share  51 non-null     float64\n",
      " 4   Biden Vote Count  51 non-null     int64  \n",
      " 5   Trump Vote Share  51 non-null     float64\n",
      " 6   Trump Vote Count  51 non-null     int64  \n",
      "dtypes: float64(2), int64(2), object(3)\n",
      "memory usage: 3.2+ KB\n"
     ]
    }
   ],
   "source": [
    "count_cols = ['Biden Vote Count', 'Trump Vote Count']\n",
    "def clean_count(item):\n",
    "    item = item.replace(' votes',\"\")\n",
    "    item = item.replace(',',\"\")\n",
    "    item = int(item)\n",
    "    return item\n",
    "for col in count_cols: \n",
    "    results_2020[col] = results_2020[col].apply(clean_count)\n",
    "results_2020.info()"
   ]
  },
  {
   "cell_type": "code",
   "execution_count": 17,
   "metadata": {},
   "outputs": [
    {
     "data": {
      "text/html": [
       "<div>\n",
       "<style scoped>\n",
       "    .dataframe tbody tr th:only-of-type {\n",
       "        vertical-align: middle;\n",
       "    }\n",
       "\n",
       "    .dataframe tbody tr th {\n",
       "        vertical-align: top;\n",
       "    }\n",
       "\n",
       "    .dataframe thead th {\n",
       "        text-align: right;\n",
       "    }\n",
       "</style>\n",
       "<table border=\"1\" class=\"dataframe\">\n",
       "  <thead>\n",
       "    <tr style=\"text-align: right;\">\n",
       "      <th></th>\n",
       "      <th>State</th>\n",
       "      <th>Electoral Votes</th>\n",
       "      <th>URL</th>\n",
       "      <th>Biden Vote Share</th>\n",
       "      <th>Biden Vote Count</th>\n",
       "      <th>Trump Vote Share</th>\n",
       "      <th>Trump Vote Count</th>\n",
       "    </tr>\n",
       "  </thead>\n",
       "  <tbody>\n",
       "    <tr>\n",
       "      <th>0</th>\n",
       "      <td>Alabama</td>\n",
       "      <td>9</td>\n",
       "      <td>https://www.nbcnews.com/politics/2020-election...</td>\n",
       "      <td>0.366</td>\n",
       "      <td>849648</td>\n",
       "      <td>0.620</td>\n",
       "      <td>1441168</td>\n",
       "    </tr>\n",
       "    <tr>\n",
       "      <th>1</th>\n",
       "      <td>Alaska</td>\n",
       "      <td>3</td>\n",
       "      <td>https://www.nbcnews.com/politics/2020-election...</td>\n",
       "      <td>0.428</td>\n",
       "      <td>153778</td>\n",
       "      <td>0.528</td>\n",
       "      <td>189951</td>\n",
       "    </tr>\n",
       "    <tr>\n",
       "      <th>2</th>\n",
       "      <td>Arizona</td>\n",
       "      <td>11</td>\n",
       "      <td>https://www.nbcnews.com/politics/2020-election...</td>\n",
       "      <td>0.494</td>\n",
       "      <td>1672143</td>\n",
       "      <td>0.491</td>\n",
       "      <td>1661686</td>\n",
       "    </tr>\n",
       "    <tr>\n",
       "      <th>3</th>\n",
       "      <td>Colorado</td>\n",
       "      <td>9</td>\n",
       "      <td>https://www.nbcnews.com/politics/2020-election...</td>\n",
       "      <td>0.554</td>\n",
       "      <td>1804352</td>\n",
       "      <td>0.419</td>\n",
       "      <td>1364607</td>\n",
       "    </tr>\n",
       "    <tr>\n",
       "      <th>4</th>\n",
       "      <td>Florida</td>\n",
       "      <td>29</td>\n",
       "      <td>https://www.nbcnews.com/politics/2020-election...</td>\n",
       "      <td>0.479</td>\n",
       "      <td>5297045</td>\n",
       "      <td>0.512</td>\n",
       "      <td>5668731</td>\n",
       "    </tr>\n",
       "  </tbody>\n",
       "</table>\n",
       "</div>"
      ],
      "text/plain": [
       "      State  Electoral Votes  \\\n",
       "0   Alabama                9   \n",
       "1    Alaska                3   \n",
       "2   Arizona               11   \n",
       "3  Colorado                9   \n",
       "4   Florida               29   \n",
       "\n",
       "                                                 URL  Biden Vote Share  \\\n",
       "0  https://www.nbcnews.com/politics/2020-election...             0.366   \n",
       "1  https://www.nbcnews.com/politics/2020-election...             0.428   \n",
       "2  https://www.nbcnews.com/politics/2020-election...             0.494   \n",
       "3  https://www.nbcnews.com/politics/2020-election...             0.554   \n",
       "4  https://www.nbcnews.com/politics/2020-election...             0.479   \n",
       "\n",
       "   Biden Vote Count  Trump Vote Share  Trump Vote Count  \n",
       "0            849648             0.620           1441168  \n",
       "1            153778             0.528            189951  \n",
       "2           1672143             0.491           1661686  \n",
       "3           1804352             0.419           1364607  \n",
       "4           5297045             0.512           5668731  "
      ]
     },
     "execution_count": 17,
     "metadata": {},
     "output_type": "execute_result"
    }
   ],
   "source": [
    "results_2020['Electoral Votes'] = results_2020['Electoral Votes'].astype(int)\n",
    "results_2020.head()"
   ]
  },
  {
   "cell_type": "markdown",
   "metadata": {},
   "source": [
    "#### 3.3: Sorting Data\n",
    "\n",
    "The data is really close to being ready to export, but I realized that the states are in a random order. I sorted the data alphabetically by state, the format in which one would expect this data to be displayed."
   ]
  },
  {
   "cell_type": "code",
   "execution_count": 18,
   "metadata": {},
   "outputs": [
    {
     "data": {
      "text/html": [
       "<div>\n",
       "<style scoped>\n",
       "    .dataframe tbody tr th:only-of-type {\n",
       "        vertical-align: middle;\n",
       "    }\n",
       "\n",
       "    .dataframe tbody tr th {\n",
       "        vertical-align: top;\n",
       "    }\n",
       "\n",
       "    .dataframe thead th {\n",
       "        text-align: right;\n",
       "    }\n",
       "</style>\n",
       "<table border=\"1\" class=\"dataframe\">\n",
       "  <thead>\n",
       "    <tr style=\"text-align: right;\">\n",
       "      <th></th>\n",
       "      <th>State</th>\n",
       "      <th>Electoral Votes</th>\n",
       "      <th>URL</th>\n",
       "      <th>Biden Vote Share</th>\n",
       "      <th>Biden Vote Count</th>\n",
       "      <th>Trump Vote Share</th>\n",
       "      <th>Trump Vote Count</th>\n",
       "    </tr>\n",
       "  </thead>\n",
       "  <tbody>\n",
       "    <tr>\n",
       "      <th>0</th>\n",
       "      <td>Alabama</td>\n",
       "      <td>9</td>\n",
       "      <td>https://www.nbcnews.com/politics/2020-election...</td>\n",
       "      <td>0.366</td>\n",
       "      <td>849648</td>\n",
       "      <td>0.620</td>\n",
       "      <td>1441168</td>\n",
       "    </tr>\n",
       "    <tr>\n",
       "      <th>1</th>\n",
       "      <td>Alaska</td>\n",
       "      <td>3</td>\n",
       "      <td>https://www.nbcnews.com/politics/2020-election...</td>\n",
       "      <td>0.428</td>\n",
       "      <td>153778</td>\n",
       "      <td>0.528</td>\n",
       "      <td>189951</td>\n",
       "    </tr>\n",
       "    <tr>\n",
       "      <th>2</th>\n",
       "      <td>Arizona</td>\n",
       "      <td>11</td>\n",
       "      <td>https://www.nbcnews.com/politics/2020-election...</td>\n",
       "      <td>0.494</td>\n",
       "      <td>1672143</td>\n",
       "      <td>0.491</td>\n",
       "      <td>1661686</td>\n",
       "    </tr>\n",
       "    <tr>\n",
       "      <th>3</th>\n",
       "      <td>Arkansas</td>\n",
       "      <td>6</td>\n",
       "      <td>https://www.nbcnews.com/politics/2020-election...</td>\n",
       "      <td>0.348</td>\n",
       "      <td>423932</td>\n",
       "      <td>0.624</td>\n",
       "      <td>760647</td>\n",
       "    </tr>\n",
       "    <tr>\n",
       "      <th>4</th>\n",
       "      <td>California</td>\n",
       "      <td>55</td>\n",
       "      <td>https://www.nbcnews.com/politics/2020-election...</td>\n",
       "      <td>0.635</td>\n",
       "      <td>11109764</td>\n",
       "      <td>0.343</td>\n",
       "      <td>6005961</td>\n",
       "    </tr>\n",
       "  </tbody>\n",
       "</table>\n",
       "</div>"
      ],
      "text/plain": [
       "        State  Electoral Votes  \\\n",
       "0     Alabama                9   \n",
       "1      Alaska                3   \n",
       "2     Arizona               11   \n",
       "3    Arkansas                6   \n",
       "4  California               55   \n",
       "\n",
       "                                                 URL  Biden Vote Share  \\\n",
       "0  https://www.nbcnews.com/politics/2020-election...             0.366   \n",
       "1  https://www.nbcnews.com/politics/2020-election...             0.428   \n",
       "2  https://www.nbcnews.com/politics/2020-election...             0.494   \n",
       "3  https://www.nbcnews.com/politics/2020-election...             0.348   \n",
       "4  https://www.nbcnews.com/politics/2020-election...             0.635   \n",
       "\n",
       "   Biden Vote Count  Trump Vote Share  Trump Vote Count  \n",
       "0            849648             0.620           1441168  \n",
       "1            153778             0.528            189951  \n",
       "2           1672143             0.491           1661686  \n",
       "3            423932             0.624            760647  \n",
       "4          11109764             0.343           6005961  "
      ]
     },
     "execution_count": 18,
     "metadata": {},
     "output_type": "execute_result"
    }
   ],
   "source": [
    "results_2020 = results_2020.sort_values(by='State')\n",
    "results_2020.reset_index(drop=True,inplace = True,)\n",
    "results_2020.head()"
   ]
  },
  {
   "cell_type": "markdown",
   "metadata": {},
   "source": [
    "### Step 4: Exporting the Data\n",
    "\n",
    "Now that I am happy with how my data looks, I can export my data to a CSV file. \n",
    "I simply used the pandas.to_csv( ) function for this. "
   ]
  },
  {
   "cell_type": "code",
   "execution_count": 19,
   "metadata": {},
   "outputs": [],
   "source": [
    "results_2020.to_csv('/Users/Austen/Desktop/python/NBC 2020 US Presidential Results.csv', index=False)"
   ]
  }
 ],
 "metadata": {
  "kernelspec": {
   "display_name": "Python 3",
   "language": "python",
   "name": "python3"
  },
  "language_info": {
   "codemirror_mode": {
    "name": "ipython",
    "version": 3
   },
   "file_extension": ".py",
   "mimetype": "text/x-python",
   "name": "python",
   "nbconvert_exporter": "python",
   "pygments_lexer": "ipython3",
   "version": "3.8.3"
  }
 },
 "nbformat": 4,
 "nbformat_minor": 4
}
