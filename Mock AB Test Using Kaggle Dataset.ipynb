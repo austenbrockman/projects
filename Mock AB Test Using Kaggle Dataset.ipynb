{
 "cells": [
  {
   "cell_type": "markdown",
   "metadata": {},
   "source": [
    "# A/B Test: Landing Page\n",
    "\n",
    "This mock A/B test is being conducted using [this](https://www.kaggle.com/zhangluyuan/ab-testing) dataset from Kaggle.  This dataset contains the following information: \n",
    "- User ID\n",
    "- Time stamp of event\n",
    "- Control vs. Treatment Group\n",
    "- Landing Page\n",
    "- Conversion (binary) \n",
    "\n",
    "Over 99% of the users in the control group are routed to the old landing page, and the same is true for treatment group users on the new page. I'm therefore unsure of why both columns are included in the dataframe, and I excluded the <1% of users that fell outside these groups. \n",
    "\n",
    "The aim of this test is to see if the new landing page for this website yielded more conversion amongst users than the old landing page. The null hypothesis is that there is no difference in conversion rate between the control and treatment group. The alternative hypothesis is that there is a difference between the groups. A one-tailed hypothesis would be that the treatment group has a higher conversion rate. \n",
    "\n",
    "Group size is being determined using [this calculator](https://www.optimizely.com/sample-size-calculator/?conversion=12&effect=5&significance=95). The conversion rate of the control group is 12%, and I am looking for a minimum detected change of 5%. Based on these metrics, the sample size for each group needs to be 50,000. \n",
    "\n",
    "\n",
    "## Part One: Cleaning & Examining Data\n",
    "\n",
    "For cleaning the data, I eliminated redundant user ID's. Then, I looked at the number of users in the experimental and control groups to ensure that they are similar. I then used a groupby function to get a preliminary feel for the percentage of users who were converted in both groups. "
   ]
  },
  {
   "cell_type": "code",
   "execution_count": 3,
   "metadata": {},
   "outputs": [
    {
     "name": "stdout",
     "output_type": "stream",
     "text": [
      "<class 'pandas.core.frame.DataFrame'>\n",
      "RangeIndex: 294478 entries, 0 to 294477\n",
      "Data columns (total 5 columns):\n",
      " #   Column        Non-Null Count   Dtype \n",
      "---  ------        --------------   ----- \n",
      " 0   user_id       294478 non-null  int64 \n",
      " 1   timestamp     294478 non-null  object\n",
      " 2   group         294478 non-null  object\n",
      " 3   landing_page  294478 non-null  object\n",
      " 4   converted     294478 non-null  int64 \n",
      "dtypes: int64(2), object(3)\n",
      "memory usage: 11.2+ MB\n"
     ]
    }
   ],
   "source": [
    "import numpy as np\n",
    "import pandas as pd\n",
    "import matplotlib.pyplot as plt\n",
    "data = pd.read_csv('/Users/Austen/Downloads/ab_data.csv')\n",
    "data.info()"
   ]
  },
  {
   "cell_type": "code",
   "execution_count": 2,
   "metadata": {},
   "outputs": [
    {
     "data": {
      "text/html": [
       "<div>\n",
       "<style scoped>\n",
       "    .dataframe tbody tr th:only-of-type {\n",
       "        vertical-align: middle;\n",
       "    }\n",
       "\n",
       "    .dataframe tbody tr th {\n",
       "        vertical-align: top;\n",
       "    }\n",
       "\n",
       "    .dataframe thead th {\n",
       "        text-align: right;\n",
       "    }\n",
       "</style>\n",
       "<table border=\"1\" class=\"dataframe\">\n",
       "  <thead>\n",
       "    <tr style=\"text-align: right;\">\n",
       "      <th></th>\n",
       "      <th>user_id</th>\n",
       "      <th>timestamp</th>\n",
       "      <th>group</th>\n",
       "      <th>landing_page</th>\n",
       "      <th>converted</th>\n",
       "    </tr>\n",
       "  </thead>\n",
       "  <tbody>\n",
       "    <tr>\n",
       "      <th>0</th>\n",
       "      <td>851104</td>\n",
       "      <td>2017-01-21 22:11:48.556739</td>\n",
       "      <td>control</td>\n",
       "      <td>old_page</td>\n",
       "      <td>0</td>\n",
       "    </tr>\n",
       "    <tr>\n",
       "      <th>1</th>\n",
       "      <td>804228</td>\n",
       "      <td>2017-01-12 08:01:45.159739</td>\n",
       "      <td>control</td>\n",
       "      <td>old_page</td>\n",
       "      <td>0</td>\n",
       "    </tr>\n",
       "    <tr>\n",
       "      <th>2</th>\n",
       "      <td>661590</td>\n",
       "      <td>2017-01-11 16:55:06.154213</td>\n",
       "      <td>treatment</td>\n",
       "      <td>new_page</td>\n",
       "      <td>0</td>\n",
       "    </tr>\n",
       "    <tr>\n",
       "      <th>3</th>\n",
       "      <td>853541</td>\n",
       "      <td>2017-01-08 18:28:03.143765</td>\n",
       "      <td>treatment</td>\n",
       "      <td>new_page</td>\n",
       "      <td>0</td>\n",
       "    </tr>\n",
       "    <tr>\n",
       "      <th>4</th>\n",
       "      <td>864975</td>\n",
       "      <td>2017-01-21 01:52:26.210827</td>\n",
       "      <td>control</td>\n",
       "      <td>old_page</td>\n",
       "      <td>1</td>\n",
       "    </tr>\n",
       "  </tbody>\n",
       "</table>\n",
       "</div>"
      ],
      "text/plain": [
       "   user_id                   timestamp      group landing_page  converted\n",
       "0   851104  2017-01-21 22:11:48.556739    control     old_page          0\n",
       "1   804228  2017-01-12 08:01:45.159739    control     old_page          0\n",
       "2   661590  2017-01-11 16:55:06.154213  treatment     new_page          0\n",
       "3   853541  2017-01-08 18:28:03.143765  treatment     new_page          0\n",
       "4   864975  2017-01-21 01:52:26.210827    control     old_page          1"
      ]
     },
     "execution_count": 2,
     "metadata": {},
     "output_type": "execute_result"
    }
   ],
   "source": [
    "data.head()"
   ]
  },
  {
   "cell_type": "code",
   "execution_count": 7,
   "metadata": {},
   "outputs": [
    {
     "name": "stdout",
     "output_type": "stream",
     "text": [
      "3894\n"
     ]
    }
   ],
   "source": [
    "print(data['user_id'].duplicated().sum())"
   ]
  },
  {
   "cell_type": "code",
   "execution_count": 66,
   "metadata": {},
   "outputs": [
    {
     "name": "stdout",
     "output_type": "stream",
     "text": [
      "630732    1\n",
      "793302    1\n",
      "840399    1\n",
      "797392    1\n",
      "795345    1\n",
      "         ..\n",
      "650647    1\n",
      "648598    1\n",
      "654741    1\n",
      "652692    1\n",
      "630836    1\n",
      "Name: user_id, Length: 290584, dtype: int64\n"
     ]
    }
   ],
   "source": [
    "data = data.drop_duplicates(subset='user_id')\n",
    "print(data['user_id'].value_counts(ascending=False))"
   ]
  },
  {
   "cell_type": "code",
   "execution_count": 13,
   "metadata": {},
   "outputs": [
    {
     "data": {
      "text/plain": [
       "new_page    145320\n",
       "old_page    145264\n",
       "Name: landing_page, dtype: int64"
      ]
     },
     "execution_count": 13,
     "metadata": {},
     "output_type": "execute_result"
    }
   ],
   "source": [
    "data['landing_page'].value_counts()"
   ]
  },
  {
   "cell_type": "code",
   "execution_count": 14,
   "metadata": {},
   "outputs": [
    {
     "data": {
      "text/plain": [
       "treatment    145352\n",
       "control      145232\n",
       "Name: group, dtype: int64"
      ]
     },
     "execution_count": 14,
     "metadata": {},
     "output_type": "execute_result"
    }
   ],
   "source": [
    "data['group'].value_counts()"
   ]
  },
  {
   "cell_type": "code",
   "execution_count": 15,
   "metadata": {},
   "outputs": [
    {
     "data": {
      "text/plain": [
       "34745"
      ]
     },
     "execution_count": 15,
     "metadata": {},
     "output_type": "execute_result"
    }
   ],
   "source": [
    "data['converted'].sum()"
   ]
  },
  {
   "cell_type": "code",
   "execution_count": 64,
   "metadata": {},
   "outputs": [
    {
     "name": "stdout",
     "output_type": "stream",
     "text": [
      "                        user_id  timestamp  converted\n",
      "group     landing_page                               \n",
      "control   new_page         1006       1006       1006\n",
      "          old_page       144226     144226     144226\n",
      "treatment new_page       144314     144314     144314\n",
      "          old_page         1038       1038       1038\n"
     ]
    }
   ],
   "source": [
    "group = data.groupby(by=['group','landing_page']).count()\n",
    "print(group)"
   ]
  },
  {
   "cell_type": "code",
   "execution_count": 69,
   "metadata": {},
   "outputs": [
    {
     "name": "stdout",
     "output_type": "stream",
     "text": [
      "                 user_id  converted\n",
      "group                              \n",
      "control    788143.414241   0.120297\n",
      "treatment  787866.452577   0.118843\n"
     ]
    }
   ],
   "source": [
    "group = data.groupby(by=['group']).mean()\n",
    "print(group)"
   ]
  },
  {
   "cell_type": "markdown",
   "metadata": {},
   "source": [
    "## Part Two: Statistical Hypothesis Test \n",
    "\n",
    "First, I looked at the means of my samples, and the standard deviations, to ensure that these are similar. \n",
    "Because I am comparing proportions, I used a Z-test for significance testing. I also looked at the confidence intervals. "
   ]
  },
  {
   "cell_type": "code",
   "execution_count": 72,
   "metadata": {},
   "outputs": [
    {
     "name": "stdout",
     "output_type": "stream",
     "text": [
      "0.11804 0.11862\n"
     ]
    }
   ],
   "source": [
    "from scipy import stats\n",
    "control = data[data['group']=='control']\n",
    "control = control[control['landing_page']=='old_page']['converted'].sample(n = 50000)\n",
    "exp = data[data['group']=='treatment']\n",
    "exp = exp[exp['landing_page']=='new_page']['converted'].sample(n = 50000)\n",
    "print(control.mean(),exp.mean())"
   ]
  },
  {
   "cell_type": "code",
   "execution_count": 73,
   "metadata": {},
   "outputs": [
    {
     "name": "stdout",
     "output_type": "stream",
     "text": [
      "0.32265870602352353 0.3233440684902159\n"
     ]
    }
   ],
   "source": [
    "print(control.std(),exp.std())"
   ]
  },
  {
   "cell_type": "code",
   "execution_count": 84,
   "metadata": {},
   "outputs": [
    {
     "data": {
      "text/plain": [
       "(-0.2839182868935784, 0.7764730020168069)"
      ]
     },
     "execution_count": 84,
     "metadata": {},
     "output_type": "execute_result"
    }
   ],
   "source": [
    "import statsmodels.api\n",
    "statsmodels.stats.weightstats.ztest(control,exp)\n",
    "# first value is z-score, second value is p-value. "
   ]
  },
  {
   "cell_type": "code",
   "execution_count": 55,
   "metadata": {},
   "outputs": [
    {
     "name": "stdout",
     "output_type": "stream",
     "text": [
      "(0.11822050840116104, 0.12393949159883895)\n"
     ]
    }
   ],
   "source": [
    "confidence_level = 0.95\n",
    "ct_degrees_freedom = control.size - 1\n",
    "ctrl_mean = np.mean(control)\n",
    "ctrl_standard_error = stats.sem(control)\n",
    "ci_control = stats.t.interval(confidence_level, ct_degrees_freedom, ctrl_mean, ctrl_standard_error)\n",
    "print(ci_control)"
   ]
  },
  {
   "cell_type": "code",
   "execution_count": 62,
   "metadata": {},
   "outputs": [
    {
     "name": "stdout",
     "output_type": "stream",
     "text": [
      "(0.1157461613539349, 0.12141383864606511)\n"
     ]
    }
   ],
   "source": [
    "confidence_level = 0.95\n",
    "exp_degrees_freedom = exp.size - 1\n",
    "exp_mean = np.mean(exp)\n",
    "exp_standard_error = stats.sem(exp)\n",
    "ci_exp = stats.t.interval(confidence_level, exp_degrees_freedom, exp_mean, exp_standard_error)\n",
    "print(ci_exp)"
   ]
  },
  {
   "cell_type": "markdown",
   "metadata": {},
   "source": [
    "## Conclusion \n",
    "\n",
    "The p-value is > 0.05, and the confidence intervals overlap almost completely. This means that the null hypothesis cannot be rejected. This means that the new landing page does not generate a significantly different number of conversions from the old landing page. "
   ]
  }
 ],
 "metadata": {
  "kernelspec": {
   "display_name": "Python 3",
   "language": "python",
   "name": "python3"
  },
  "language_info": {
   "codemirror_mode": {
    "name": "ipython",
    "version": 3
   },
   "file_extension": ".py",
   "mimetype": "text/x-python",
   "name": "python",
   "nbconvert_exporter": "python",
   "pygments_lexer": "ipython3",
   "version": "3.8.3"
  }
 },
 "nbformat": 4,
 "nbformat_minor": 4
}
