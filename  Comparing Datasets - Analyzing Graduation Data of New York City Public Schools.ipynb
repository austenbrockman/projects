{
 "cells": [
  {
   "cell_type": "markdown",
   "metadata": {},
   "source": [
    "# Independent Project: Comparing Datasets -  Analyzing Graduation Data of New York City Public Schools\n",
    "\n",
    "In New York state, students are required to pass an exam known as the Regents exam in order to earn their high school diploma. Historically, students were able to earn an equivalent diploma without passing the Regents exam, called the Local diploma. Beginning in 2019, [students entering the 9th grade no longer have the option to earn a local diploma](https://en.wikipedia.org/wiki/Regents_Examinations#Exam_requirements), and are required to pass the Regents exam to earn their diploma (an exception is made for students with disabilities). I hypothesize that due to existing inequalities, this will disproportionately affect Black and Latino students, leading to fewer students in these demographics earning their high school diploma. Not having a high school diploma is linked to negative life paths: high school dropouts have much [lower earnings, higher incarceration rates](https://education.seattlepi.com/effects-high-school-students-not-finishing-high-school-3118.html), and even [worse health outcomes](https://theconversation.com/the-data-is-in-americans-who-dont-finish-high-school-are-less-healthy-than-the-rest-of-the-us-103663) than people who finish high school. If my hypothesis is correct, the elimination of the Local diploma runs the risk of increasing long-term racial inequalities in New York City. "
   ]
  },
  {
   "cell_type": "code",
   "execution_count": 1,
   "metadata": {},
   "outputs": [
    {
     "data": {
      "text/html": [
       "<div>\n",
       "<style scoped>\n",
       "    .dataframe tbody tr th:only-of-type {\n",
       "        vertical-align: middle;\n",
       "    }\n",
       "\n",
       "    .dataframe tbody tr th {\n",
       "        vertical-align: top;\n",
       "    }\n",
       "\n",
       "    .dataframe thead th {\n",
       "        text-align: right;\n",
       "    }\n",
       "</style>\n",
       "<table border=\"1\" class=\"dataframe\">\n",
       "  <thead>\n",
       "    <tr style=\"text-align: right;\">\n",
       "      <th></th>\n",
       "      <th>Demographic</th>\n",
       "      <th>DBN</th>\n",
       "      <th>School Name</th>\n",
       "      <th>Cohort</th>\n",
       "      <th>Total Cohort</th>\n",
       "      <th>Total Grads - n</th>\n",
       "      <th>Total Grads - % of cohort</th>\n",
       "      <th>Total Regents - n</th>\n",
       "      <th>Total Regents - % of cohort</th>\n",
       "      <th>Total Regents - % of grads</th>\n",
       "      <th>...</th>\n",
       "      <th>Regents w/o Advanced - n</th>\n",
       "      <th>Regents w/o Advanced - % of cohort</th>\n",
       "      <th>Regents w/o Advanced - % of grads</th>\n",
       "      <th>Local - n</th>\n",
       "      <th>Local - % of cohort</th>\n",
       "      <th>Local - % of grads</th>\n",
       "      <th>Still Enrolled - n</th>\n",
       "      <th>Still Enrolled - % of cohort</th>\n",
       "      <th>Dropped Out - n</th>\n",
       "      <th>Dropped Out - % of cohort</th>\n",
       "    </tr>\n",
       "  </thead>\n",
       "  <tbody>\n",
       "    <tr>\n",
       "      <th>0</th>\n",
       "      <td>Total Cohort</td>\n",
       "      <td>01M292</td>\n",
       "      <td>HENRY STREET SCHOOL FOR INTERNATIONAL</td>\n",
       "      <td>2003</td>\n",
       "      <td>5</td>\n",
       "      <td>s</td>\n",
       "      <td>NaN</td>\n",
       "      <td>s</td>\n",
       "      <td>NaN</td>\n",
       "      <td>NaN</td>\n",
       "      <td>...</td>\n",
       "      <td>s</td>\n",
       "      <td>NaN</td>\n",
       "      <td>NaN</td>\n",
       "      <td>s</td>\n",
       "      <td>NaN</td>\n",
       "      <td>NaN</td>\n",
       "      <td>s</td>\n",
       "      <td>NaN</td>\n",
       "      <td>s</td>\n",
       "      <td>NaN</td>\n",
       "    </tr>\n",
       "    <tr>\n",
       "      <th>1</th>\n",
       "      <td>Total Cohort</td>\n",
       "      <td>01M292</td>\n",
       "      <td>HENRY STREET SCHOOL FOR INTERNATIONAL</td>\n",
       "      <td>2004</td>\n",
       "      <td>55</td>\n",
       "      <td>37</td>\n",
       "      <td>67.3</td>\n",
       "      <td>17</td>\n",
       "      <td>30.9</td>\n",
       "      <td>45.9</td>\n",
       "      <td>...</td>\n",
       "      <td>17</td>\n",
       "      <td>30.9</td>\n",
       "      <td>45.9</td>\n",
       "      <td>20</td>\n",
       "      <td>36.4</td>\n",
       "      <td>54.1</td>\n",
       "      <td>15</td>\n",
       "      <td>27.3</td>\n",
       "      <td>3</td>\n",
       "      <td>5.5</td>\n",
       "    </tr>\n",
       "    <tr>\n",
       "      <th>2</th>\n",
       "      <td>Total Cohort</td>\n",
       "      <td>01M292</td>\n",
       "      <td>HENRY STREET SCHOOL FOR INTERNATIONAL</td>\n",
       "      <td>2005</td>\n",
       "      <td>64</td>\n",
       "      <td>43</td>\n",
       "      <td>67.2</td>\n",
       "      <td>27</td>\n",
       "      <td>42.2</td>\n",
       "      <td>62.8</td>\n",
       "      <td>...</td>\n",
       "      <td>27</td>\n",
       "      <td>42.2</td>\n",
       "      <td>62.8</td>\n",
       "      <td>16</td>\n",
       "      <td>25.0</td>\n",
       "      <td>37.2</td>\n",
       "      <td>9</td>\n",
       "      <td>14.1</td>\n",
       "      <td>9</td>\n",
       "      <td>14.1</td>\n",
       "    </tr>\n",
       "    <tr>\n",
       "      <th>3</th>\n",
       "      <td>Total Cohort</td>\n",
       "      <td>01M292</td>\n",
       "      <td>HENRY STREET SCHOOL FOR INTERNATIONAL</td>\n",
       "      <td>2006</td>\n",
       "      <td>78</td>\n",
       "      <td>43</td>\n",
       "      <td>55.1</td>\n",
       "      <td>36</td>\n",
       "      <td>46.2</td>\n",
       "      <td>83.7</td>\n",
       "      <td>...</td>\n",
       "      <td>36</td>\n",
       "      <td>46.2</td>\n",
       "      <td>83.7</td>\n",
       "      <td>7</td>\n",
       "      <td>9.0</td>\n",
       "      <td>16.3</td>\n",
       "      <td>16</td>\n",
       "      <td>20.5</td>\n",
       "      <td>11</td>\n",
       "      <td>14.1</td>\n",
       "    </tr>\n",
       "    <tr>\n",
       "      <th>4</th>\n",
       "      <td>Total Cohort</td>\n",
       "      <td>01M292</td>\n",
       "      <td>HENRY STREET SCHOOL FOR INTERNATIONAL</td>\n",
       "      <td>2006 Aug</td>\n",
       "      <td>78</td>\n",
       "      <td>44</td>\n",
       "      <td>56.4</td>\n",
       "      <td>37</td>\n",
       "      <td>47.4</td>\n",
       "      <td>84.1</td>\n",
       "      <td>...</td>\n",
       "      <td>37</td>\n",
       "      <td>47.4</td>\n",
       "      <td>84.1</td>\n",
       "      <td>7</td>\n",
       "      <td>9.0</td>\n",
       "      <td>15.9</td>\n",
       "      <td>15</td>\n",
       "      <td>19.2</td>\n",
       "      <td>11</td>\n",
       "      <td>14.1</td>\n",
       "    </tr>\n",
       "  </tbody>\n",
       "</table>\n",
       "<p>5 rows × 23 columns</p>\n",
       "</div>"
      ],
      "text/plain": [
       "    Demographic     DBN                            School Name    Cohort  \\\n",
       "0  Total Cohort  01M292  HENRY STREET SCHOOL FOR INTERNATIONAL      2003   \n",
       "1  Total Cohort  01M292  HENRY STREET SCHOOL FOR INTERNATIONAL      2004   \n",
       "2  Total Cohort  01M292  HENRY STREET SCHOOL FOR INTERNATIONAL      2005   \n",
       "3  Total Cohort  01M292  HENRY STREET SCHOOL FOR INTERNATIONAL      2006   \n",
       "4  Total Cohort  01M292  HENRY STREET SCHOOL FOR INTERNATIONAL  2006 Aug   \n",
       "\n",
       "   Total Cohort Total Grads - n  Total Grads - % of cohort Total Regents - n  \\\n",
       "0             5               s                        NaN                 s   \n",
       "1            55              37                       67.3                17   \n",
       "2            64              43                       67.2                27   \n",
       "3            78              43                       55.1                36   \n",
       "4            78              44                       56.4                37   \n",
       "\n",
       "   Total Regents - % of cohort  Total Regents - % of grads  ...  \\\n",
       "0                          NaN                         NaN  ...   \n",
       "1                         30.9                        45.9  ...   \n",
       "2                         42.2                        62.8  ...   \n",
       "3                         46.2                        83.7  ...   \n",
       "4                         47.4                        84.1  ...   \n",
       "\n",
       "  Regents w/o Advanced - n  Regents w/o Advanced - % of cohort  \\\n",
       "0                        s                                 NaN   \n",
       "1                       17                                30.9   \n",
       "2                       27                                42.2   \n",
       "3                       36                                46.2   \n",
       "4                       37                                47.4   \n",
       "\n",
       "   Regents w/o Advanced - % of grads Local - n  Local - % of cohort  \\\n",
       "0                                NaN         s                  NaN   \n",
       "1                               45.9        20                 36.4   \n",
       "2                               62.8        16                 25.0   \n",
       "3                               83.7         7                  9.0   \n",
       "4                               84.1         7                  9.0   \n",
       "\n",
       "   Local - % of grads Still Enrolled - n  Still Enrolled - % of cohort  \\\n",
       "0                 NaN                  s                           NaN   \n",
       "1                54.1                 15                          27.3   \n",
       "2                37.2                  9                          14.1   \n",
       "3                16.3                 16                          20.5   \n",
       "4                15.9                 15                          19.2   \n",
       "\n",
       "   Dropped Out - n Dropped Out - % of cohort  \n",
       "0                s                       NaN  \n",
       "1                3                       5.5  \n",
       "2                9                      14.1  \n",
       "3               11                      14.1  \n",
       "4               11                      14.1  \n",
       "\n",
       "[5 rows x 23 columns]"
      ]
     },
     "execution_count": 1,
     "metadata": {},
     "output_type": "execute_result"
    }
   ],
   "source": [
    "import pandas as pd \n",
    "import numpy as np\n",
    "import matplotlib.pyplot as plt\n",
    "grad_data = pd.read_csv('/Users/Austen/Desktop/python/2005-2010_Graduation_Outcomes_-_School_Level.csv')\n",
    "grad_data.head()"
   ]
  },
  {
   "cell_type": "code",
   "execution_count": 2,
   "metadata": {
    "scrolled": true
   },
   "outputs": [
    {
     "name": "stdout",
     "output_type": "stream",
     "text": [
      "<class 'pandas.core.frame.DataFrame'>\n",
      "RangeIndex: 25096 entries, 0 to 25095\n",
      "Data columns (total 23 columns):\n",
      " #   Column                              Non-Null Count  Dtype  \n",
      "---  ------                              --------------  -----  \n",
      " 0   Demographic                         25096 non-null  object \n",
      " 1   DBN                                 25096 non-null  object \n",
      " 2   School Name                         25096 non-null  object \n",
      " 3   Cohort                              25096 non-null  object \n",
      " 4   Total Cohort                        25096 non-null  int64  \n",
      " 5   Total Grads - n                     25096 non-null  object \n",
      " 6   Total Grads - % of cohort           16704 non-null  float64\n",
      " 7   Total Regents - n                   25096 non-null  object \n",
      " 8   Total Regents - % of cohort         16704 non-null  float64\n",
      " 9   Total Regents - % of grads          16652 non-null  float64\n",
      " 10  Advanced Regents - n                25096 non-null  object \n",
      " 11  Advanced Regents - % of cohort      16704 non-null  float64\n",
      " 12  Advanced Regents - % of grads       16652 non-null  float64\n",
      " 13  Regents w/o Advanced - n            25096 non-null  object \n",
      " 14  Regents w/o Advanced - % of cohort  16704 non-null  float64\n",
      " 15  Regents w/o Advanced - % of grads   16652 non-null  float64\n",
      " 16  Local - n                           25096 non-null  object \n",
      " 17  Local - % of cohort                 16704 non-null  float64\n",
      " 18  Local - % of grads                  16652 non-null  float64\n",
      " 19  Still Enrolled - n                  25096 non-null  object \n",
      " 20  Still Enrolled - % of cohort        16704 non-null  float64\n",
      " 21  Dropped Out - n                     25096 non-null  object \n",
      " 22  Dropped Out - % of cohort           16704 non-null  float64\n",
      "dtypes: float64(11), int64(1), object(11)\n",
      "memory usage: 4.4+ MB\n"
     ]
    }
   ],
   "source": [
    "grad_data.info()"
   ]
  },
  {
   "cell_type": "markdown",
   "metadata": {},
   "source": [
    "There is a problem with this dataset - many of the numeric columns are registering with an object data type. One of the most important ones is 'Cohort', which we can see even by the head of the dataset contains entries such as '2006 Aug'. Since the later date has a slightly higher number of students, I will convert the date to only contain the year, and then keep the row with a higher number of students.\n",
    "\n",
    "Note: the cohort year is the year that students are entering 9th grade."
   ]
  },
  {
   "cell_type": "code",
   "execution_count": 3,
   "metadata": {},
   "outputs": [
    {
     "name": "stdout",
     "output_type": "stream",
     "text": [
      "['2003' '2004' '2005' '2006' '2006 Aug' '2001' '2002']\n"
     ]
    }
   ],
   "source": [
    "dates = grad_data['Cohort'].unique()\n",
    "print(dates)"
   ]
  },
  {
   "cell_type": "markdown",
   "metadata": {},
   "source": [
    "Only the 2006 has a separate August entry, so I will only need to clean that."
   ]
  },
  {
   "cell_type": "code",
   "execution_count": 4,
   "metadata": {},
   "outputs": [
    {
     "name": "stdout",
     "output_type": "stream",
     "text": [
      "4131\n"
     ]
    }
   ],
   "source": [
    "aug = grad_data[grad_data['Cohort'] == '2006 Aug']\n",
    "print(len(aug))"
   ]
  },
  {
   "cell_type": "code",
   "execution_count": 5,
   "metadata": {},
   "outputs": [
    {
     "data": {
      "text/html": [
       "<div>\n",
       "<style scoped>\n",
       "    .dataframe tbody tr th:only-of-type {\n",
       "        vertical-align: middle;\n",
       "    }\n",
       "\n",
       "    .dataframe tbody tr th {\n",
       "        vertical-align: top;\n",
       "    }\n",
       "\n",
       "    .dataframe thead th {\n",
       "        text-align: right;\n",
       "    }\n",
       "</style>\n",
       "<table border=\"1\" class=\"dataframe\">\n",
       "  <thead>\n",
       "    <tr style=\"text-align: right;\">\n",
       "      <th></th>\n",
       "      <th>Demographic</th>\n",
       "      <th>DBN</th>\n",
       "      <th>School Name</th>\n",
       "      <th>Cohort</th>\n",
       "      <th>Total Cohort</th>\n",
       "      <th>Total Grads - n</th>\n",
       "      <th>Total Grads - % of cohort</th>\n",
       "      <th>Total Regents - n</th>\n",
       "      <th>Total Regents - % of cohort</th>\n",
       "      <th>Total Regents - % of grads</th>\n",
       "      <th>...</th>\n",
       "      <th>Regents w/o Advanced - n</th>\n",
       "      <th>Regents w/o Advanced - % of cohort</th>\n",
       "      <th>Regents w/o Advanced - % of grads</th>\n",
       "      <th>Local - n</th>\n",
       "      <th>Local - % of cohort</th>\n",
       "      <th>Local - % of grads</th>\n",
       "      <th>Still Enrolled - n</th>\n",
       "      <th>Still Enrolled - % of cohort</th>\n",
       "      <th>Dropped Out - n</th>\n",
       "      <th>Dropped Out - % of cohort</th>\n",
       "    </tr>\n",
       "  </thead>\n",
       "  <tbody>\n",
       "    <tr>\n",
       "      <th>0</th>\n",
       "      <td>Total Cohort</td>\n",
       "      <td>01M292</td>\n",
       "      <td>HENRY STREET SCHOOL FOR INTERNATIONAL</td>\n",
       "      <td>2003</td>\n",
       "      <td>5</td>\n",
       "      <td>s</td>\n",
       "      <td>NaN</td>\n",
       "      <td>s</td>\n",
       "      <td>NaN</td>\n",
       "      <td>NaN</td>\n",
       "      <td>...</td>\n",
       "      <td>s</td>\n",
       "      <td>NaN</td>\n",
       "      <td>NaN</td>\n",
       "      <td>s</td>\n",
       "      <td>NaN</td>\n",
       "      <td>NaN</td>\n",
       "      <td>s</td>\n",
       "      <td>NaN</td>\n",
       "      <td>s</td>\n",
       "      <td>NaN</td>\n",
       "    </tr>\n",
       "    <tr>\n",
       "      <th>1</th>\n",
       "      <td>Total Cohort</td>\n",
       "      <td>01M292</td>\n",
       "      <td>HENRY STREET SCHOOL FOR INTERNATIONAL</td>\n",
       "      <td>2004</td>\n",
       "      <td>55</td>\n",
       "      <td>37</td>\n",
       "      <td>67.3</td>\n",
       "      <td>17</td>\n",
       "      <td>30.9</td>\n",
       "      <td>45.9</td>\n",
       "      <td>...</td>\n",
       "      <td>17</td>\n",
       "      <td>30.9</td>\n",
       "      <td>45.9</td>\n",
       "      <td>20</td>\n",
       "      <td>36.4</td>\n",
       "      <td>54.1</td>\n",
       "      <td>15</td>\n",
       "      <td>27.3</td>\n",
       "      <td>3</td>\n",
       "      <td>5.5</td>\n",
       "    </tr>\n",
       "    <tr>\n",
       "      <th>2</th>\n",
       "      <td>Total Cohort</td>\n",
       "      <td>01M292</td>\n",
       "      <td>HENRY STREET SCHOOL FOR INTERNATIONAL</td>\n",
       "      <td>2005</td>\n",
       "      <td>64</td>\n",
       "      <td>43</td>\n",
       "      <td>67.2</td>\n",
       "      <td>27</td>\n",
       "      <td>42.2</td>\n",
       "      <td>62.8</td>\n",
       "      <td>...</td>\n",
       "      <td>27</td>\n",
       "      <td>42.2</td>\n",
       "      <td>62.8</td>\n",
       "      <td>16</td>\n",
       "      <td>25.0</td>\n",
       "      <td>37.2</td>\n",
       "      <td>9</td>\n",
       "      <td>14.1</td>\n",
       "      <td>9</td>\n",
       "      <td>14.1</td>\n",
       "    </tr>\n",
       "    <tr>\n",
       "      <th>4</th>\n",
       "      <td>Total Cohort</td>\n",
       "      <td>01M292</td>\n",
       "      <td>HENRY STREET SCHOOL FOR INTERNATIONAL</td>\n",
       "      <td>2006</td>\n",
       "      <td>78</td>\n",
       "      <td>44</td>\n",
       "      <td>56.4</td>\n",
       "      <td>37</td>\n",
       "      <td>47.4</td>\n",
       "      <td>84.1</td>\n",
       "      <td>...</td>\n",
       "      <td>37</td>\n",
       "      <td>47.4</td>\n",
       "      <td>84.1</td>\n",
       "      <td>7</td>\n",
       "      <td>9.0</td>\n",
       "      <td>15.9</td>\n",
       "      <td>15</td>\n",
       "      <td>19.2</td>\n",
       "      <td>11</td>\n",
       "      <td>14.1</td>\n",
       "    </tr>\n",
       "    <tr>\n",
       "      <th>5</th>\n",
       "      <td>Total Cohort</td>\n",
       "      <td>01M448</td>\n",
       "      <td>UNIVERSITY NEIGHBORHOOD HIGH SCHOOL</td>\n",
       "      <td>2001</td>\n",
       "      <td>64</td>\n",
       "      <td>46</td>\n",
       "      <td>71.9</td>\n",
       "      <td>32</td>\n",
       "      <td>50.0</td>\n",
       "      <td>69.6</td>\n",
       "      <td>...</td>\n",
       "      <td>25</td>\n",
       "      <td>39.1</td>\n",
       "      <td>54.3</td>\n",
       "      <td>14</td>\n",
       "      <td>21.9</td>\n",
       "      <td>30.4</td>\n",
       "      <td>10</td>\n",
       "      <td>15.6</td>\n",
       "      <td>6</td>\n",
       "      <td>9.4</td>\n",
       "    </tr>\n",
       "  </tbody>\n",
       "</table>\n",
       "<p>5 rows × 23 columns</p>\n",
       "</div>"
      ],
      "text/plain": [
       "    Demographic     DBN                            School Name  Cohort  \\\n",
       "0  Total Cohort  01M292  HENRY STREET SCHOOL FOR INTERNATIONAL    2003   \n",
       "1  Total Cohort  01M292  HENRY STREET SCHOOL FOR INTERNATIONAL    2004   \n",
       "2  Total Cohort  01M292  HENRY STREET SCHOOL FOR INTERNATIONAL    2005   \n",
       "4  Total Cohort  01M292  HENRY STREET SCHOOL FOR INTERNATIONAL    2006   \n",
       "5  Total Cohort  01M448    UNIVERSITY NEIGHBORHOOD HIGH SCHOOL    2001   \n",
       "\n",
       "   Total Cohort Total Grads - n  Total Grads - % of cohort Total Regents - n  \\\n",
       "0             5               s                        NaN                 s   \n",
       "1            55              37                       67.3                17   \n",
       "2            64              43                       67.2                27   \n",
       "4            78              44                       56.4                37   \n",
       "5            64              46                       71.9                32   \n",
       "\n",
       "   Total Regents - % of cohort  Total Regents - % of grads  ...  \\\n",
       "0                          NaN                         NaN  ...   \n",
       "1                         30.9                        45.9  ...   \n",
       "2                         42.2                        62.8  ...   \n",
       "4                         47.4                        84.1  ...   \n",
       "5                         50.0                        69.6  ...   \n",
       "\n",
       "  Regents w/o Advanced - n  Regents w/o Advanced - % of cohort  \\\n",
       "0                        s                                 NaN   \n",
       "1                       17                                30.9   \n",
       "2                       27                                42.2   \n",
       "4                       37                                47.4   \n",
       "5                       25                                39.1   \n",
       "\n",
       "   Regents w/o Advanced - % of grads Local - n  Local - % of cohort  \\\n",
       "0                                NaN         s                  NaN   \n",
       "1                               45.9        20                 36.4   \n",
       "2                               62.8        16                 25.0   \n",
       "4                               84.1         7                  9.0   \n",
       "5                               54.3        14                 21.9   \n",
       "\n",
       "   Local - % of grads Still Enrolled - n  Still Enrolled - % of cohort  \\\n",
       "0                 NaN                  s                           NaN   \n",
       "1                54.1                 15                          27.3   \n",
       "2                37.2                  9                          14.1   \n",
       "4                15.9                 15                          19.2   \n",
       "5                30.4                 10                          15.6   \n",
       "\n",
       "   Dropped Out - n Dropped Out - % of cohort  \n",
       "0                s                       NaN  \n",
       "1                3                       5.5  \n",
       "2                9                      14.1  \n",
       "4               11                      14.1  \n",
       "5                6                       9.4  \n",
       "\n",
       "[5 rows x 23 columns]"
      ]
     },
     "execution_count": 5,
     "metadata": {},
     "output_type": "execute_result"
    }
   ],
   "source": [
    "grad_data['Cohort'] = grad_data['Cohort'].str.replace('2006 Aug', '2006')\n",
    "grad_data['Cohort'] =grad_data['Cohort'].astype(int)\n",
    "grad_data = grad_data.drop_duplicates(subset = ['Demographic','DBN','School Name','Cohort','Total Cohort'],keep = 'last')\n",
    "grad_data.head()"
   ]
  },
  {
   "cell_type": "markdown",
   "metadata": {},
   "source": [
    "If the cohort size was less than 20, then all data was surpressed; I will therefore focus on cohorts where the data is available. I am also focusing on racial demographics, so I will remove other demographic counts. "
   ]
  },
  {
   "cell_type": "code",
   "execution_count": 6,
   "metadata": {},
   "outputs": [
    {
     "data": {
      "text/plain": [
       "General Education Students     1819\n",
       "Total Cohort                   1812\n",
       "English Proficient Students    1774\n",
       "Female                         1740\n",
       "Male                           1692\n",
       "Black                          1441\n",
       "Hispanic                       1416\n",
       "Special Education Students      802\n",
       "English Language Learners       494\n",
       "Asian                           438\n",
       "White                           435\n",
       "Name: Demographic, dtype: int64"
      ]
     },
     "execution_count": 6,
     "metadata": {},
     "output_type": "execute_result"
    }
   ],
   "source": [
    "grad_data_avail = grad_data[grad_data['Total Cohort'] >20]\n",
    "#grad_data_avail = grad_data_avail[grad_data_avail ]\n",
    "grad_data_avail['Demographic'].value_counts()"
   ]
  },
  {
   "cell_type": "code",
   "execution_count": 7,
   "metadata": {},
   "outputs": [],
   "source": [
    "grad_data_avail = grad_data_avail[grad_data_avail['Demographic'].isin(['Total Cohort','Black','White','Asian','Hispanic'])]"
   ]
  },
  {
   "cell_type": "markdown",
   "metadata": {},
   "source": [
    "I am curious, however, how the demographic distribution is affected by this change: to see the effect, I will pivot both tables."
   ]
  },
  {
   "cell_type": "code",
   "execution_count": 8,
   "metadata": {},
   "outputs": [
    {
     "name": "stdout",
     "output_type": "stream",
     "text": [
      "                             Count Total\n",
      "Demographic                             \n",
      "Asian                               1484\n",
      "Black                               2009\n",
      "English Language Learners           1696\n",
      "English Proficient Students         2070\n",
      "Female                              2001\n",
      "General Education Students          2065\n",
      "Hispanic                            1990\n",
      "Male                                2017\n",
      "Special Education Students          2059\n",
      "Total Cohort                        2088\n",
      "White                               1485\n"
     ]
    }
   ],
   "source": [
    "pivot_all = pd.DataFrame(grad_data.pivot_table(values = 'DBN',index ='Demographic', aggfunc = 'count',))\n",
    "pivot_all=pivot_all.rename(columns = {'DBN':'Count Total'})\n",
    "print(pivot_all)\n",
    "# since I have not scrubbed the original dataframe of unneccessary demographic groups, they appear in this pivot table.\n",
    "# They do not transfer to the final table, however."
   ]
  },
  {
   "cell_type": "code",
   "execution_count": 9,
   "metadata": {},
   "outputs": [
    {
     "name": "stdout",
     "output_type": "stream",
     "text": [
      "              Count Available\n",
      "Demographic                  \n",
      "Asian                     438\n",
      "Black                    1441\n",
      "Hispanic                 1416\n",
      "Total Cohort             1812\n",
      "White                     435\n"
     ]
    }
   ],
   "source": [
    "pivot_avail = pd.DataFrame(grad_data_avail.pivot_table(values = 'DBN',index ='Demographic', aggfunc = 'count',))\n",
    "pivot_avail = pivot_avail.rename(columns = {'DBN':'Count Available'})\n",
    "print(pivot_avail)"
   ]
  },
  {
   "cell_type": "code",
   "execution_count": 10,
   "metadata": {},
   "outputs": [
    {
     "name": "stdout",
     "output_type": "stream",
     "text": [
      "              Count Total  Count Available  % Available\n",
      "Demographic                                            \n",
      "Asian                1484              438        29.51\n",
      "Black                2009             1441        71.73\n",
      "Hispanic             1990             1416        71.16\n",
      "Total Cohort         2088             1812        86.78\n",
      "White                1485              435        29.29\n"
     ]
    }
   ],
   "source": [
    "pivot_merge = pd.merge(pivot_all,pivot_avail, on = 'Demographic')\n",
    "pivot_merge['% Available'] = round(100*pivot_merge['Count Available']/pivot_merge['Count Total'],2)\n",
    "print(pivot_merge)"
   ]
  },
  {
   "cell_type": "markdown",
   "metadata": {},
   "source": [
    "So we can see that some demographics have a much smaller pool of data avaiable than others, in particular, the White and  Asianhave a low percentage of available information. This is important to be mindful of when conducting analysis, but may not affect the outcome. If anything, this speaks to a relatively low number of these demographics enrolled in NYC public schools. "
   ]
  },
  {
   "cell_type": "code",
   "execution_count": 11,
   "metadata": {},
   "outputs": [
    {
     "name": "stdout",
     "output_type": "stream",
     "text": [
      "                             Total Cohort  percentage\n",
      "Demographic                                          \n",
      "English Language Learners           47636       11.50\n",
      "White                               60155       14.52\n",
      "Asian                               61952       14.96\n",
      "Special Education Students          99491       24.02\n",
      "Black                              139758       33.74\n",
      "Hispanic                           149833       36.17\n",
      "Male                               205554       49.62\n",
      "Female                             208690       50.38\n",
      "English Proficient Students        366608       88.50\n",
      "General Education Students         370595       89.46\n",
      "Total Cohort                       414244      100.00\n"
     ]
    }
   ],
   "source": [
    "student_count = pd.DataFrame(grad_data.pivot_table(values = 'Total Cohort',index ='Demographic', aggfunc = 'sum'))\n",
    "total_num_students = grad_data[grad_data['Demographic'] == 'Total Cohort']['Total Cohort'].sum()\n",
    "student_count['percentage']=round(100*student_count['Total Cohort']/total_num_students,2)\n",
    "student_count = student_count.sort_values(by='percentage')\n",
    "print(student_count)\n",
    "#once again, I am using the entire dataframe, including irrelevant demographics. This is just because I am looking at \n",
    "# percentages of the entire student body."
   ]
  },
  {
   "cell_type": "markdown",
   "metadata": {},
   "source": [
    "As suspected, the total number of students in the white and asian demographics with low data availability make up a smaller percentage of total student population. With this knowledge I can now look at diploma types earned. "
   ]
  },
  {
   "cell_type": "code",
   "execution_count": 12,
   "metadata": {},
   "outputs": [
    {
     "name": "stdout",
     "output_type": "stream",
     "text": [
      "              Total Grads - % of cohort  Total Regents - % of cohort  \\\n",
      "Demographic                                                            \n",
      "Asian                             76.03                        65.90   \n",
      "Black                             58.20                        37.60   \n",
      "Hispanic                          56.41                        36.82   \n",
      "Total Cohort                      60.97                        41.48   \n",
      "White                             73.05                        60.94   \n",
      "\n",
      "              Local - % of cohort  \n",
      "Demographic                        \n",
      "Asian                       10.15  \n",
      "Black                       20.61  \n",
      "Hispanic                    19.60  \n",
      "Total Cohort                19.51  \n",
      "White                       12.12  \n"
     ]
    }
   ],
   "source": [
    "grad_rate_pivot = pd.DataFrame(grad_data_avail.pivot_table(values = 'Total Grads - % of cohort', index = 'Demographic'))\n",
    "regents_pivot = pd.DataFrame(grad_data_avail.pivot_table(values = 'Total Regents - % of cohort', index = 'Demographic'))\n",
    "local_dip_pivot = pd.DataFrame(grad_data_avail.pivot_table(values = 'Local - % of cohort', index = 'Demographic'))\n",
    "stats_pivot_merged_1 = pd.merge(grad_rate_pivot, regents_pivot, on = 'Demographic')\n",
    "stats_pivot_merged = pd.merge(stats_pivot_merged_1, local_dip_pivot, on = 'Demographic')\n",
    "stats_pivot_merged = pd.DataFrame(stats_pivot_merged)\n",
    "stats_pivot_merged['Total Grads - % of cohort'] = round(stats_pivot_merged['Total Grads - % of cohort'],2) \n",
    "stats_pivot_merged['Total Regents - % of cohort'] = round(stats_pivot_merged['Total Regents - % of cohort'],2) \n",
    "stats_pivot_merged['Local - % of cohort'] = round(stats_pivot_merged['Local - % of cohort'],2)\n",
    "print(stats_pivot_merged)"
   ]
  },
  {
   "cell_type": "markdown",
   "metadata": {},
   "source": [
    "19.5% of students graduated with a Local diploma. We can see looking at this data that white and asian students are more likely to graduate with regents (as well as graudate in general) as well as less likely to graduate with a Local diploma. To further explore this trend, I will look at how the number of students earning the local diploma has changed over time."
   ]
  },
  {
   "cell_type": "code",
   "execution_count": 13,
   "metadata": {},
   "outputs": [
    {
     "name": "stdout",
     "output_type": "stream",
     "text": [
      "Cohort             2001       2002       2003       2004       2005       2006\n",
      "Demographic                                                                   \n",
      "Asian         16.122857  11.801370   9.539130   9.406579   7.566216   6.859211\n",
      "Black         24.000592  22.328646  22.706818  20.771374  18.739932  17.816066\n",
      "Hispanic      22.992529  21.581152  20.821659  20.554475  18.065603  16.030508\n",
      "Total Cohort  24.073973  21.723293  21.005396  19.834969  17.402210  16.030688\n",
      "White         16.312000  13.685333  12.325714   9.388571  11.038028   9.704054\n"
     ]
    }
   ],
   "source": [
    "df = grad_data_avail.pivot_table(values ='Local - % of cohort',index = 'Demographic', columns = 'Cohort' )\n",
    "print(df)\n"
   ]
  },
  {
   "cell_type": "code",
   "execution_count": 14,
   "metadata": {},
   "outputs": [
    {
     "data": {
      "text/plain": [
       "(0.0, 25.0)"
      ]
     },
     "execution_count": 14,
     "metadata": {},
     "output_type": "execute_result"
    },
    {
     "data": {
      "image/png": "[encoded data removed]",
      "text/plain": [
       "<Figure size 432x288 with 1 Axes>"
      ]
     },
     "metadata": {
      "needs_background": "light"
     },
     "output_type": "display_data"
    }
   ],
   "source": [
    "df = df.reset_index()\n",
    "# The index must be reset on a numeric scale instead of demographic variable in order to conduct melt function \n",
    "# and produce a graph of the data.\n",
    "melt = pd.melt(df,id_vars='Demographic')\n",
    "melt.set_index('Cohort', inplace=True)\n",
    "melt.groupby('Demographic')['value'].plot(legend=True)\n",
    "plt.xlim(2001,2006)\n",
    "plt.ylim(0,25)"
   ]
  },
  {
   "cell_type": "markdown",
   "metadata": {},
   "source": [
    "We can see that the number of Local diplomas earned decreased across all demographic groups from the 2001-2006 cohorts, which gives me pause on my hypothesis. Before making any conclusions, I decided to see if there was any more recent graduation data available. I referred back to [NYC open data](https://opendata.cityofnewyork.us/) and found that the [most recent dataset](https://data.cityofnewyork.us/Education/2017-2018-Graduation-Outcomes-School/kybe-9iex) has graduation data through the 2014 Cohort. I'm going to plot the data from this dataset to see whether the number of students who earned the local diploma continued to decrease between the 2006 and 2014 cohorts."
   ]
  },
  {
   "cell_type": "code",
   "execution_count": 15,
   "metadata": {},
   "outputs": [
    {
     "name": "stdout",
     "output_type": "stream",
     "text": [
      "<class 'pandas.core.frame.DataFrame'>\n",
      "RangeIndex: 508193 entries, 0 to 508192\n",
      "Data columns (total 25 columns):\n",
      " #   Column                            Non-Null Count   Dtype \n",
      "---  ------                            --------------   ----- \n",
      " 0   DBN                               508193 non-null  object\n",
      " 1   School Name                       508193 non-null  object\n",
      " 2   Demographic Category              508193 non-null  object\n",
      " 3   Demographic Variable              508193 non-null  object\n",
      " 4   Cohort Year                       508193 non-null  int64 \n",
      " 5   Cohort                            508193 non-null  object\n",
      " 6   Total Cohort #                    508193 non-null  int64 \n",
      " 7   Total Grads #                     508193 non-null  object\n",
      " 8   Total Grads % of cohort           508193 non-null  object\n",
      " 9   Total Regents #                   508193 non-null  object\n",
      " 10  Total Regents % of cohort         508193 non-null  object\n",
      " 11  Total Regents % of grads          508193 non-null  object\n",
      " 12  Advanced Regents #                508193 non-null  object\n",
      " 13  Advanced Regents % of cohort      508193 non-null  object\n",
      " 14  Advanced Regents % of grads       508193 non-null  object\n",
      " 15  Regents w/o Advanced #            508193 non-null  object\n",
      " 16  Regents w/o Advanced % of cohort  508193 non-null  object\n",
      " 17  Regents w/o Advanced % of grads   508193 non-null  object\n",
      " 18  Local #                           508193 non-null  object\n",
      " 19  Local % of cohort                 508193 non-null  object\n",
      " 20  Local % of grads                  508193 non-null  object\n",
      " 21  Still Enrolled #                  508193 non-null  object\n",
      " 22  Still Enrolled % of cohort        508193 non-null  object\n",
      " 23  Dropped Out #                     508193 non-null  object\n",
      " 24  Dropped Out % of cohort           508193 non-null  object\n",
      "dtypes: int64(2), object(23)\n",
      "memory usage: 96.9+ MB\n"
     ]
    }
   ],
   "source": [
    "data_2014 = pd.read_csv('/Users/Austen/Downloads/2017_-_2018_Graduation_Outcomes_School.csv')\n",
    "data_2014.info()"
   ]
  },
  {
   "cell_type": "code",
   "execution_count": 16,
   "metadata": {},
   "outputs": [
    {
     "data": {
      "text/html": [
       "<div>\n",
       "<style scoped>\n",
       "    .dataframe tbody tr th:only-of-type {\n",
       "        vertical-align: middle;\n",
       "    }\n",
       "\n",
       "    .dataframe tbody tr th {\n",
       "        vertical-align: top;\n",
       "    }\n",
       "\n",
       "    .dataframe thead th {\n",
       "        text-align: right;\n",
       "    }\n",
       "</style>\n",
       "<table border=\"1\" class=\"dataframe\">\n",
       "  <thead>\n",
       "    <tr style=\"text-align: right;\">\n",
       "      <th></th>\n",
       "      <th>DBN</th>\n",
       "      <th>School Name</th>\n",
       "      <th>Demographic Category</th>\n",
       "      <th>Demographic Variable</th>\n",
       "      <th>Cohort Year</th>\n",
       "      <th>Cohort</th>\n",
       "      <th>Total Cohort #</th>\n",
       "      <th>Total Grads #</th>\n",
       "      <th>Total Grads % of cohort</th>\n",
       "      <th>Total Regents #</th>\n",
       "      <th>...</th>\n",
       "      <th>Regents w/o Advanced #</th>\n",
       "      <th>Regents w/o Advanced % of cohort</th>\n",
       "      <th>Regents w/o Advanced % of grads</th>\n",
       "      <th>Local #</th>\n",
       "      <th>Local % of cohort</th>\n",
       "      <th>Local % of grads</th>\n",
       "      <th>Still Enrolled #</th>\n",
       "      <th>Still Enrolled % of cohort</th>\n",
       "      <th>Dropped Out #</th>\n",
       "      <th>Dropped Out % of cohort</th>\n",
       "    </tr>\n",
       "  </thead>\n",
       "  <tbody>\n",
       "    <tr>\n",
       "      <th>0</th>\n",
       "      <td>01M292</td>\n",
       "      <td>ORCHARD COLLEGIATE ACADEMY</td>\n",
       "      <td>All Students</td>\n",
       "      <td>All Students</td>\n",
       "      <td>2014</td>\n",
       "      <td>4 year August</td>\n",
       "      <td>29</td>\n",
       "      <td>28</td>\n",
       "      <td>96.6</td>\n",
       "      <td>25</td>\n",
       "      <td>...</td>\n",
       "      <td>25</td>\n",
       "      <td>86.2</td>\n",
       "      <td>89.3</td>\n",
       "      <td>3</td>\n",
       "      <td>10.3</td>\n",
       "      <td>10.7</td>\n",
       "      <td>0</td>\n",
       "      <td>0.0</td>\n",
       "      <td>1</td>\n",
       "      <td>3.4</td>\n",
       "    </tr>\n",
       "    <tr>\n",
       "      <th>1</th>\n",
       "      <td>01M292</td>\n",
       "      <td>ORCHARD COLLEGIATE ACADEMY</td>\n",
       "      <td>All Students</td>\n",
       "      <td>All Students</td>\n",
       "      <td>2013</td>\n",
       "      <td>4 year August</td>\n",
       "      <td>36</td>\n",
       "      <td>25</td>\n",
       "      <td>69.4</td>\n",
       "      <td>23</td>\n",
       "      <td>...</td>\n",
       "      <td>23</td>\n",
       "      <td>63.9</td>\n",
       "      <td>92.0</td>\n",
       "      <td>2</td>\n",
       "      <td>5.6</td>\n",
       "      <td>8.0</td>\n",
       "      <td>3</td>\n",
       "      <td>8.3</td>\n",
       "      <td>7</td>\n",
       "      <td>19.4</td>\n",
       "    </tr>\n",
       "    <tr>\n",
       "      <th>2</th>\n",
       "      <td>01M292</td>\n",
       "      <td>ORCHARD COLLEGIATE ACADEMY</td>\n",
       "      <td>All Students</td>\n",
       "      <td>All Students</td>\n",
       "      <td>2012</td>\n",
       "      <td>4 year August</td>\n",
       "      <td>44</td>\n",
       "      <td>24</td>\n",
       "      <td>54.5</td>\n",
       "      <td>20</td>\n",
       "      <td>...</td>\n",
       "      <td>19</td>\n",
       "      <td>43.2</td>\n",
       "      <td>79.2</td>\n",
       "      <td>4</td>\n",
       "      <td>9.1</td>\n",
       "      <td>16.7</td>\n",
       "      <td>10</td>\n",
       "      <td>22.7</td>\n",
       "      <td>10</td>\n",
       "      <td>22.7</td>\n",
       "    </tr>\n",
       "    <tr>\n",
       "      <th>3</th>\n",
       "      <td>01M292</td>\n",
       "      <td>ORCHARD COLLEGIATE ACADEMY</td>\n",
       "      <td>All Students</td>\n",
       "      <td>All Students</td>\n",
       "      <td>2011</td>\n",
       "      <td>4 year August</td>\n",
       "      <td>73</td>\n",
       "      <td>46</td>\n",
       "      <td>63.0</td>\n",
       "      <td>41</td>\n",
       "      <td>...</td>\n",
       "      <td>41</td>\n",
       "      <td>56.2</td>\n",
       "      <td>89.1</td>\n",
       "      <td>5</td>\n",
       "      <td>6.8</td>\n",
       "      <td>10.9</td>\n",
       "      <td>18</td>\n",
       "      <td>24.7</td>\n",
       "      <td>7</td>\n",
       "      <td>9.6</td>\n",
       "    </tr>\n",
       "    <tr>\n",
       "      <th>4</th>\n",
       "      <td>01M292</td>\n",
       "      <td>ORCHARD COLLEGIATE ACADEMY</td>\n",
       "      <td>All Students</td>\n",
       "      <td>All Students</td>\n",
       "      <td>2010</td>\n",
       "      <td>4 year August</td>\n",
       "      <td>61</td>\n",
       "      <td>26</td>\n",
       "      <td>42.6</td>\n",
       "      <td>26</td>\n",
       "      <td>...</td>\n",
       "      <td>25</td>\n",
       "      <td>41.0</td>\n",
       "      <td>96.2</td>\n",
       "      <td>0</td>\n",
       "      <td>0.0</td>\n",
       "      <td>0.0</td>\n",
       "      <td>18</td>\n",
       "      <td>29.5</td>\n",
       "      <td>17</td>\n",
       "      <td>27.9</td>\n",
       "    </tr>\n",
       "  </tbody>\n",
       "</table>\n",
       "<p>5 rows × 25 columns</p>\n",
       "</div>"
      ],
      "text/plain": [
       "      DBN                 School Name Demographic Category  \\\n",
       "0  01M292  ORCHARD COLLEGIATE ACADEMY         All Students   \n",
       "1  01M292  ORCHARD COLLEGIATE ACADEMY         All Students   \n",
       "2  01M292  ORCHARD COLLEGIATE ACADEMY         All Students   \n",
       "3  01M292  ORCHARD COLLEGIATE ACADEMY         All Students   \n",
       "4  01M292  ORCHARD COLLEGIATE ACADEMY         All Students   \n",
       "\n",
       "  Demographic Variable  Cohort Year         Cohort  Total Cohort #  \\\n",
       "0         All Students         2014  4 year August              29   \n",
       "1         All Students         2013  4 year August              36   \n",
       "2         All Students         2012  4 year August              44   \n",
       "3         All Students         2011  4 year August              73   \n",
       "4         All Students         2010  4 year August              61   \n",
       "\n",
       "  Total Grads # Total Grads % of cohort Total Regents #  ...  \\\n",
       "0            28                    96.6              25  ...   \n",
       "1            25                    69.4              23  ...   \n",
       "2            24                    54.5              20  ...   \n",
       "3            46                    63.0              41  ...   \n",
       "4            26                    42.6              26  ...   \n",
       "\n",
       "  Regents w/o Advanced # Regents w/o Advanced % of cohort  \\\n",
       "0                     25                             86.2   \n",
       "1                     23                             63.9   \n",
       "2                     19                             43.2   \n",
       "3                     41                             56.2   \n",
       "4                     25                             41.0   \n",
       "\n",
       "  Regents w/o Advanced % of grads Local # Local % of cohort Local % of grads  \\\n",
       "0                            89.3       3              10.3             10.7   \n",
       "1                            92.0       2               5.6              8.0   \n",
       "2                            79.2       4               9.1             16.7   \n",
       "3                            89.1       5               6.8             10.9   \n",
       "4                            96.2       0               0.0              0.0   \n",
       "\n",
       "  Still Enrolled # Still Enrolled % of cohort Dropped Out #  \\\n",
       "0                0                        0.0             1   \n",
       "1                3                        8.3             7   \n",
       "2               10                       22.7            10   \n",
       "3               18                       24.7             7   \n",
       "4               18                       29.5            17   \n",
       "\n",
       "  Dropped Out % of cohort  \n",
       "0                     3.4  \n",
       "1                    19.4  \n",
       "2                    22.7  \n",
       "3                     9.6  \n",
       "4                    27.9  \n",
       "\n",
       "[5 rows x 25 columns]"
      ]
     },
     "execution_count": 16,
     "metadata": {},
     "output_type": "execute_result"
    }
   ],
   "source": [
    "data_2014.head(5)"
   ]
  },
  {
   "cell_type": "code",
   "execution_count": 17,
   "metadata": {},
   "outputs": [
    {
     "name": "stdout",
     "output_type": "stream",
     "text": [
      "4 year June      122635\n",
      "5 year June      109788\n",
      "6 year June      100040\n",
      "4 year August     98212\n",
      "5 year August     77518\n",
      "Name: Cohort, dtype: int64\n"
     ]
    }
   ],
   "source": [
    "print(data_2014['Cohort'].value_counts())"
   ]
  },
  {
   "cell_type": "markdown",
   "metadata": {},
   "source": [
    "In this dataset, the cohorts have data stored across five possible categories, depending on when the students graduated. The quickest graduation time is 4 Years with a June graduation, and the latest is a six year June graduation. To get a feel for what this data looks like for one cohort, I will pick one out and examine it. "
   ]
  },
  {
   "cell_type": "code",
   "execution_count": 18,
   "metadata": {},
   "outputs": [
    {
     "name": "stdout",
     "output_type": "stream",
     "text": [
      "       DBN                 School Name Demographic Category  \\\n",
      "4   01M292  ORCHARD COLLEGIATE ACADEMY         All Students   \n",
      "14  01M292  ORCHARD COLLEGIATE ACADEMY         All Students   \n",
      "25  01M292  ORCHARD COLLEGIATE ACADEMY         All Students   \n",
      "33  01M292  ORCHARD COLLEGIATE ACADEMY         All Students   \n",
      "43  01M292  ORCHARD COLLEGIATE ACADEMY         All Students   \n",
      "\n",
      "   Demographic Variable  Cohort Year         Cohort  Total Cohort #  \\\n",
      "4          All Students         2010  4 year August              61   \n",
      "14         All Students         2010    4 year June              61   \n",
      "25         All Students         2010  5 year August              55   \n",
      "33         All Students         2010    5 year June              55   \n",
      "43         All Students         2010    6 year June              54   \n",
      "\n",
      "   Total Grads # Total Grads % of cohort Total Regents #  ...  \\\n",
      "4             26                    42.6              26  ...   \n",
      "14            24                    39.3              24  ...   \n",
      "25            28                    50.9              27  ...   \n",
      "33            28                    50.9              27  ...   \n",
      "43            30                    55.6              28  ...   \n",
      "\n",
      "   Regents w/o Advanced # Regents w/o Advanced % of cohort  \\\n",
      "4                      25                             41.0   \n",
      "14                     23                             37.7   \n",
      "25                     26                             47.3   \n",
      "33                     26                             47.3   \n",
      "43                     27                             50.0   \n",
      "\n",
      "   Regents w/o Advanced % of grads Local # Local % of cohort Local % of grads  \\\n",
      "4                             96.2       0               0.0              0.0   \n",
      "14                            95.8       0               0.0              0.0   \n",
      "25                            92.9       1               1.8              3.6   \n",
      "33                            92.9       1               1.8              3.6   \n",
      "43                            90.0       2               3.7              6.7   \n",
      "\n",
      "   Still Enrolled # Still Enrolled % of cohort Dropped Out #  \\\n",
      "4                18                       29.5            17   \n",
      "14               20                       32.8            17   \n",
      "25                7                       12.7            18   \n",
      "33                7                       12.7            18   \n",
      "43                2                        3.7            21   \n",
      "\n",
      "   Dropped Out % of cohort  \n",
      "4                     27.9  \n",
      "14                    27.9  \n",
      "25                    32.7  \n",
      "33                    32.7  \n",
      "43                    38.9  \n",
      "\n",
      "[5 rows x 25 columns]\n"
     ]
    }
   ],
   "source": [
    "Orchard_2010 = data_2014[(data_2014['DBN']=='01M292') & (data_2014['Cohort Year']==2010)&(data_2014['Demographic Variable']=='All Students')]\n",
    "print(Orchard_2010)"
   ]
  },
  {
   "cell_type": "markdown",
   "metadata": {},
   "source": [
    "After looking at graduation data for several different cohorts, I noticed the following patterns: \n",
    "1. The 2014 cohort only has 4 year graduation data available; 2013 cohort only has 4&5 year data.\n",
    "2. The latest graduation date has the highest number of graduates. Because of this, I will be focusing on the latest graduation date available for each cohort. \n",
    "3. In some cases the cohort size changes; this is not due to students dropping out, which is monitored in this data. It is most likely due to students changing schools. "
   ]
  },
  {
   "cell_type": "code",
   "execution_count": 19,
   "metadata": {},
   "outputs": [
    {
     "data": {
      "text/html": [
       "<div>\n",
       "<style scoped>\n",
       "    .dataframe tbody tr th:only-of-type {\n",
       "        vertical-align: middle;\n",
       "    }\n",
       "\n",
       "    .dataframe tbody tr th {\n",
       "        vertical-align: top;\n",
       "    }\n",
       "\n",
       "    .dataframe thead th {\n",
       "        text-align: right;\n",
       "    }\n",
       "</style>\n",
       "<table border=\"1\" class=\"dataframe\">\n",
       "  <thead>\n",
       "    <tr style=\"text-align: right;\">\n",
       "      <th></th>\n",
       "      <th>DBN</th>\n",
       "      <th>School Name</th>\n",
       "      <th>Demographic Category</th>\n",
       "      <th>Demographic Variable</th>\n",
       "      <th>Cohort Year</th>\n",
       "      <th>Cohort</th>\n",
       "      <th>Total Cohort #</th>\n",
       "      <th>Total Grads #</th>\n",
       "      <th>Total Grads % of cohort</th>\n",
       "      <th>Total Regents #</th>\n",
       "      <th>...</th>\n",
       "      <th>Regents w/o Advanced #</th>\n",
       "      <th>Regents w/o Advanced % of cohort</th>\n",
       "      <th>Regents w/o Advanced % of grads</th>\n",
       "      <th>Local #</th>\n",
       "      <th>Local % of cohort</th>\n",
       "      <th>Local % of grads</th>\n",
       "      <th>Still Enrolled #</th>\n",
       "      <th>Still Enrolled % of cohort</th>\n",
       "      <th>Dropped Out #</th>\n",
       "      <th>Dropped Out % of cohort</th>\n",
       "    </tr>\n",
       "  </thead>\n",
       "  <tbody>\n",
       "    <tr>\n",
       "      <th>21</th>\n",
       "      <td>01M292</td>\n",
       "      <td>ORCHARD COLLEGIATE ACADEMY</td>\n",
       "      <td>All Students</td>\n",
       "      <td>All Students</td>\n",
       "      <td>2003</td>\n",
       "      <td>4 year June</td>\n",
       "      <td>5</td>\n",
       "      <td>0</td>\n",
       "      <td>0.0</td>\n",
       "      <td>0</td>\n",
       "      <td>...</td>\n",
       "      <td>0</td>\n",
       "      <td>0.0</td>\n",
       "      <td>No Data</td>\n",
       "      <td>0</td>\n",
       "      <td>0.0</td>\n",
       "      <td>No Data</td>\n",
       "      <td>4</td>\n",
       "      <td>80.0</td>\n",
       "      <td>1</td>\n",
       "      <td>20.0</td>\n",
       "    </tr>\n",
       "    <tr>\n",
       "      <th>40</th>\n",
       "      <td>01M292</td>\n",
       "      <td>ORCHARD COLLEGIATE ACADEMY</td>\n",
       "      <td>All Students</td>\n",
       "      <td>All Students</td>\n",
       "      <td>2003</td>\n",
       "      <td>5 year June</td>\n",
       "      <td>5</td>\n",
       "      <td>3</td>\n",
       "      <td>60.0</td>\n",
       "      <td>0</td>\n",
       "      <td>...</td>\n",
       "      <td>0</td>\n",
       "      <td>0.0</td>\n",
       "      <td>0.0</td>\n",
       "      <td>3</td>\n",
       "      <td>60.0</td>\n",
       "      <td>100.0</td>\n",
       "      <td>0</td>\n",
       "      <td>0.0</td>\n",
       "      <td>2</td>\n",
       "      <td>40.0</td>\n",
       "    </tr>\n",
       "    <tr>\n",
       "      <th>50</th>\n",
       "      <td>01M292</td>\n",
       "      <td>ORCHARD COLLEGIATE ACADEMY</td>\n",
       "      <td>All Students</td>\n",
       "      <td>All Students</td>\n",
       "      <td>2003</td>\n",
       "      <td>6 year June</td>\n",
       "      <td>5</td>\n",
       "      <td>3</td>\n",
       "      <td>60.0</td>\n",
       "      <td>0</td>\n",
       "      <td>...</td>\n",
       "      <td>0</td>\n",
       "      <td>0.0</td>\n",
       "      <td>0.0</td>\n",
       "      <td>3</td>\n",
       "      <td>60.0</td>\n",
       "      <td>100.0</td>\n",
       "      <td>0</td>\n",
       "      <td>0.0</td>\n",
       "      <td>2</td>\n",
       "      <td>40.0</td>\n",
       "    </tr>\n",
       "    <tr>\n",
       "      <th>20</th>\n",
       "      <td>01M292</td>\n",
       "      <td>ORCHARD COLLEGIATE ACADEMY</td>\n",
       "      <td>All Students</td>\n",
       "      <td>All Students</td>\n",
       "      <td>2004</td>\n",
       "      <td>4 year June</td>\n",
       "      <td>55</td>\n",
       "      <td>37</td>\n",
       "      <td>67.3</td>\n",
       "      <td>17</td>\n",
       "      <td>...</td>\n",
       "      <td>17</td>\n",
       "      <td>30.9</td>\n",
       "      <td>45.9</td>\n",
       "      <td>20</td>\n",
       "      <td>36.4</td>\n",
       "      <td>54.1</td>\n",
       "      <td>15</td>\n",
       "      <td>27.3</td>\n",
       "      <td>3</td>\n",
       "      <td>5.5</td>\n",
       "    </tr>\n",
       "    <tr>\n",
       "      <th>39</th>\n",
       "      <td>01M292</td>\n",
       "      <td>ORCHARD COLLEGIATE ACADEMY</td>\n",
       "      <td>All Students</td>\n",
       "      <td>All Students</td>\n",
       "      <td>2004</td>\n",
       "      <td>5 year June</td>\n",
       "      <td>58</td>\n",
       "      <td>39</td>\n",
       "      <td>67.2</td>\n",
       "      <td>18</td>\n",
       "      <td>...</td>\n",
       "      <td>18</td>\n",
       "      <td>31.0</td>\n",
       "      <td>46.2</td>\n",
       "      <td>21</td>\n",
       "      <td>36.2</td>\n",
       "      <td>53.8</td>\n",
       "      <td>4</td>\n",
       "      <td>6.9</td>\n",
       "      <td>13</td>\n",
       "      <td>22.4</td>\n",
       "    </tr>\n",
       "  </tbody>\n",
       "</table>\n",
       "<p>5 rows × 25 columns</p>\n",
       "</div>"
      ],
      "text/plain": [
       "       DBN                 School Name Demographic Category  \\\n",
       "21  01M292  ORCHARD COLLEGIATE ACADEMY         All Students   \n",
       "40  01M292  ORCHARD COLLEGIATE ACADEMY         All Students   \n",
       "50  01M292  ORCHARD COLLEGIATE ACADEMY         All Students   \n",
       "20  01M292  ORCHARD COLLEGIATE ACADEMY         All Students   \n",
       "39  01M292  ORCHARD COLLEGIATE ACADEMY         All Students   \n",
       "\n",
       "   Demographic Variable  Cohort Year       Cohort  Total Cohort #  \\\n",
       "21         All Students         2003  4 year June               5   \n",
       "40         All Students         2003  5 year June               5   \n",
       "50         All Students         2003  6 year June               5   \n",
       "20         All Students         2004  4 year June              55   \n",
       "39         All Students         2004  5 year June              58   \n",
       "\n",
       "   Total Grads # Total Grads % of cohort Total Regents #  ...  \\\n",
       "21             0                     0.0               0  ...   \n",
       "40             3                    60.0               0  ...   \n",
       "50             3                    60.0               0  ...   \n",
       "20            37                    67.3              17  ...   \n",
       "39            39                    67.2              18  ...   \n",
       "\n",
       "   Regents w/o Advanced # Regents w/o Advanced % of cohort  \\\n",
       "21                      0                              0.0   \n",
       "40                      0                              0.0   \n",
       "50                      0                              0.0   \n",
       "20                     17                             30.9   \n",
       "39                     18                             31.0   \n",
       "\n",
       "   Regents w/o Advanced % of grads Local # Local % of cohort Local % of grads  \\\n",
       "21                         No Data       0               0.0          No Data   \n",
       "40                             0.0       3              60.0            100.0   \n",
       "50                             0.0       3              60.0            100.0   \n",
       "20                            45.9      20              36.4             54.1   \n",
       "39                            46.2      21              36.2             53.8   \n",
       "\n",
       "   Still Enrolled # Still Enrolled % of cohort Dropped Out #  \\\n",
       "21                4                       80.0             1   \n",
       "40                0                        0.0             2   \n",
       "50                0                        0.0             2   \n",
       "20               15                       27.3             3   \n",
       "39                4                        6.9            13   \n",
       "\n",
       "   Dropped Out % of cohort  \n",
       "21                    20.0  \n",
       "40                    40.0  \n",
       "50                    40.0  \n",
       "20                     5.5  \n",
       "39                    22.4  \n",
       "\n",
       "[5 rows x 25 columns]"
      ]
     },
     "execution_count": 19,
     "metadata": {},
     "output_type": "execute_result"
    }
   ],
   "source": [
    "data_2014 = data_2014.sort_values(by=['DBN','Demographic Category','Cohort Year'])\n",
    "data_2014.head()"
   ]
  },
  {
   "cell_type": "code",
   "execution_count": 20,
   "metadata": {},
   "outputs": [
    {
     "data": {
      "text/html": [
       "<div>\n",
       "<style scoped>\n",
       "    .dataframe tbody tr th:only-of-type {\n",
       "        vertical-align: middle;\n",
       "    }\n",
       "\n",
       "    .dataframe tbody tr th {\n",
       "        vertical-align: top;\n",
       "    }\n",
       "\n",
       "    .dataframe thead th {\n",
       "        text-align: right;\n",
       "    }\n",
       "</style>\n",
       "<table border=\"1\" class=\"dataframe\">\n",
       "  <thead>\n",
       "    <tr style=\"text-align: right;\">\n",
       "      <th></th>\n",
       "      <th>DBN</th>\n",
       "      <th>School Name</th>\n",
       "      <th>Demographic Category</th>\n",
       "      <th>Demographic Variable</th>\n",
       "      <th>Cohort Year</th>\n",
       "      <th>Cohort</th>\n",
       "      <th>Total Cohort #</th>\n",
       "      <th>Total Grads #</th>\n",
       "      <th>Total Grads % of cohort</th>\n",
       "      <th>Total Regents #</th>\n",
       "      <th>...</th>\n",
       "      <th>Regents w/o Advanced #</th>\n",
       "      <th>Regents w/o Advanced % of cohort</th>\n",
       "      <th>Regents w/o Advanced % of grads</th>\n",
       "      <th>Local #</th>\n",
       "      <th>Local % of cohort</th>\n",
       "      <th>Local % of grads</th>\n",
       "      <th>Still Enrolled #</th>\n",
       "      <th>Still Enrolled % of cohort</th>\n",
       "      <th>Dropped Out #</th>\n",
       "      <th>Dropped Out % of cohort</th>\n",
       "    </tr>\n",
       "  </thead>\n",
       "  <tbody>\n",
       "    <tr>\n",
       "      <th>50</th>\n",
       "      <td>01M292</td>\n",
       "      <td>ORCHARD COLLEGIATE ACADEMY</td>\n",
       "      <td>All Students</td>\n",
       "      <td>All Students</td>\n",
       "      <td>2003</td>\n",
       "      <td>6 year June</td>\n",
       "      <td>5</td>\n",
       "      <td>3</td>\n",
       "      <td>60.0</td>\n",
       "      <td>0</td>\n",
       "      <td>...</td>\n",
       "      <td>0</td>\n",
       "      <td>0.0</td>\n",
       "      <td>0.0</td>\n",
       "      <td>3</td>\n",
       "      <td>60.0</td>\n",
       "      <td>100.0</td>\n",
       "      <td>0</td>\n",
       "      <td>0.0</td>\n",
       "      <td>2</td>\n",
       "      <td>40.0</td>\n",
       "    </tr>\n",
       "    <tr>\n",
       "      <th>49</th>\n",
       "      <td>01M292</td>\n",
       "      <td>ORCHARD COLLEGIATE ACADEMY</td>\n",
       "      <td>All Students</td>\n",
       "      <td>All Students</td>\n",
       "      <td>2004</td>\n",
       "      <td>6 year June</td>\n",
       "      <td>56</td>\n",
       "      <td>41</td>\n",
       "      <td>73.2</td>\n",
       "      <td>18</td>\n",
       "      <td>...</td>\n",
       "      <td>18</td>\n",
       "      <td>32.1</td>\n",
       "      <td>43.9</td>\n",
       "      <td>23</td>\n",
       "      <td>41.1</td>\n",
       "      <td>56.1</td>\n",
       "      <td>2</td>\n",
       "      <td>3.6</td>\n",
       "      <td>12</td>\n",
       "      <td>21.4</td>\n",
       "    </tr>\n",
       "    <tr>\n",
       "      <th>48</th>\n",
       "      <td>01M292</td>\n",
       "      <td>ORCHARD COLLEGIATE ACADEMY</td>\n",
       "      <td>All Students</td>\n",
       "      <td>All Students</td>\n",
       "      <td>2005</td>\n",
       "      <td>6 year June</td>\n",
       "      <td>65</td>\n",
       "      <td>47</td>\n",
       "      <td>72.3</td>\n",
       "      <td>29</td>\n",
       "      <td>...</td>\n",
       "      <td>29</td>\n",
       "      <td>44.6</td>\n",
       "      <td>61.7</td>\n",
       "      <td>18</td>\n",
       "      <td>27.7</td>\n",
       "      <td>38.3</td>\n",
       "      <td>1</td>\n",
       "      <td>1.5</td>\n",
       "      <td>11</td>\n",
       "      <td>16.9</td>\n",
       "    </tr>\n",
       "    <tr>\n",
       "      <th>47</th>\n",
       "      <td>01M292</td>\n",
       "      <td>ORCHARD COLLEGIATE ACADEMY</td>\n",
       "      <td>All Students</td>\n",
       "      <td>All Students</td>\n",
       "      <td>2006</td>\n",
       "      <td>6 year June</td>\n",
       "      <td>73</td>\n",
       "      <td>44</td>\n",
       "      <td>60.3</td>\n",
       "      <td>36</td>\n",
       "      <td>...</td>\n",
       "      <td>36</td>\n",
       "      <td>49.3</td>\n",
       "      <td>81.8</td>\n",
       "      <td>8</td>\n",
       "      <td>11.0</td>\n",
       "      <td>18.2</td>\n",
       "      <td>1</td>\n",
       "      <td>1.4</td>\n",
       "      <td>21</td>\n",
       "      <td>28.8</td>\n",
       "    </tr>\n",
       "    <tr>\n",
       "      <th>46</th>\n",
       "      <td>01M292</td>\n",
       "      <td>ORCHARD COLLEGIATE ACADEMY</td>\n",
       "      <td>All Students</td>\n",
       "      <td>All Students</td>\n",
       "      <td>2007</td>\n",
       "      <td>6 year June</td>\n",
       "      <td>77</td>\n",
       "      <td>53</td>\n",
       "      <td>68.8</td>\n",
       "      <td>31</td>\n",
       "      <td>...</td>\n",
       "      <td>31</td>\n",
       "      <td>40.3</td>\n",
       "      <td>58.5</td>\n",
       "      <td>22</td>\n",
       "      <td>28.6</td>\n",
       "      <td>41.5</td>\n",
       "      <td>2</td>\n",
       "      <td>2.6</td>\n",
       "      <td>14</td>\n",
       "      <td>18.2</td>\n",
       "    </tr>\n",
       "  </tbody>\n",
       "</table>\n",
       "<p>5 rows × 25 columns</p>\n",
       "</div>"
      ],
      "text/plain": [
       "       DBN                 School Name Demographic Category  \\\n",
       "50  01M292  ORCHARD COLLEGIATE ACADEMY         All Students   \n",
       "49  01M292  ORCHARD COLLEGIATE ACADEMY         All Students   \n",
       "48  01M292  ORCHARD COLLEGIATE ACADEMY         All Students   \n",
       "47  01M292  ORCHARD COLLEGIATE ACADEMY         All Students   \n",
       "46  01M292  ORCHARD COLLEGIATE ACADEMY         All Students   \n",
       "\n",
       "   Demographic Variable  Cohort Year       Cohort  Total Cohort #  \\\n",
       "50         All Students         2003  6 year June               5   \n",
       "49         All Students         2004  6 year June              56   \n",
       "48         All Students         2005  6 year June              65   \n",
       "47         All Students         2006  6 year June              73   \n",
       "46         All Students         2007  6 year June              77   \n",
       "\n",
       "   Total Grads # Total Grads % of cohort Total Regents #  ...  \\\n",
       "50             3                    60.0               0  ...   \n",
       "49            41                    73.2              18  ...   \n",
       "48            47                    72.3              29  ...   \n",
       "47            44                    60.3              36  ...   \n",
       "46            53                    68.8              31  ...   \n",
       "\n",
       "   Regents w/o Advanced # Regents w/o Advanced % of cohort  \\\n",
       "50                      0                              0.0   \n",
       "49                     18                             32.1   \n",
       "48                     29                             44.6   \n",
       "47                     36                             49.3   \n",
       "46                     31                             40.3   \n",
       "\n",
       "   Regents w/o Advanced % of grads Local # Local % of cohort Local % of grads  \\\n",
       "50                             0.0       3              60.0            100.0   \n",
       "49                            43.9      23              41.1             56.1   \n",
       "48                            61.7      18              27.7             38.3   \n",
       "47                            81.8       8              11.0             18.2   \n",
       "46                            58.5      22              28.6             41.5   \n",
       "\n",
       "   Still Enrolled # Still Enrolled % of cohort Dropped Out #  \\\n",
       "50                0                        0.0             2   \n",
       "49                2                        3.6            12   \n",
       "48                1                        1.5            11   \n",
       "47                1                        1.4            21   \n",
       "46                2                        2.6            14   \n",
       "\n",
       "   Dropped Out % of cohort  \n",
       "50                    40.0  \n",
       "49                    21.4  \n",
       "48                    16.9  \n",
       "47                    28.8  \n",
       "46                    18.2  \n",
       "\n",
       "[5 rows x 25 columns]"
      ]
     },
     "execution_count": 20,
     "metadata": {},
     "output_type": "execute_result"
    }
   ],
   "source": [
    "data_2014 = data_2014.drop_duplicates(subset = ['DBN','School Name','Demographic Category','Demographic Variable','Cohort Year'],keep = 'last')\n",
    "data_2014.head()"
   ]
  },
  {
   "cell_type": "code",
   "execution_count": 21,
   "metadata": {},
   "outputs": [
    {
     "name": "stdout",
     "output_type": "stream",
     "text": [
      "6 year June    100040\n",
      "4 year June     12689\n",
      "5 year June     11979\n",
      "Name: Cohort, dtype: int64\n"
     ]
    }
   ],
   "source": [
    "print(data_2014['Cohort'].value_counts())"
   ]
  },
  {
   "cell_type": "markdown",
   "metadata": {},
   "source": [
    "In this dataset, data in all rows with fewer than five students was surpressed (compared to the threshold of 20 in the original dataset) So I will remove all rows with fewer than five students in the total cohort.\n"
   ]
  },
  {
   "cell_type": "code",
   "execution_count": 22,
   "metadata": {},
   "outputs": [],
   "source": [
    "data_2014_avail = data_2014[data_2014['Total Cohort #']>5]"
   ]
  },
  {
   "cell_type": "markdown",
   "metadata": {},
   "source": [
    "Another difference from the other dataset is that Demographic is split into two columns: Category and Variable. "
   ]
  },
  {
   "cell_type": "code",
   "execution_count": 23,
   "metadata": {},
   "outputs": [
    {
     "name": "stdout",
     "output_type": "stream",
     "text": [
      "Gender by Ethnicity    24925\n",
      "Ethnicity              14846\n",
      "ELL Status             13111\n",
      "Gender                 10719\n",
      "Poverty Status         10355\n",
      "SWD Status              9849\n",
      "All Students            5458\n",
      "Name: Demographic Category, dtype: int64\n"
     ]
    }
   ],
   "source": [
    "print(data_2014_avail['Demographic Category'].value_counts())"
   ]
  },
  {
   "cell_type": "code",
   "execution_count": 24,
   "metadata": {},
   "outputs": [
    {
     "name": "stdout",
     "output_type": "stream",
     "text": [
      "All Students              5458\n",
      "Not SWD                   5434\n",
      "Econ Disadv               5420\n",
      "Not ELL                   5383\n",
      "Female                    5372\n",
      "Male                      5347\n",
      "Hispanic                  5224\n",
      "Black                     5161\n",
      "Not Econ Disadv           4935\n",
      "Female Hispanic           4755\n",
      "Female Black              4671\n",
      "Male Black                4607\n",
      "Male Hispanic             4588\n",
      "SWD                       4415\n",
      "ELL                       2612\n",
      "Asian                     2193\n",
      "White                     1986\n",
      "Never ELL                 1767\n",
      "Male Asian                1606\n",
      "Female Asian              1560\n",
      "Male White                1544\n",
      "Ever ELL                  1471\n",
      "Female White              1387\n",
      "Former ELL                1107\n",
      "Current ELL                771\n",
      "Multi-Racial               155\n",
      "Native American            127\n",
      "Female Multi-Racial         72\n",
      "Male Multi-Racial           59\n",
      "Male Native American        44\n",
      "Female Native American      32\n",
      "Name: Demographic Variable, dtype: int64\n"
     ]
    }
   ],
   "source": [
    "print(data_2014_avail['Demographic Variable'].value_counts())"
   ]
  },
  {
   "cell_type": "markdown",
   "metadata": {},
   "source": [
    "Since we are focusing on disparities in graduation rates amongst racial groups, I will filter the category for this. "
   ]
  },
  {
   "cell_type": "code",
   "execution_count": 25,
   "metadata": {},
   "outputs": [],
   "source": [
    "data_2014_avail = data_2014_avail[data_2014_avail['Demographic Category'].isin(['All Students', 'Ethnicity','Gender by Ethnicity'])]"
   ]
  },
  {
   "cell_type": "markdown",
   "metadata": {},
   "source": [
    "A possible point of concern is that the categories 'Gender by Ethnicity' and 'Ethnicity' may give overlapping data - something that could negatively affect analysis if I were to simplify the 'Gender by Ethnicity' into 'Ethnicity', which I would like to do for the sake of my analysis. My intuition tells me that it is possible that the Gender by Ethnicity column was introduced as a data point more recently, and is taking the place of the 'Ethnicity' data point for more recent cohorts. I will test this theory now by looking at one cohort from one school."
   ]
  },
  {
   "cell_type": "code",
   "execution_count": 26,
   "metadata": {},
   "outputs": [
    {
     "name": "stdout",
     "output_type": "stream",
     "text": [
      "           DBN                     School Name Demographic Category  \\\n",
      "507093  32K564  BUSHWICK COMMUNITY HIGH SCHOOL         All Students   \n",
      "507358  32K564  BUSHWICK COMMUNITY HIGH SCHOOL            Ethnicity   \n",
      "507415  32K564  BUSHWICK COMMUNITY HIGH SCHOOL            Ethnicity   \n",
      "507671  32K564  BUSHWICK COMMUNITY HIGH SCHOOL  Gender by Ethnicity   \n",
      "507728  32K564  BUSHWICK COMMUNITY HIGH SCHOOL  Gender by Ethnicity   \n",
      "507866  32K564  BUSHWICK COMMUNITY HIGH SCHOOL  Gender by Ethnicity   \n",
      "507923  32K564  BUSHWICK COMMUNITY HIGH SCHOOL  Gender by Ethnicity   \n",
      "\n",
      "       Demographic Variable  Cohort Year       Cohort  Total Cohort #  \\\n",
      "507093         All Students         2008  6 year June             203   \n",
      "507358                Black         2008  6 year June              67   \n",
      "507415             Hispanic         2008  6 year June             129   \n",
      "507671         Female Black         2008  6 year June              35   \n",
      "507728      Female Hispanic         2008  6 year June              77   \n",
      "507866           Male Black         2008  6 year June              32   \n",
      "507923        Male Hispanic         2008  6 year June              52   \n",
      "\n",
      "       Total Grads # Total Grads % of cohort Total Regents #  ...  \\\n",
      "507093            59                    29.1              45  ...   \n",
      "507358            20                    29.9              13  ...   \n",
      "507415            37                    28.7              30  ...   \n",
      "507671            12                    34.3               7  ...   \n",
      "507728            25                    32.5              22  ...   \n",
      "507866             8                    25.0               6  ...   \n",
      "507923            12                    23.1               8  ...   \n",
      "\n",
      "       Regents w/o Advanced # Regents w/o Advanced % of cohort  \\\n",
      "507093                     45                             22.2   \n",
      "507358                     13                             19.4   \n",
      "507415                     30                             23.3   \n",
      "507671                      7                             20.0   \n",
      "507728                     22                             28.6   \n",
      "507866                      6                             18.8   \n",
      "507923                      8                             15.4   \n",
      "\n",
      "       Regents w/o Advanced % of grads Local # Local % of cohort  \\\n",
      "507093                            76.3      14               6.9   \n",
      "507358                            65.0       7              10.4   \n",
      "507415                            81.1       7               5.4   \n",
      "507671                            58.3       5              14.3   \n",
      "507728                            88.0       3               3.9   \n",
      "507866                            75.0       2               6.3   \n",
      "507923                            66.7       4               7.7   \n",
      "\n",
      "       Local % of grads Still Enrolled # Still Enrolled % of cohort  \\\n",
      "507093             23.7               19                        9.4   \n",
      "507358             35.0                9                       13.4   \n",
      "507415             18.9                8                        6.2   \n",
      "507671             41.7                5                       14.3   \n",
      "507728             12.0                4                        5.2   \n",
      "507866             25.0                4                       12.5   \n",
      "507923             33.3                4                        7.7   \n",
      "\n",
      "       Dropped Out # Dropped Out % of cohort  \n",
      "507093           120                    59.1  \n",
      "507358            36                    53.7  \n",
      "507415            81                    62.8  \n",
      "507671            17                    48.6  \n",
      "507728            46                    59.7  \n",
      "507866            19                    59.4  \n",
      "507923            35                    67.3  \n",
      "\n",
      "[7 rows x 25 columns]\n"
     ]
    }
   ],
   "source": [
    "Bushwick = data_2014_avail[(data_2014_avail['DBN']=='32K564')&(data_2014_avail['Cohort Year']==2008)]\n",
    "print(Bushwick)"
   ]
  },
  {
   "cell_type": "markdown",
   "metadata": {},
   "source": [
    "Looking at this data, I can see that the number of male and female students of a racial group sum to the total number of students from the racial group. Seeing that this data overlaps completely, I will remove the 'Gender by Ethnicity' Demographic cateogry."
   ]
  },
  {
   "cell_type": "code",
   "execution_count": 27,
   "metadata": {},
   "outputs": [
    {
     "data": {
      "text/plain": [
       "All Students       5458\n",
       "Hispanic           5224\n",
       "Black              5161\n",
       "Asian              2193\n",
       "White              1986\n",
       "Multi-Racial        155\n",
       "Native American     127\n",
       "Name: Demographic Variable, dtype: int64"
      ]
     },
     "execution_count": 27,
     "metadata": {},
     "output_type": "execute_result"
    }
   ],
   "source": [
    "data_2014_avail = data_2014_avail[data_2014_avail['Demographic Category'].isin(['All Students', 'Ethnicity'])]\n",
    "data_2014_avail['Demographic Variable'].value_counts()"
   ]
  },
  {
   "cell_type": "markdown",
   "metadata": {},
   "source": [
    "Interestingly, this updated dataset contains information on Multi-Racial and Native American students, nieither of which were present previously. "
   ]
  },
  {
   "cell_type": "code",
   "execution_count": 28,
   "metadata": {},
   "outputs": [
    {
     "name": "stdout",
     "output_type": "stream",
     "text": [
      "                      Total Cohort #\n",
      "Demographic Variable                \n",
      "All Students                 1001326\n",
      "Asian                         156865\n",
      "Black                         313183\n",
      "Hispanic                      376909\n",
      "Multi-Racial                    2073\n",
      "Native American                 1366\n",
      "White                         132998\n"
     ]
    }
   ],
   "source": [
    "pivot_2014 = data_2014_avail.pivot_table(values = 'Total Cohort #',index ='Demographic Variable', aggfunc = 'sum')\n",
    "print(pivot_2014)"
   ]
  },
  {
   "cell_type": "markdown",
   "metadata": {},
   "source": [
    "The number of students in these new groups is much smaller than other groups, so graduation rate for these groups may not be as reliable as for the other groups. \n",
    "\n",
    "In order to convert our numeric data to numeric data type, we need to ensure that all rows with more than five students do not have 's' in any numeric rows, standing for supressed. My first attempt to convert the data type of the 'Local % of Cohort' problem gave me an error, so I know that some rows still have non-numeric data types. Conveniently, getting rid of rows with 's' in one category should get rid of rows with any 's' values, so I should be able to convert any of these rows to numeric types for further analysis."
   ]
  },
  {
   "cell_type": "code",
   "execution_count": 29,
   "metadata": {},
   "outputs": [
    {
     "data": {
      "text/plain": [
       "0.0     3443\n",
       "s       1759\n",
       "14.3     204\n",
       "16.7     187\n",
       "11.1     154\n",
       "        ... \n",
       "58.5       1\n",
       "89.7       1\n",
       "63.5       1\n",
       "55.3       1\n",
       "67.5       1\n",
       "Name: Local % of cohort, Length: 707, dtype: int64"
      ]
     },
     "execution_count": 29,
     "metadata": {},
     "output_type": "execute_result"
    }
   ],
   "source": [
    "data_2014_avail['Local % of cohort'].value_counts()"
   ]
  },
  {
   "cell_type": "code",
   "execution_count": 30,
   "metadata": {},
   "outputs": [
    {
     "data": {
      "text/plain": [
       "(0.0, 40.0)"
      ]
     },
     "execution_count": 30,
     "metadata": {},
     "output_type": "execute_result"
    },
    {
     "data": {
      "image/png": "[encoded data removed]",
      "text/plain": [
       "<Figure size 432x288 with 1 Axes>"
      ]
     },
     "metadata": {
      "needs_background": "light"
     },
     "output_type": "display_data"
    }
   ],
   "source": [
    "data_2014_avail = data_2014_avail[data_2014_avail['Local % of cohort'] != 's']\n",
    "#local diploma grads\n",
    "data_2014_avail['Local % of cohort'] =data_2014_avail['Local % of cohort'].astype(float)\n",
    "pivot_2014 = data_2014_avail.pivot_table(values ='Local % of cohort',index = 'Demographic Variable', columns = 'Cohort Year' )\n",
    "pivot_graph = pivot_2014.reset_index()\n",
    "melt_2014 = pd.melt(pivot_graph,id_vars='Demographic Variable')\n",
    "melt_2014.set_index('Cohort Year', inplace=True)\n",
    "melt_2014.groupby('Demographic Variable')['value'].plot(legend=True)\n",
    "plt.xlim(2001,2014)\n",
    "plt.ylim(0,40)"
   ]
  },
  {
   "cell_type": "markdown",
   "metadata": {},
   "source": [
    "Although Black and Latino students still earn more Local diplomas than other racial groups, the drastic decrease in Local diplomas for all groups between 2005 and 2018 suggests that more and more students are graduating with the Regents diploma instead. But is that really the case? I will now plot the number of students who have earned a Regents diploma, as well as those who dropped out, as a comparison:\n",
    "\n",
    "*Note: the 2014 data shows a lower graduation rate than the year before because we only have data on the 4-year graduation rate for this cohort, as opposed to other cohorts which have 5-6 year graduation rates.* "
   ]
  },
  {
   "cell_type": "code",
   "execution_count": 31,
   "metadata": {},
   "outputs": [
    {
     "data": {
      "text/plain": [
       "(0.0, 100.0)"
      ]
     },
     "execution_count": 31,
     "metadata": {},
     "output_type": "execute_result"
    },
    {
     "data": {
      "image/png": "[encoded data removed]",
      "text/plain": [
       "<Figure size 432x288 with 1 Axes>"
      ]
     },
     "metadata": {
      "needs_background": "light"
     },
     "output_type": "display_data"
    }
   ],
   "source": [
    "#Regents Diploma\n",
    "data_2014_avail['Total Regents % of cohort'] =data_2014_avail['Total Regents % of cohort'].astype(float)\n",
    "pivot_2014_reg = data_2014_avail.pivot_table(values ='Total Regents % of cohort',index = 'Demographic Variable', columns = 'Cohort Year' )\n",
    "pivot_graph_reg = pivot_2014_reg.reset_index()\n",
    "melt_2014_reg = pd.melt(pivot_graph_reg,id_vars='Demographic Variable')\n",
    "melt_2014_reg.set_index('Cohort Year', inplace=True)\n",
    "melt_2014_reg.groupby('Demographic Variable')['value'].plot(legend=True)\n",
    "plt.xlim(2001,2014)\n",
    "plt.ylim(0,100)"
   ]
  },
  {
   "cell_type": "code",
   "execution_count": 32,
   "metadata": {},
   "outputs": [
    {
     "data": {
      "text/plain": [
       "(0.0, 100.0)"
      ]
     },
     "execution_count": 32,
     "metadata": {},
     "output_type": "execute_result"
    },
    {
     "data": {
      "image/png": "[encoded data removed]",
      "text/plain": [
       "<Figure size 432x288 with 1 Axes>"
      ]
     },
     "metadata": {
      "needs_background": "light"
     },
     "output_type": "display_data"
    }
   ],
   "source": [
    "#Drop out rate\n",
    "data_2014_avail['Dropped Out % of cohort'] =data_2014_avail['Dropped Out % of cohort'].astype(float)\n",
    "pivot_2014_drop = pd.DataFrame(data_2014_avail.pivot_table(values ='Dropped Out % of cohort',index = 'Demographic Variable', columns = 'Cohort Year' ))\n",
    "pivot_graph_drop = pivot_2014_drop.reset_index()\n",
    "melt_2014_drop = pd.melt(pivot_graph_drop,id_vars='Demographic Variable')\n",
    "melt_2014_drop.set_index('Cohort Year', inplace=True)\n",
    "melt_2014_drop.groupby('Demographic Variable')['value'].plot(legend=True)\n",
    "plt.xlim(2001,2014)\n",
    "plt.ylim(0,100)"
   ]
  },
  {
   "cell_type": "code",
   "execution_count": 33,
   "metadata": {},
   "outputs": [
    {
     "data": {
      "text/plain": [
       "(0.0, 100.0)"
      ]
     },
     "execution_count": 33,
     "metadata": {},
     "output_type": "execute_result"
    },
    {
     "data": {
      "image/png": "[encoded data removed]",
      "text/plain": [
       "<Figure size 432x288 with 1 Axes>"
      ]
     },
     "metadata": {
      "needs_background": "light"
     },
     "output_type": "display_data"
    }
   ],
   "source": [
    "# Total Grad Rate \n",
    "data_2014_avail['Total Grads % of cohort'] =data_2014_avail['Total Grads % of cohort'].astype(float)\n",
    "pivot_2014_total = pd.DataFrame(data_2014_avail.pivot_table(values ='Total Grads % of cohort',index = 'Demographic Variable', columns = 'Cohort Year' ))\n",
    "pivot_graph_total = pivot_2014_total.reset_index()\n",
    "melt_2014_total = pd.melt(pivot_graph_total,id_vars='Demographic Variable')\n",
    "melt_2014_total.set_index('Cohort Year', inplace=True)\n",
    "melt_2014_total.groupby('Demographic Variable')['value'].plot(legend=True)\n",
    "plt.xlim(2001,2014)\n",
    "plt.ylim(0,100)"
   ]
  },
  {
   "cell_type": "markdown",
   "metadata": {},
   "source": [
    "The graphical results are interesting, and show a clear trend across all three outcomes: the number of dropouts and local diplomas have decreased, while the number of regents diplomas have increased. However, the total number of graduates has stayed fairly constant across all groups, with only a slight increase from 2001 to 2013. This would suggest that the decrease in Local diploma graduates is, in fact, being complemented by the increase in Regents grads. Now I want to see all of this data laid out next to each other. "
   ]
  },
  {
   "cell_type": "code",
   "execution_count": 34,
   "metadata": {},
   "outputs": [
    {
     "name": "stdout",
     "output_type": "stream",
     "text": [
      "Cohort Year Demographic Variable  delta_local  delta_dropouts  delta_regents  \\\n",
      "0                   All Students       -25.79          -11.35          35.79   \n",
      "1                          Asian       -24.50           -9.36          31.62   \n",
      "2                          Black       -27.09          -13.02          38.45   \n",
      "3                       Hispanic       -25.08          -12.31          35.97   \n",
      "4                   Multi-Racial          NaN             NaN            NaN   \n",
      "5                Native American       -21.12          -18.37          28.97   \n",
      "6                          White       -25.94          -11.55          36.50   \n",
      "\n",
      "Cohort Year  delta_total_grads  \n",
      "0                        10.15  \n",
      "1                         7.26  \n",
      "2                        11.50  \n",
      "3                        11.06  \n",
      "4                          NaN  \n",
      "5                         7.85  \n",
      "6                        10.67  \n"
     ]
    }
   ],
   "source": [
    "def delta(df):\n",
    "    df['delta'] = round(df[2013]-df[2001],2)\n",
    "    return df\n",
    "#note: I am using 2013 data in the delta equation because the 2014 cohort only has 4-year graduation data available. \n",
    "def delta_df(df):\n",
    "    df = delta(df)\n",
    "    df = df.reset_index()\n",
    "    new_df = df[['Demographic Variable','delta']].copy()\n",
    "    return new_df \n",
    "\n",
    "delta_local = delta_df(pivot_2014)\n",
    "delta_local = delta_local.rename(columns = {'delta':'delta_local'})\n",
    "delta_dropouts = delta_df(pivot_2014_drop)\n",
    "delta_dropouts = delta_dropouts.rename(columns = {'delta':'delta_dropouts'})\n",
    "delta_regents = delta_df(pivot_2014_reg)\n",
    "delta_regents = delta_regents.rename(columns = {'delta':'delta_regents'})\n",
    "delta_total_grads = delta_df(pivot_2014_total)\n",
    "delta_total_grads=delta_total_grads.rename(columns = {'delta':'delta_total_grads'})\n",
    "delta_1 = pd.merge(delta_local,delta_dropouts, on = 'Demographic Variable')\n",
    "delta_2 = pd.merge(delta_1, delta_regents, on = 'Demographic Variable')\n",
    "delta_all = pd.merge(delta_2, delta_total_grads, on = 'Demographic Variable')\n",
    "print(delta_all)"
   ]
  },
  {
   "cell_type": "markdown",
   "metadata": {},
   "source": [
    "As an overall trend, we can see that the number of dropouts and local diplomas have decreased (25.8% and 11.3% respectively) across all racial groups in the past 20 years, while Regents diplomas and the overall graduation rate have increased (35.8% and 10.2%) across all groups. \n",
    "\n",
    "However, we can see from the graphs that despite the promising trends, the number of Local diploma graduates hit a low with the 2008 cohort (2012-2014 graduation) and has since stabilized, increasing slightly in the cohorts since. Likewise, the number of students earning a Regents diploma has been mostly stable since 2008. If I change the delta function to look at the change in statistics since 2008, the numbers tell a less aspirational story: "
   ]
  },
  {
   "cell_type": "code",
   "execution_count": 35,
   "metadata": {},
   "outputs": [
    {
     "name": "stdout",
     "output_type": "stream",
     "text": [
      "Cohort Year Demographic Variable  delta_local  delta_dropouts  delta_regents  \\\n",
      "0                   All Students         3.47           -4.51          -0.69   \n",
      "1                          Asian         0.62           -3.75           2.15   \n",
      "2                          Black         3.42           -5.29           0.06   \n",
      "3                       Hispanic         4.18           -4.68          -1.09   \n",
      "4                   Multi-Racial         0.52            1.35          -4.14   \n",
      "5                Native American        -5.97            2.81          -5.47   \n",
      "6                          White         0.18           -6.58           3.93   \n",
      "\n",
      "Cohort Year  delta_total_grads  \n",
      "0                         2.78  \n",
      "1                         2.78  \n",
      "2                         3.48  \n",
      "3                         3.09  \n",
      "4                        -3.62  \n",
      "5                       -11.44  \n",
      "6                         4.11  \n"
     ]
    }
   ],
   "source": [
    "def delta(df):\n",
    "    df['delta'] = round(df[2013]-df[2008],2)\n",
    "    return df\n",
    "\n",
    "def delta_df(df):\n",
    "    df = delta(df)\n",
    "    df = df.reset_index()\n",
    "    new_df = df[['Demographic Variable','delta']].copy()\n",
    "    return new_df \n",
    "\n",
    "delta_local = delta_df(pivot_2014)\n",
    "delta_local = delta_local.rename(columns = {'delta':'delta_local'})\n",
    "delta_dropouts = delta_df(pivot_2014_drop)\n",
    "delta_dropouts = delta_dropouts.rename(columns = {'delta':'delta_dropouts'})\n",
    "delta_regents = delta_df(pivot_2014_reg)\n",
    "delta_regents = delta_regents.rename(columns = {'delta':'delta_regents'})\n",
    "delta_total_grads = delta_df(pivot_2014_total)\n",
    "delta_total_grads=delta_total_grads.rename(columns = {'delta':'delta_total_grads'})\n",
    "delta_1 = pd.merge(delta_local,delta_dropouts, on = 'Demographic Variable')\n",
    "delta_2 = pd.merge(delta_1, delta_regents, on = 'Demographic Variable')\n",
    "delta_all = pd.merge(delta_2, delta_total_grads, on = 'Demographic Variable')\n",
    "print(delta_all)"
   ]
  },
  {
   "cell_type": "markdown",
   "metadata": {},
   "source": [
    "There has been a continual slight increase in the number of graduates, as well as a corresponding decrease in the number of dropouts, across most groups. But the number of Local diploma grads has increased across most groups, and the number of Regents diploma has remained the same or even decreased for most groups. \n",
    "\n",
    "Given that we have seen a larger increase in the number of local diplomas earned for Black and Latino students compared to white and asian students, if this trend were to continue, then a disproportionate number of Black and Latino students will be locked out of a high school diploma due to the elimination of the local diploma. "
   ]
  },
  {
   "cell_type": "code",
   "execution_count": 36,
   "metadata": {},
   "outputs": [
    {
     "name": "stdout",
     "output_type": "stream",
     "text": [
      "Cohort Year Demographic Variable  delta_local  avg rate of change\n",
      "0                   All Students         3.47                0.58\n",
      "1                          Asian         0.62                0.10\n",
      "2                          Black         3.42                0.57\n",
      "3                       Hispanic         4.18                0.70\n",
      "4                   Multi-Racial         0.52                0.09\n",
      "5                Native American        -5.97               -1.00\n",
      "6                          White         0.18                0.03\n"
     ]
    }
   ],
   "source": [
    "delta_local['avg rate of change']= round(delta_local['delta_local']/6,2)\n",
    "# dividing the number by 6 because there were six cohorts 2008-2013.\n",
    "print(delta_local)"
   ]
  },
  {
   "cell_type": "markdown",
   "metadata": {},
   "source": [
    "So if the trend continues, we can see an average increase of 0.57% of Black students and 0.70% of Hispanic students per year earning the Local diploma, a much faster rate of increase than other groups. However, through the elimination of the Local diploma, a good number of these students may be locked out of a diploma at all. "
   ]
  },
  {
   "cell_type": "code",
   "execution_count": 37,
   "metadata": {},
   "outputs": [
    {
     "name": "stdout",
     "output_type": "stream",
     "text": [
      "                      Local #\n",
      "Demographic Variable         \n",
      "All Students             4853\n",
      "Asian                     197\n",
      "Black                    1699\n",
      "Hispanic                 2340\n",
      "Multi-Racial                2\n",
      "Native American             8\n",
      "White                     359\n"
     ]
    }
   ],
   "source": [
    "data_2014_avail['Local #'] =data_2014_avail['Local #'].astype(int)\n",
    "cohort_2013 = data_2014_avail[data_2014_avail['Cohort Year']==2013]\n",
    "pivot_impact = cohort_2013.pivot_table(values = 'Local #',index ='Demographic Variable', aggfunc = 'sum')\n",
    "print(pivot_impact)"
   ]
  },
  {
   "cell_type": "markdown",
   "metadata": {},
   "source": [
    "For the 2013 cohort alone, 4,853 students earned a local diploma - 8.72% of the number of students in this cohort year. Without an alternative path to graduation or an intensified effort to earn students in the coming years a Regents diploma, this represents a growing percentage of students who will be locked out of completing their education in New York. \n",
    "\n",
    "We can see that there is a higher number (and higher percentage) of these students who are Black or Hispanic, and that the rate of change in earning a Local diploma is highest for these groups. Therefore, I believe there is substantial evidence to back up my hypothesis that these groups will be disproportionately negatively affected by the elimination of the Local Diploma. I sincerely hope that there are plans in place to bridge the gap between would-be Local diploma grads and a diploma for incoming classes, in order to ensure that all students have a better chance of successfully completing high school. \n"
   ]
  }
 ],
 "metadata": {
  "kernelspec": {
   "display_name": "Python 3",
   "language": "python",
   "name": "python3"
  },
  "language_info": {
   "codemirror_mode": {
    "name": "ipython",
    "version": 3
   },
   "file_extension": ".py",
   "mimetype": "text/x-python",
   "name": "python",
   "nbconvert_exporter": "python",
   "pygments_lexer": "ipython3",
   "version": "3.8.3"
  }
 },
 "nbformat": 4,
 "nbformat_minor": 4
}
