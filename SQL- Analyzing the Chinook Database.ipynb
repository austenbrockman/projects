{
 "cells": [
  {
   "cell_type": "markdown",
   "metadata": {},
   "source": [
    "# SQL: Chinook Database Problems \n",
    "\n",
    "This problem set is from Dataquest.io and utilizes the popular Chinook sample database. "
   ]
  },
  {
   "cell_type": "code",
   "execution_count": 1,
   "metadata": {},
   "outputs": [
    {
     "name": "stdout",
     "output_type": "stream",
     "text": [
      "ER Diagram of the Chinook Database:\n"
     ]
    },
    {
     "data": {
      "text/html": [
       "<img src=\"https://blog.xojo.com/wp-content/uploads/2016/04/ChinookDatabaseSchema1.1.png\"/>"
      ],
      "text/plain": [
       "<IPython.core.display.Image object>"
      ]
     },
     "execution_count": 1,
     "metadata": {},
     "output_type": "execute_result"
    }
   ],
   "source": [
    "from IPython.display import Image\n",
    "from IPython.core.display import HTML \n",
    "print(\"ER Diagram of the Chinook Database:\")\n",
    "Image(url= \"https://blog.xojo.com/wp-content/uploads/2016/04/ChinookDatabaseSchema1.1.png\")\n"
   ]
  },
  {
   "cell_type": "code",
   "execution_count": 2,
   "metadata": {},
   "outputs": [],
   "source": [
    "%%capture\n",
    "%load_ext sql\n",
    "%sql sqlite:///chinook.db"
   ]
  },
  {
   "cell_type": "markdown",
   "metadata": {},
   "source": [
    "## Task 1: Determining the Most Popular Music Genres in the USA"
   ]
  },
  {
   "cell_type": "code",
   "execution_count": 3,
   "metadata": {},
   "outputs": [
    {
     "name": "stdout",
     "output_type": "stream",
     "text": [
      " * sqlite:///chinook.db\n",
      "Done.\n"
     ]
    },
    {
     "data": {
      "text/html": [
       "<table>\n",
       "    <thead>\n",
       "        <tr>\n",
       "            <th>genre_name</th>\n",
       "            <th>num_sales</th>\n",
       "            <th>percent_sales</th>\n",
       "        </tr>\n",
       "    </thead>\n",
       "    <tbody>\n",
       "        <tr>\n",
       "            <td>Rock</td>\n",
       "            <td>561</td>\n",
       "            <td>53</td>\n",
       "        </tr>\n",
       "        <tr>\n",
       "            <td>Alternative &amp; Punk</td>\n",
       "            <td>130</td>\n",
       "            <td>12</td>\n",
       "        </tr>\n",
       "        <tr>\n",
       "            <td>Metal</td>\n",
       "            <td>124</td>\n",
       "            <td>11</td>\n",
       "        </tr>\n",
       "        <tr>\n",
       "            <td>R&amp;B/Soul</td>\n",
       "            <td>53</td>\n",
       "            <td>5</td>\n",
       "        </tr>\n",
       "        <tr>\n",
       "            <td>Blues</td>\n",
       "            <td>36</td>\n",
       "            <td>3</td>\n",
       "        </tr>\n",
       "        <tr>\n",
       "            <td>Alternative</td>\n",
       "            <td>35</td>\n",
       "            <td>3</td>\n",
       "        </tr>\n",
       "        <tr>\n",
       "            <td>Latin</td>\n",
       "            <td>22</td>\n",
       "            <td>2</td>\n",
       "        </tr>\n",
       "        <tr>\n",
       "            <td>Pop</td>\n",
       "            <td>22</td>\n",
       "            <td>2</td>\n",
       "        </tr>\n",
       "        <tr>\n",
       "            <td>Hip Hop/Rap</td>\n",
       "            <td>20</td>\n",
       "            <td>1</td>\n",
       "        </tr>\n",
       "        <tr>\n",
       "            <td>Jazz</td>\n",
       "            <td>14</td>\n",
       "            <td>1</td>\n",
       "        </tr>\n",
       "        <tr>\n",
       "            <td>Easy Listening</td>\n",
       "            <td>13</td>\n",
       "            <td>1</td>\n",
       "        </tr>\n",
       "        <tr>\n",
       "            <td>Reggae</td>\n",
       "            <td>6</td>\n",
       "            <td>0</td>\n",
       "        </tr>\n",
       "        <tr>\n",
       "            <td>Electronica/Dance</td>\n",
       "            <td>5</td>\n",
       "            <td>0</td>\n",
       "        </tr>\n",
       "        <tr>\n",
       "            <td>Classical</td>\n",
       "            <td>4</td>\n",
       "            <td>0</td>\n",
       "        </tr>\n",
       "        <tr>\n",
       "            <td>Heavy Metal</td>\n",
       "            <td>3</td>\n",
       "            <td>0</td>\n",
       "        </tr>\n",
       "        <tr>\n",
       "            <td>Soundtrack</td>\n",
       "            <td>2</td>\n",
       "            <td>0</td>\n",
       "        </tr>\n",
       "        <tr>\n",
       "            <td>TV Shows</td>\n",
       "            <td>1</td>\n",
       "            <td>0</td>\n",
       "        </tr>\n",
       "    </tbody>\n",
       "</table>"
      ],
      "text/plain": [
       "[('Rock', 561, 53),\n",
       " ('Alternative & Punk', 130, 12),\n",
       " ('Metal', 124, 11),\n",
       " ('R&B/Soul', 53, 5),\n",
       " ('Blues', 36, 3),\n",
       " ('Alternative', 35, 3),\n",
       " ('Latin', 22, 2),\n",
       " ('Pop', 22, 2),\n",
       " ('Hip Hop/Rap', 20, 1),\n",
       " ('Jazz', 14, 1),\n",
       " ('Easy Listening', 13, 1),\n",
       " ('Reggae', 6, 0),\n",
       " ('Electronica/Dance', 5, 0),\n",
       " ('Classical', 4, 0),\n",
       " ('Heavy Metal', 3, 0),\n",
       " ('Soundtrack', 2, 0),\n",
       " ('TV Shows', 1, 0)]"
      ]
     },
     "execution_count": 3,
     "metadata": {},
     "output_type": "execute_result"
    }
   ],
   "source": [
    "%%sql\n",
    "with t1 AS\n",
    "  (SELECT distinct g.name AS genre_name,\n",
    "                   count(t.track_id) AS num_sales\n",
    "   FROM invoice i\n",
    "   inner join invoice_line il\n",
    "     ON i.invoice_id = il.invoice_id\n",
    "   inner join track t\n",
    "     ON il.track_id = t.track_id\n",
    "   inner join genre g\n",
    "     ON t.genre_id = g.genre_id\n",
    "   WHERE billing_country = 'USA'\n",
    "   GROUP BY genre_name),\n",
    "     total_sales AS\n",
    "  (SELECT sum(num_sales) AS total\n",
    "   FROM t1)\n",
    "SELECT t1.genre_name,\n",
    "       t1.num_sales,\n",
    "       t1.num_sales*100/total_sales.total AS percent_sales\n",
    "FROM t1,\n",
    "     total_sales\n",
    "GROUP BY genre_name,\n",
    "         num_sales\n",
    "ORDER BY num_sales DESC;"
   ]
  },
  {
   "cell_type": "markdown",
   "metadata": {},
   "source": [
    "Chinook should focus on acquiring music in the Rock, Alt/Punk, and Metal genres; other genres do not sell nearly as well, so only top albums from these genres should be acquired. \n",
    "\n",
    "\n",
    "\n",
    "## Task 2: Determining Top-Performing Salesperson"
   ]
  },
  {
   "cell_type": "code",
   "execution_count": 4,
   "metadata": {},
   "outputs": [
    {
     "name": "stdout",
     "output_type": "stream",
     "text": [
      " * sqlite:///chinook.db\n",
      "Done.\n"
     ]
    },
    {
     "data": {
      "text/html": [
       "<table>\n",
       "    <thead>\n",
       "        <tr>\n",
       "            <th>employee_id</th>\n",
       "            <th>name</th>\n",
       "            <th>sales_amount</th>\n",
       "            <th>num_clients</th>\n",
       "            <th>sale_per_client</th>\n",
       "        </tr>\n",
       "    </thead>\n",
       "    <tbody>\n",
       "        <tr>\n",
       "            <td>3</td>\n",
       "            <td>Jane Peacock</td>\n",
       "            <td>1731.51</td>\n",
       "            <td>212</td>\n",
       "            <td>8.17</td>\n",
       "        </tr>\n",
       "        <tr>\n",
       "            <td>4</td>\n",
       "            <td>Margaret Park</td>\n",
       "            <td>1584.0</td>\n",
       "            <td>214</td>\n",
       "            <td>7.4</td>\n",
       "        </tr>\n",
       "        <tr>\n",
       "            <td>5</td>\n",
       "            <td>Steve Johnson</td>\n",
       "            <td>1393.92</td>\n",
       "            <td>188</td>\n",
       "            <td>7.41</td>\n",
       "        </tr>\n",
       "    </tbody>\n",
       "</table>"
      ],
      "text/plain": [
       "[(3, 'Jane Peacock', 1731.51, 212, 8.17),\n",
       " (4, 'Margaret Park', 1584.0, 214, 7.4),\n",
       " (5, 'Steve Johnson', 1393.92, 188, 7.41)]"
      ]
     },
     "execution_count": 4,
     "metadata": {},
     "output_type": "execute_result"
    }
   ],
   "source": [
    "%%sql\n",
    "\n",
    "SELECT \n",
    "    e.employee_id,\n",
    "    e.first_name || \" \" || e.last_name AS name,\n",
    "    round(sum(i.total),2) AS sales_amount,\n",
    "    count(c.customer_id) AS num_clients,\n",
    "    round(sum(i.total)/count(c.customer_id),2)  AS sale_per_client\n",
    "FROM employee e\n",
    "   inner join customer c\n",
    "     ON e.employee_id = c.support_rep_id\n",
    "    inner join invoice i\n",
    "     ON c.customer_id=i.customer_id\n",
    "    GROUP BY employee_id,\n",
    "            name"
   ]
  },
  {
   "cell_type": "markdown",
   "metadata": {},
   "source": [
    "Looking at raw sales numbers, it appears at first glance that Steve Johnson is the worst performing salesman. However, if you look at the number of clients that each salesperson has, it becomes clear that he has fewer clients than either of the women. His performance is on par with Margaret when you look at the amount each client is spending. So he is not the worst salesman - Jane is just the best."
   ]
  },
  {
   "cell_type": "markdown",
   "metadata": {
    "collapsed": true
   },
   "source": [
    "## Task 3: Comparing Sales Data by Country\n",
    "For the purposes of this analysis, all countries with only one customer will be grouped into the category \"other\". "
   ]
  },
  {
   "cell_type": "code",
   "execution_count": 5,
   "metadata": {},
   "outputs": [
    {
     "name": "stdout",
     "output_type": "stream",
     "text": [
      " * sqlite:///chinook.db\n",
      "Done.\n"
     ]
    },
    {
     "data": {
      "text/html": [
       "<table>\n",
       "    <thead>\n",
       "        <tr>\n",
       "            <th>country</th>\n",
       "            <th>num_customers</th>\n",
       "            <th>num_orders</th>\n",
       "            <th>orders_per_customer</th>\n",
       "            <th>total_sales</th>\n",
       "            <th>avg_cust_spend</th>\n",
       "            <th>avg_order_spend</th>\n",
       "        </tr>\n",
       "    </thead>\n",
       "    <tbody>\n",
       "        <tr>\n",
       "            <td>other</td>\n",
       "            <td>15</td>\n",
       "            <td>147</td>\n",
       "            <td>9.0</td>\n",
       "            <td>1094.94</td>\n",
       "            <td>73.0</td>\n",
       "            <td>7.92</td>\n",
       "        </tr>\n",
       "        <tr>\n",
       "            <td>USA</td>\n",
       "            <td>13</td>\n",
       "            <td>131</td>\n",
       "            <td>10.0</td>\n",
       "            <td>1040.49</td>\n",
       "            <td>80.04</td>\n",
       "            <td>7.94</td>\n",
       "        </tr>\n",
       "        <tr>\n",
       "            <td>Canada</td>\n",
       "            <td>8</td>\n",
       "            <td>76</td>\n",
       "            <td>9.0</td>\n",
       "            <td>535.59</td>\n",
       "            <td>66.95</td>\n",
       "            <td>7.05</td>\n",
       "        </tr>\n",
       "        <tr>\n",
       "            <td>Brazil</td>\n",
       "            <td>5</td>\n",
       "            <td>61</td>\n",
       "            <td>12.0</td>\n",
       "            <td>427.68</td>\n",
       "            <td>85.54</td>\n",
       "            <td>7.01</td>\n",
       "        </tr>\n",
       "        <tr>\n",
       "            <td>France</td>\n",
       "            <td>5</td>\n",
       "            <td>50</td>\n",
       "            <td>10.0</td>\n",
       "            <td>389.07</td>\n",
       "            <td>77.81</td>\n",
       "            <td>7.78</td>\n",
       "        </tr>\n",
       "        <tr>\n",
       "            <td>Germany</td>\n",
       "            <td>4</td>\n",
       "            <td>41</td>\n",
       "            <td>10.0</td>\n",
       "            <td>334.62</td>\n",
       "            <td>83.66</td>\n",
       "            <td>8.16</td>\n",
       "        </tr>\n",
       "        <tr>\n",
       "            <td>United Kingdom</td>\n",
       "            <td>3</td>\n",
       "            <td>28</td>\n",
       "            <td>9.0</td>\n",
       "            <td>245.52</td>\n",
       "            <td>81.84</td>\n",
       "            <td>8.77</td>\n",
       "        </tr>\n",
       "        <tr>\n",
       "            <td>Czech Republic</td>\n",
       "            <td>2</td>\n",
       "            <td>30</td>\n",
       "            <td>15.0</td>\n",
       "            <td>273.24</td>\n",
       "            <td>136.62</td>\n",
       "            <td>9.11</td>\n",
       "        </tr>\n",
       "        <tr>\n",
       "            <td>India</td>\n",
       "            <td>2</td>\n",
       "            <td>21</td>\n",
       "            <td>10.0</td>\n",
       "            <td>183.15</td>\n",
       "            <td>91.58</td>\n",
       "            <td>8.72</td>\n",
       "        </tr>\n",
       "        <tr>\n",
       "            <td>Portugal</td>\n",
       "            <td>2</td>\n",
       "            <td>29</td>\n",
       "            <td>14.0</td>\n",
       "            <td>185.13</td>\n",
       "            <td>92.57</td>\n",
       "            <td>6.38</td>\n",
       "        </tr>\n",
       "    </tbody>\n",
       "</table>"
      ],
      "text/plain": [
       "[('other', 15, 147, 9.0, 1094.94, 73.0, 7.92),\n",
       " ('USA', 13, 131, 10.0, 1040.49, 80.04, 7.94),\n",
       " ('Canada', 8, 76, 9.0, 535.59, 66.95, 7.05),\n",
       " ('Brazil', 5, 61, 12.0, 427.68, 85.54, 7.01),\n",
       " ('France', 5, 50, 10.0, 389.07, 77.81, 7.78),\n",
       " ('Germany', 4, 41, 10.0, 334.62, 83.66, 8.16),\n",
       " ('United Kingdom', 3, 28, 9.0, 245.52, 81.84, 8.77),\n",
       " ('Czech Republic', 2, 30, 15.0, 273.24, 136.62, 9.11),\n",
       " ('India', 2, 21, 10.0, 183.15, 91.58, 8.72),\n",
       " ('Portugal', 2, 29, 14.0, 185.13, 92.57, 6.38)]"
      ]
     },
     "execution_count": 5,
     "metadata": {},
     "output_type": "execute_result"
    }
   ],
   "source": [
    "%%sql\n",
    "with t1 AS\n",
    "  (SELECT billing_country AS country,\n",
    "          count(distinct customer_id) AS num_customers,\n",
    "          round(sum(total),2) AS total,\n",
    "          round(avg(total),2) AS avg_order_spend,\n",
    "          count(invoice_id) AS num_orders\n",
    "   FROM invoice\n",
    "   GROUP BY country\n",
    "   ORDER BY num_customers DESC),\n",
    "     t2 AS\n",
    "  (SELECT CASE\n",
    "              WHEN num_customers>1 then country\n",
    "              ELSE \"other\"\n",
    "          END country,\n",
    "          num_customers,\n",
    "          total,\n",
    "          avg_order_spend,\n",
    "          num_orders\n",
    "   FROM t1\n",
    "   GROUP BY country),\n",
    "     t3 AS\n",
    "  (SELECT country,\n",
    "          sum(num_customers) AS num_customers,\n",
    "          sum(total) AS total_sales,\n",
    "          avg_order_spend,\n",
    "          sum(num_orders) AS num_orders\n",
    "   FROM t2\n",
    "   GROUP BY t2.country)\n",
    "SELECT country,\n",
    "       num_customers,\n",
    "       num_orders,\n",
    "       round(num_orders/num_customers,2) AS orders_per_customer,\n",
    "       total_sales,\n",
    "       round(total_sales/num_customers,2) AS avg_cust_spend,\n",
    "       avg_order_spend\n",
    "FROM t3\n",
    "ORDER BY num_customers DESC;\n",
    "\n"
   ]
  },
  {
   "cell_type": "markdown",
   "metadata": {},
   "source": [
    "## Task 4: Album Purchase vs. Track Purchase\n",
    "\n",
    "We are trying to determine if it is worth it for Chinook to continue to acquire whole albums from the distributors. What is the return on investment? What percentage of purchases are whole albums, as opposed to individual tracks?\n",
    "\n",
    "**Note: Since a small number of albums contain only a few tracks (such as singles or EPs), we will be selecting only for full-length albums with five or more songs."
   ]
  },
  {
   "cell_type": "code",
   "execution_count": 6,
   "metadata": {},
   "outputs": [
    {
     "name": "stdout",
     "output_type": "stream",
     "text": [
      " * sqlite:///chinook.db\n",
      "Done.\n"
     ]
    },
    {
     "data": {
      "text/html": [
       "<table>\n",
       "    <thead>\n",
       "        <tr>\n",
       "            <th>purchase_type</th>\n",
       "            <th>num_invoices</th>\n",
       "            <th>percent</th>\n",
       "        </tr>\n",
       "    </thead>\n",
       "    <tbody>\n",
       "        <tr>\n",
       "            <td>Album</td>\n",
       "            <td>110</td>\n",
       "            <td>17</td>\n",
       "        </tr>\n",
       "        <tr>\n",
       "            <td>Tracks Only</td>\n",
       "            <td>504</td>\n",
       "            <td>82</td>\n",
       "        </tr>\n",
       "    </tbody>\n",
       "</table>"
      ],
      "text/plain": [
       "[('Album', 110, 17), ('Tracks Only', 504, 82)]"
      ]
     },
     "execution_count": 6,
     "metadata": {},
     "output_type": "execute_result"
    }
   ],
   "source": [
    "%%sql\n",
    "with album_length AS\n",
    "  (SELECT album_id,\n",
    "          count(track_id) AS length\n",
    "   FROM track\n",
    "   GROUP BY album_id),\n",
    "           album_info AS\n",
    "  (SELECT count(il.track_id) AS num_tracks_from_album,\n",
    "          ab.length,\n",
    "          t.album_id,\n",
    "          il.invoice_id\n",
    "   FROM track t\n",
    "   inner join invoice_line il\n",
    "     ON t.track_id = il.track_id\n",
    "   inner join album_length ab\n",
    "     ON ab.album_id = t.album_id\n",
    "   GROUP BY t.album_id,\n",
    "            il.invoice_id\n",
    "   ORDER BY invoice_id),\n",
    "           album_bool AS\n",
    "  (SELECT invoice_id,\n",
    "          CASE\n",
    "              WHEN num_tracks_from_album = length\n",
    "                   AND length>=5 then 1\n",
    "              ELSE 0\n",
    "          END album_t_f\n",
    "   FROM album_info),\n",
    "           album_bool_2 AS\n",
    "  (SELECT invoice_id,\n",
    "          sum(album_t_f) AS bool\n",
    "   FROM album_bool\n",
    "   GROUP BY invoice_id),\n",
    "           total_invoices AS\n",
    "  (SELECT count(distinct invoice_id) AS total\n",
    "   FROM album_bool)\n",
    "SELECT CASE\n",
    "           WHEN bool > 0 then 'Album'\n",
    "           ELSE 'Tracks Only'\n",
    "       END purchase_type,\n",
    "       count(invoice_id) AS num_invoices,\n",
    "       count(invoice_id)*100/total AS percent\n",
    "FROM album_bool_2,\n",
    "     total_invoices\n",
    "GROUP BY purchase_type"
   ]
  },
  {
   "cell_type": "markdown",
   "metadata": {},
   "source": [
    "When looking at the number of invoices that contain whole albums vs. only tracks, it is obvious that most purchases do not include whole albums. Still, 17% of sales *are* whole albums. To decide if it is a good investment to continue buying whole albums, I think it is worth it to look further into the sales numbers for both types of purchases. I'm going to modify my code to include purchase data in the query.\n"
   ]
  },
  {
   "cell_type": "code",
   "execution_count": 7,
   "metadata": {
    "scrolled": true
   },
   "outputs": [
    {
     "name": "stdout",
     "output_type": "stream",
     "text": [
      " * sqlite:///chinook.db\n",
      "Done.\n"
     ]
    },
    {
     "data": {
      "text/html": [
       "<table>\n",
       "    <thead>\n",
       "        <tr>\n",
       "            <th>purchase_type</th>\n",
       "            <th>num_invoices</th>\n",
       "            <th>percent_invoices</th>\n",
       "            <th>avg_invoice_amt</th>\n",
       "            <th>total_sales</th>\n",
       "            <th>percent_sales</th>\n",
       "        </tr>\n",
       "    </thead>\n",
       "    <tbody>\n",
       "        <tr>\n",
       "            <td>Album</td>\n",
       "            <td>110</td>\n",
       "            <td>17</td>\n",
       "            <td>13.23</td>\n",
       "            <td>1455.3</td>\n",
       "            <td>30.9</td>\n",
       "        </tr>\n",
       "        <tr>\n",
       "            <td>Tracks Only</td>\n",
       "            <td>504</td>\n",
       "            <td>82</td>\n",
       "            <td>6.46</td>\n",
       "            <td>3254.13</td>\n",
       "            <td>69.1</td>\n",
       "        </tr>\n",
       "    </tbody>\n",
       "</table>"
      ],
      "text/plain": [
       "[('Album', 110, 17, 13.23, 1455.3, 30.9),\n",
       " ('Tracks Only', 504, 82, 6.46, 3254.13, 69.1)]"
      ]
     },
     "execution_count": 7,
     "metadata": {},
     "output_type": "execute_result"
    }
   ],
   "source": [
    "%%sql with album_length AS\n",
    "  (SELECT album_id,\n",
    "          count(track_id) AS length\n",
    "   FROM track\n",
    "   GROUP BY album_id),\n",
    "           album_info AS\n",
    "  (SELECT count(il.track_id) AS num_tracks_from_album,\n",
    "          ab.length,\n",
    "          t.album_id,\n",
    "          il.invoice_id,\n",
    "          i.total AS invoice_total\n",
    "   FROM track t\n",
    "   inner join invoice_line il\n",
    "     ON t.track_id = il.track_id\n",
    "   inner join album_length ab\n",
    "     ON ab.album_id = t.album_id\n",
    "   inner join invoice i\n",
    "     ON il.invoice_id = i.invoice_id\n",
    "   GROUP BY t.album_id,\n",
    "            il.invoice_id,\n",
    "            i.total\n",
    "   ORDER BY il.invoice_id),\n",
    "           album_bool AS\n",
    "  (SELECT invoice_id,\n",
    "          invoice_total,\n",
    "          CASE\n",
    "              WHEN num_tracks_from_album = length\n",
    "                   AND length>=5 then 1\n",
    "              ELSE 0\n",
    "          END album_t_f\n",
    "   FROM album_info),\n",
    "           album_bool_2 AS\n",
    "  (SELECT invoice_id,\n",
    "          sum(album_t_f) AS bool,\n",
    "          invoice_total\n",
    "   FROM album_bool\n",
    "   GROUP BY invoice_id,\n",
    "            invoice_total),\n",
    "           total_invoices AS\n",
    "  (SELECT count(distinct invoice_id) AS total_num_invoices\n",
    "   FROM album_bool_2),\n",
    "           total_sale_amt AS\n",
    "  (SELECT sum(invoice_total) AS total_invoice_sales\n",
    "   FROM album_bool_2)\n",
    "SELECT CASE\n",
    "           WHEN bool > 0 then 'Album'\n",
    "           ELSE 'Tracks Only'\n",
    "       END purchase_type,\n",
    "       count(invoice_id) AS num_invoices,\n",
    "       count(invoice_id)*100/total_num_invoices AS percent_invoices,\n",
    "       round(avg(invoice_total),2) AS avg_invoice_amt,\n",
    "       round(sum(invoice_total),2) AS total_sales,\n",
    "       round(sum(invoice_total)*100/total_invoice_sales, 2) AS percent_sales\n",
    "FROM album_bool_2,\n",
    "     total_invoices,\n",
    "     total_sale_amt\n",
    "GROUP BY purchase_type"
   ]
  },
  {
   "cell_type": "markdown",
   "metadata": {},
   "source": [
    "Although album sales are only 17% of invoices, the average invoice amount for album purchases is double the amount of purchases without albums. Album purchases are almost 1/3 of total sales, despite being only 17% of the invoice count. Because of that disparity, Chinook may lose high-spending clients if they choose to stop buying whole albums from the distributor. Unless the company really needs to cut costs, I think it is a better idea to continue purchasing whole albums.\n"
   ]
  },
  {
   "cell_type": "code",
   "execution_count": null,
   "metadata": {},
   "outputs": [],
   "source": []
  }
 ],
 "metadata": {
  "kernelspec": {
   "display_name": "Python 3",
   "language": "python",
   "name": "python3"
  },
  "language_info": {
   "codemirror_mode": {
    "name": "ipython",
    "version": 3
   },
   "file_extension": ".py",
   "mimetype": "text/x-python",
   "name": "python",
   "nbconvert_exporter": "python",
   "pygments_lexer": "ipython3",
   "version": "3.8.3"
  }
 },
 "nbformat": 4,
 "nbformat_minor": 2
}
